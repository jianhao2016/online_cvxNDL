{
 "cells": [
  {
   "cell_type": "markdown",
   "metadata": {},
   "source": [
    "### Example"
   ]
  },
  {
   "cell_type": "code",
   "execution_count": 1,
   "metadata": {},
   "outputs": [
    {
     "data": {
      "image/png": "[encoded data removed]",
      "text/plain": [
       "<Figure size 900x600 with 4 Axes>"
      ]
     },
     "metadata": {
      "needs_background": "light"
     },
     "output_type": "display_data"
    }
   ],
   "source": [
    "import numpy as np\n",
    "import matplotlib.pyplot as plt\n",
    "import mpl_toolkits.axes_grid1 as axes_grid1\n",
    "np.random.seed(1)\n",
    "\n",
    "data = np.random.randint(0, 1000, (10, 10), )\n",
    "\n",
    "fig = plt.figure(dpi = 150)\n",
    "grid = axes_grid1.AxesGrid(\n",
    "    fig, 111, nrows_ncols=(1, 2), axes_pad = 0.5, cbar_location = \"right\",\n",
    "    cbar_mode=\"each\", cbar_size=\"15%\", cbar_pad=\"5%\",)\n",
    "\n",
    "im0 = grid[0].imshow(data > 500, cmap='gray', interpolation='nearest')\n",
    "grid.cbar_axes[0].colorbar(im0)\n",
    "\n",
    "im1 = grid[1].imshow(data, cmap='jet', interpolation='nearest')\n",
    "grid.cbar_axes[1].colorbar(im1)\n",
    "\n",
    "plt.show()\n",
    "plt.close()"
   ]
  },
  {
   "cell_type": "code",
   "execution_count": 2,
   "metadata": {},
   "outputs": [
    {
     "data": {
      "text/plain": [
       "array([[ 37, 235, 908,  72, 767, 905, 715, 645, 847, 960],\n",
       "       [144, 129, 972, 583, 749, 508, 390, 281, 178, 276],\n",
       "       [254, 357, 914, 468, 907, 252, 490, 668, 925, 398],\n",
       "       [562, 580, 215, 983, 753, 503, 478, 864,  86, 141],\n",
       "       [393,   7, 319, 829, 534, 313, 513, 896, 316, 209],\n",
       "       [264, 728, 653, 627, 431, 633, 456, 542,  71, 387],\n",
       "       [454, 917, 561, 313, 515, 964, 792, 497,  43, 588],\n",
       "       [ 26, 820, 336, 621, 883, 297, 466,  15,  64, 196],\n",
       "       [ 25, 367, 738, 471, 903, 282, 665, 616,  22, 777],\n",
       "       [707, 999, 126, 279, 381, 356, 155, 933, 313, 595]])"
      ]
     },
     "execution_count": 2,
     "metadata": {},
     "output_type": "execute_result"
    }
   ],
   "source": [
    "data"
   ]
  },
  {
   "cell_type": "markdown",
   "metadata": {},
   "source": [
    "----"
   ]
  },
  {
   "cell_type": "code",
   "execution_count": 3,
   "metadata": {},
   "outputs": [],
   "source": [
    "import pandas as pd\n",
    "import numpy as np\n",
    "import matplotlib.pyplot as plt\n",
    "import os\n",
    "import os.path as osp\n",
    "import networkx as nx\n",
    "\n",
    "import sys"
   ]
  },
  {
   "cell_type": "code",
   "execution_count": 4,
   "metadata": {},
   "outputs": [],
   "source": [
    "sys.path.append('../')"
   ]
  },
  {
   "cell_type": "code",
   "execution_count": 5,
   "metadata": {},
   "outputs": [],
   "source": [
    "from common_functions import eval_g_hat_with_DnX"
   ]
  },
  {
   "cell_type": "code",
   "execution_count": 6,
   "metadata": {},
   "outputs": [],
   "source": [
    "p2root = '../results_0905_logging/'\n",
    "K = 25\n",
    "version='Rr'\n",
    "iteration = 10000\n",
    "iid_sample = 20000\n",
    "chromo = 'chr2R'\n",
    "expr_name = f'{chromo}_drosophila_ChIA_Drop_0.1_PASS'\n",
    "prefix = f'{expr_name}_{iid_sample}_MCMC_pivot_K_{K}_iter_{iteration}'\n",
    "# prefix = f'{expr_name}_{iid_sample}_K_{K}_iter_{iteration}'\n",
    "# p2nmf_dict = osp.join(p2root, f'{prefix}_nmf_centroid_df')\n",
    "# p2cmf_dict = osp.join(p2root, f'{prefix}_cmf_centroid_df')\n",
    "# p2omf_dict = osp.join(p2root, f'{prefix}_omf_centroid_df')\n",
    "\n",
    "p2ocmf_dict = osp.join(p2root, f'{version}_{prefix}_ocmf_centroid_df')\n",
    "p2representative_regions = osp.join(p2root, f'{version}_{prefix}_x_hat_df')\n",
    "p2A_t = osp.join(p2root, f'A_t_{version}_{prefix}_ocmf.csv')\n",
    "p2W_hat = osp.join(p2root, f'W_hat_{version}_{prefix}_ocmf.csv')\n",
    "p2X = osp.join(p2root, f'{prefix}_X_df')"
   ]
  },
  {
   "cell_type": "code",
   "execution_count": 7,
   "metadata": {},
   "outputs": [
    {
     "data": {
      "text/plain": [
       "'../results_0905_logging/chr2R_drosophila_ChIA_Drop_0.1_PASS_20000_MCMC_pivot_K_25_iter_10000_X_df'"
      ]
     },
     "execution_count": 7,
     "metadata": {},
     "output_type": "execute_result"
    }
   ],
   "source": [
    "p2X"
   ]
  },
  {
   "cell_type": "code",
   "execution_count": 8,
   "metadata": {},
   "outputs": [],
   "source": [
    "X_df = pd.read_pickle(p2X)\n",
    "# nmf_dict = pd.read_pickle(p2nmf_dict)\n",
    "# cmf_dict = pd.read_pickle(p2cmf_dict)\n",
    "# omf_dict = pd.read_pickle(p2omf_dict)\n",
    "ocmf_dict = pd.read_pickle(p2ocmf_dict)\n",
    "rep_region = pd.read_pickle(p2representative_regions)"
   ]
  },
  {
   "cell_type": "code",
   "execution_count": 9,
   "metadata": {},
   "outputs": [],
   "source": [
    "W_hat = np.loadtxt(p2W_hat, delimiter=',')\n",
    "A_t = np.loadtxt(p2A_t, delimiter=',')"
   ]
  },
  {
   "cell_type": "code",
   "execution_count": 10,
   "metadata": {},
   "outputs": [
    {
     "data": {
      "text/plain": [
       "array([[1, 0, 0, ..., 0, 0, 0],\n",
       "       [1, 0, 0, ..., 0, 0, 0],\n",
       "       [1, 0, 0, ..., 0, 0, 0],\n",
       "       ...,\n",
       "       [0, 0, 0, ..., 0, 0, 1],\n",
       "       [0, 0, 0, ..., 0, 0, 1],\n",
       "       [0, 0, 0, ..., 0, 0, 1]])"
      ]
     },
     "execution_count": 10,
     "metadata": {},
     "output_type": "execute_result"
    }
   ],
   "source": [
    "(W_hat > 0).astype(int)"
   ]
  },
  {
   "cell_type": "code",
   "execution_count": 11,
   "metadata": {},
   "outputs": [
    {
     "data": {
      "text/plain": [
       "group 4     30\n",
       "group 13    27\n",
       "group 8     25\n",
       "group 3     25\n",
       "group 18    22\n",
       "group 23    21\n",
       "group 19    21\n",
       "group 2     17\n",
       "group 0     16\n",
       "group 1     13\n",
       "group 20    13\n",
       "group 6     12\n",
       "group 11    12\n",
       "group 9     11\n",
       "group 24    10\n",
       "group 10    10\n",
       "group 16    10\n",
       "group 22    10\n",
       "group 21    10\n",
       "group 12    10\n",
       "group 17    10\n",
       "group 5     10\n",
       "group 7     10\n",
       "group 15    10\n",
       "group 14    10\n",
       "Name: label, dtype: int64"
      ]
     },
     "execution_count": 11,
     "metadata": {},
     "output_type": "execute_result"
    }
   ],
   "source": [
    "rep_region.label.value_counts()"
   ]
  },
  {
   "cell_type": "markdown",
   "metadata": {},
   "source": [
    "## Read node embedding data for genome location"
   ]
  },
  {
   "cell_type": "code",
   "execution_count": 12,
   "metadata": {},
   "outputs": [],
   "source": [
    "# p2raw_data = '/data/shared/jianhao/online_cvxNDL_data/new_data_with_node_id/'\n",
    "# p2raw_data = '/data/shared/jianhao/online_cvxNDL_data/updated_0905_data_with_node_id/'\n",
    "\n",
    "# p2emb = osp.join(p2raw_data, f'df_{expr_name}_{iid_sample}_sample_node_matrix')\n",
    "# p2raw_data = osp.join(p2raw_data, f'df_{expr_name}_{iid_sample}')\n",
    "\n",
    "p2raw_data = '/data/shared/jianhao/online_cvxNDL_data/updated_0905_data_with_node_id'\n",
    "p2emb = osp.join(p2raw_data, f'df_{expr_name}_{iid_sample}_MCMC_pivot_sample_node_matrix')\n",
    "p2raw_data = osp.join(p2raw_data, f'df_{expr_name}_{iid_sample}_MCMC_pivot')"
   ]
  },
  {
   "cell_type": "code",
   "execution_count": 13,
   "metadata": {},
   "outputs": [],
   "source": [
    "df_node_all = pd.read_pickle(p2emb)\n",
    "df_subgraph_all = pd.read_pickle(p2raw_data).drop(columns = ['label'])\n",
    "# df_subgraph_all_old = pd.read_pickle(p2raw_data_old).drop(columns = ['label'])"
   ]
  },
  {
   "cell_type": "markdown",
   "metadata": {},
   "source": [
    "### check which dataset used in training.\n",
    "if use old subgraph, then subgraph may not have correponding node embeddings.\n"
   ]
  },
  {
   "cell_type": "code",
   "execution_count": 14,
   "metadata": {
    "scrolled": true
   },
   "outputs": [
    {
     "name": "stdout",
     "output_type": "stream",
     "text": [
      ">>> used new dataset with node embeddings. GOOD to go.\n"
     ]
    }
   ],
   "source": [
    "# if (X_df.values == df_subgraph_all_old.values).all():\n",
    "#     print('>>> used old dataset without node embedding!!!! Change later on.')\n",
    "#     df_raw_data = df_subgraph_all_old\n",
    "#     warning_flag = True\n",
    "#     df_raw_data_matched_emb = df_subgraph_all\n",
    "    \n",
    "if (X_df.values == df_subgraph_all.values).all():\n",
    "    print('>>> used new dataset with node embeddings. GOOD to go.')\n",
    "    df_raw_data = df_subgraph_all\n",
    "    warning_flag = False\n",
    "    df_raw_data_matched_emb = df_subgraph_all"
   ]
  },
  {
   "cell_type": "markdown",
   "metadata": {},
   "source": [
    "### 1. df_raw_data will always be the input data. So df_rep.isin(df_raw_data) == True. \n",
    "only case is that when used old data:\n",
    "\n",
    "=> **df_node_emb** and **df_raw_data** does not match. \n",
    "\n",
    "### 2. df_raw_data_matched_emb will always matched the node embedding"
   ]
  },
  {
   "cell_type": "code",
   "execution_count": 15,
   "metadata": {},
   "outputs": [
    {
     "data": {
      "text/html": [
       "<div>\n",
       "<style scoped>\n",
       "    .dataframe tbody tr th:only-of-type {\n",
       "        vertical-align: middle;\n",
       "    }\n",
       "\n",
       "    .dataframe tbody tr th {\n",
       "        vertical-align: top;\n",
       "    }\n",
       "\n",
       "    .dataframe thead th {\n",
       "        text-align: right;\n",
       "    }\n",
       "</style>\n",
       "<table border=\"1\" class=\"dataframe\">\n",
       "  <thead>\n",
       "    <tr style=\"text-align: right;\">\n",
       "      <th></th>\n",
       "      <th>node_0</th>\n",
       "      <th>node_1</th>\n",
       "      <th>node_2</th>\n",
       "      <th>node_3</th>\n",
       "      <th>node_4</th>\n",
       "      <th>node_5</th>\n",
       "      <th>node_6</th>\n",
       "      <th>node_7</th>\n",
       "      <th>node_8</th>\n",
       "      <th>node_9</th>\n",
       "      <th>...</th>\n",
       "      <th>node_11</th>\n",
       "      <th>node_12</th>\n",
       "      <th>node_13</th>\n",
       "      <th>node_14</th>\n",
       "      <th>node_15</th>\n",
       "      <th>node_16</th>\n",
       "      <th>node_17</th>\n",
       "      <th>node_18</th>\n",
       "      <th>node_19</th>\n",
       "      <th>node_20</th>\n",
       "    </tr>\n",
       "  </thead>\n",
       "  <tbody>\n",
       "    <tr>\n",
       "      <th>0</th>\n",
       "      <td>V34307</td>\n",
       "      <td>V23565</td>\n",
       "      <td>V5042</td>\n",
       "      <td>V22322</td>\n",
       "      <td>V5042</td>\n",
       "      <td>V8987</td>\n",
       "      <td>V1726</td>\n",
       "      <td>V5042</td>\n",
       "      <td>V33918</td>\n",
       "      <td>V5042</td>\n",
       "      <td>...</td>\n",
       "      <td>V36778</td>\n",
       "      <td>V12829</td>\n",
       "      <td>V12844</td>\n",
       "      <td>V39094</td>\n",
       "      <td>V18448</td>\n",
       "      <td>V39094</td>\n",
       "      <td>V12844</td>\n",
       "      <td>V5114</td>\n",
       "      <td>V12844</td>\n",
       "      <td>V12993</td>\n",
       "    </tr>\n",
       "    <tr>\n",
       "      <th>1</th>\n",
       "      <td>V36450</td>\n",
       "      <td>V36179</td>\n",
       "      <td>V36450</td>\n",
       "      <td>V36179</td>\n",
       "      <td>V36450</td>\n",
       "      <td>V36179</td>\n",
       "      <td>V33947</td>\n",
       "      <td>V17514</td>\n",
       "      <td>V10326</td>\n",
       "      <td>V41713</td>\n",
       "      <td>...</td>\n",
       "      <td>V15031</td>\n",
       "      <td>V29939</td>\n",
       "      <td>V15031</td>\n",
       "      <td>V15042</td>\n",
       "      <td>V21475</td>\n",
       "      <td>V15042</td>\n",
       "      <td>V15072</td>\n",
       "      <td>V22359</td>\n",
       "      <td>V28058</td>\n",
       "      <td>V30979</td>\n",
       "    </tr>\n",
       "    <tr>\n",
       "      <th>2</th>\n",
       "      <td>V36450</td>\n",
       "      <td>V36179</td>\n",
       "      <td>V33947</td>\n",
       "      <td>V29866</td>\n",
       "      <td>V33947</td>\n",
       "      <td>V8991</td>\n",
       "      <td>V34045</td>\n",
       "      <td>V8125</td>\n",
       "      <td>V39561</td>\n",
       "      <td>V39515</td>\n",
       "      <td>...</td>\n",
       "      <td>V13395</td>\n",
       "      <td>V32431</td>\n",
       "      <td>V41702</td>\n",
       "      <td>V1236</td>\n",
       "      <td>V28106</td>\n",
       "      <td>V34782</td>\n",
       "      <td>V34790</td>\n",
       "      <td>V9673</td>\n",
       "      <td>V20209</td>\n",
       "      <td>V12537</td>\n",
       "    </tr>\n",
       "    <tr>\n",
       "      <th>3</th>\n",
       "      <td>V3812</td>\n",
       "      <td>V15042</td>\n",
       "      <td>V15072</td>\n",
       "      <td>V15042</td>\n",
       "      <td>V993</td>\n",
       "      <td>V23634</td>\n",
       "      <td>V993</td>\n",
       "      <td>V23634</td>\n",
       "      <td>V4040</td>\n",
       "      <td>V10880</td>\n",
       "      <td>...</td>\n",
       "      <td>V15563</td>\n",
       "      <td>V35206</td>\n",
       "      <td>V12094</td>\n",
       "      <td>V23532</td>\n",
       "      <td>V23546</td>\n",
       "      <td>V23554</td>\n",
       "      <td>V23615</td>\n",
       "      <td>V17762</td>\n",
       "      <td>V17515</td>\n",
       "      <td>V6686</td>\n",
       "    </tr>\n",
       "    <tr>\n",
       "      <th>4</th>\n",
       "      <td>V21518</td>\n",
       "      <td>V13497</td>\n",
       "      <td>V14562</td>\n",
       "      <td>V13525</td>\n",
       "      <td>V23566</td>\n",
       "      <td>V20291</td>\n",
       "      <td>V30234</td>\n",
       "      <td>V10643</td>\n",
       "      <td>V30234</td>\n",
       "      <td>V35216</td>\n",
       "      <td>...</td>\n",
       "      <td>V35216</td>\n",
       "      <td>V39903</td>\n",
       "      <td>V39888</td>\n",
       "      <td>V2982</td>\n",
       "      <td>V39903</td>\n",
       "      <td>V5801</td>\n",
       "      <td>V34067</td>\n",
       "      <td>V14278</td>\n",
       "      <td>V11899</td>\n",
       "      <td>V11936</td>\n",
       "    </tr>\n",
       "    <tr>\n",
       "      <th>...</th>\n",
       "      <td>...</td>\n",
       "      <td>...</td>\n",
       "      <td>...</td>\n",
       "      <td>...</td>\n",
       "      <td>...</td>\n",
       "      <td>...</td>\n",
       "      <td>...</td>\n",
       "      <td>...</td>\n",
       "      <td>...</td>\n",
       "      <td>...</td>\n",
       "      <td>...</td>\n",
       "      <td>...</td>\n",
       "      <td>...</td>\n",
       "      <td>...</td>\n",
       "      <td>...</td>\n",
       "      <td>...</td>\n",
       "      <td>...</td>\n",
       "      <td>...</td>\n",
       "      <td>...</td>\n",
       "      <td>...</td>\n",
       "      <td>...</td>\n",
       "    </tr>\n",
       "    <tr>\n",
       "      <th>19995</th>\n",
       "      <td>V37023</td>\n",
       "      <td>V32402</td>\n",
       "      <td>V32353</td>\n",
       "      <td>V32402</td>\n",
       "      <td>V4064</td>\n",
       "      <td>V40812</td>\n",
       "      <td>V4064</td>\n",
       "      <td>V8599</td>\n",
       "      <td>V10815</td>\n",
       "      <td>V10850</td>\n",
       "      <td>...</td>\n",
       "      <td>V10850</td>\n",
       "      <td>V10700</td>\n",
       "      <td>V10796</td>\n",
       "      <td>V10326</td>\n",
       "      <td>V27598</td>\n",
       "      <td>V10326</td>\n",
       "      <td>V809</td>\n",
       "      <td>V16122</td>\n",
       "      <td>V10601</td>\n",
       "      <td>V12837</td>\n",
       "    </tr>\n",
       "    <tr>\n",
       "      <th>19996</th>\n",
       "      <td>V37620</td>\n",
       "      <td>V12976</td>\n",
       "      <td>V30626</td>\n",
       "      <td>V12304</td>\n",
       "      <td>V30626</td>\n",
       "      <td>V37620</td>\n",
       "      <td>V30721</td>\n",
       "      <td>V12831</td>\n",
       "      <td>V14220</td>\n",
       "      <td>V20871</td>\n",
       "      <td>...</td>\n",
       "      <td>V38669</td>\n",
       "      <td>V14220</td>\n",
       "      <td>V12831</td>\n",
       "      <td>V14220</td>\n",
       "      <td>V30625</td>\n",
       "      <td>V6838</td>\n",
       "      <td>V30235</td>\n",
       "      <td>V22674</td>\n",
       "      <td>V30235</td>\n",
       "      <td>V31110</td>\n",
       "    </tr>\n",
       "    <tr>\n",
       "      <th>19997</th>\n",
       "      <td>V7427</td>\n",
       "      <td>V39513</td>\n",
       "      <td>V19626</td>\n",
       "      <td>V30358</td>\n",
       "      <td>V11502</td>\n",
       "      <td>V32266</td>\n",
       "      <td>V24919</td>\n",
       "      <td>V20591</td>\n",
       "      <td>V24919</td>\n",
       "      <td>V4284</td>\n",
       "      <td>...</td>\n",
       "      <td>V32953</td>\n",
       "      <td>V3149</td>\n",
       "      <td>V24919</td>\n",
       "      <td>V20800</td>\n",
       "      <td>V19702</td>\n",
       "      <td>V40956</td>\n",
       "      <td>V11827</td>\n",
       "      <td>V25109</td>\n",
       "      <td>V25119</td>\n",
       "      <td>V27062</td>\n",
       "    </tr>\n",
       "    <tr>\n",
       "      <th>19998</th>\n",
       "      <td>V33656</td>\n",
       "      <td>V20125</td>\n",
       "      <td>V24230</td>\n",
       "      <td>V12862</td>\n",
       "      <td>V8998</td>\n",
       "      <td>V29112</td>\n",
       "      <td>V41690</td>\n",
       "      <td>V41701</td>\n",
       "      <td>V27695</td>\n",
       "      <td>V6956</td>\n",
       "      <td>...</td>\n",
       "      <td>V6956</td>\n",
       "      <td>V6986</td>\n",
       "      <td>V17526</td>\n",
       "      <td>V34066</td>\n",
       "      <td>V25830</td>\n",
       "      <td>V41849</td>\n",
       "      <td>V27489</td>\n",
       "      <td>V28043</td>\n",
       "      <td>V29127</td>\n",
       "      <td>V29091</td>\n",
       "    </tr>\n",
       "    <tr>\n",
       "      <th>19999</th>\n",
       "      <td>V8127</td>\n",
       "      <td>V38554</td>\n",
       "      <td>V7700</td>\n",
       "      <td>V29159</td>\n",
       "      <td>V30536</td>\n",
       "      <td>V29427</td>\n",
       "      <td>V34066</td>\n",
       "      <td>V12879</td>\n",
       "      <td>V19567</td>\n",
       "      <td>V12879</td>\n",
       "      <td>...</td>\n",
       "      <td>V12877</td>\n",
       "      <td>V12835</td>\n",
       "      <td>V12912</td>\n",
       "      <td>V11408</td>\n",
       "      <td>V25489</td>\n",
       "      <td>V25479</td>\n",
       "      <td>V25489</td>\n",
       "      <td>V24445</td>\n",
       "      <td>V25489</td>\n",
       "      <td>V3057</td>\n",
       "    </tr>\n",
       "  </tbody>\n",
       "</table>\n",
       "<p>20000 rows × 21 columns</p>\n",
       "</div>"
      ],
      "text/plain": [
       "       node_0  node_1  node_2  node_3  node_4  node_5  node_6  node_7  node_8  \\\n",
       "0      V34307  V23565   V5042  V22322   V5042   V8987   V1726   V5042  V33918   \n",
       "1      V36450  V36179  V36450  V36179  V36450  V36179  V33947  V17514  V10326   \n",
       "2      V36450  V36179  V33947  V29866  V33947   V8991  V34045   V8125  V39561   \n",
       "3       V3812  V15042  V15072  V15042    V993  V23634    V993  V23634   V4040   \n",
       "4      V21518  V13497  V14562  V13525  V23566  V20291  V30234  V10643  V30234   \n",
       "...       ...     ...     ...     ...     ...     ...     ...     ...     ...   \n",
       "19995  V37023  V32402  V32353  V32402   V4064  V40812   V4064   V8599  V10815   \n",
       "19996  V37620  V12976  V30626  V12304  V30626  V37620  V30721  V12831  V14220   \n",
       "19997   V7427  V39513  V19626  V30358  V11502  V32266  V24919  V20591  V24919   \n",
       "19998  V33656  V20125  V24230  V12862   V8998  V29112  V41690  V41701  V27695   \n",
       "19999   V8127  V38554   V7700  V29159  V30536  V29427  V34066  V12879  V19567   \n",
       "\n",
       "       node_9  ... node_11 node_12 node_13 node_14 node_15 node_16 node_17  \\\n",
       "0       V5042  ...  V36778  V12829  V12844  V39094  V18448  V39094  V12844   \n",
       "1      V41713  ...  V15031  V29939  V15031  V15042  V21475  V15042  V15072   \n",
       "2      V39515  ...  V13395  V32431  V41702   V1236  V28106  V34782  V34790   \n",
       "3      V10880  ...  V15563  V35206  V12094  V23532  V23546  V23554  V23615   \n",
       "4      V35216  ...  V35216  V39903  V39888   V2982  V39903   V5801  V34067   \n",
       "...       ...  ...     ...     ...     ...     ...     ...     ...     ...   \n",
       "19995  V10850  ...  V10850  V10700  V10796  V10326  V27598  V10326    V809   \n",
       "19996  V20871  ...  V38669  V14220  V12831  V14220  V30625   V6838  V30235   \n",
       "19997   V4284  ...  V32953   V3149  V24919  V20800  V19702  V40956  V11827   \n",
       "19998   V6956  ...   V6956   V6986  V17526  V34066  V25830  V41849  V27489   \n",
       "19999  V12879  ...  V12877  V12835  V12912  V11408  V25489  V25479  V25489   \n",
       "\n",
       "      node_18 node_19 node_20  \n",
       "0       V5114  V12844  V12993  \n",
       "1      V22359  V28058  V30979  \n",
       "2       V9673  V20209  V12537  \n",
       "3      V17762  V17515   V6686  \n",
       "4      V14278  V11899  V11936  \n",
       "...       ...     ...     ...  \n",
       "19995  V16122  V10601  V12837  \n",
       "19996  V22674  V30235  V31110  \n",
       "19997  V25109  V25119  V27062  \n",
       "19998  V28043  V29127  V29091  \n",
       "19999  V24445  V25489   V3057  \n",
       "\n",
       "[20000 rows x 21 columns]"
      ]
     },
     "execution_count": 15,
     "metadata": {},
     "output_type": "execute_result"
    }
   ],
   "source": [
    "df_node_all"
   ]
  },
  {
   "cell_type": "code",
   "execution_count": 16,
   "metadata": {},
   "outputs": [
    {
     "data": {
      "text/html": [
       "<div>\n",
       "<style scoped>\n",
       "    .dataframe tbody tr th:only-of-type {\n",
       "        vertical-align: middle;\n",
       "    }\n",
       "\n",
       "    .dataframe tbody tr th {\n",
       "        vertical-align: top;\n",
       "    }\n",
       "\n",
       "    .dataframe thead th {\n",
       "        text-align: right;\n",
       "    }\n",
       "</style>\n",
       "<table border=\"1\" class=\"dataframe\">\n",
       "  <thead>\n",
       "    <tr style=\"text-align: right;\">\n",
       "      <th></th>\n",
       "      <th>Principle component 0</th>\n",
       "      <th>Principle component 1</th>\n",
       "      <th>Principle component 2</th>\n",
       "      <th>Principle component 3</th>\n",
       "      <th>Principle component 4</th>\n",
       "      <th>Principle component 5</th>\n",
       "      <th>Principle component 6</th>\n",
       "      <th>Principle component 7</th>\n",
       "      <th>Principle component 8</th>\n",
       "      <th>Principle component 9</th>\n",
       "      <th>...</th>\n",
       "      <th>Principle component 431</th>\n",
       "      <th>Principle component 432</th>\n",
       "      <th>Principle component 433</th>\n",
       "      <th>Principle component 434</th>\n",
       "      <th>Principle component 435</th>\n",
       "      <th>Principle component 436</th>\n",
       "      <th>Principle component 437</th>\n",
       "      <th>Principle component 438</th>\n",
       "      <th>Principle component 439</th>\n",
       "      <th>Principle component 440</th>\n",
       "    </tr>\n",
       "  </thead>\n",
       "  <tbody>\n",
       "    <tr>\n",
       "      <th>0</th>\n",
       "      <td>0.0</td>\n",
       "      <td>1.0</td>\n",
       "      <td>0.0</td>\n",
       "      <td>0.0</td>\n",
       "      <td>0.0</td>\n",
       "      <td>0.0</td>\n",
       "      <td>0.0</td>\n",
       "      <td>0.0</td>\n",
       "      <td>0.0</td>\n",
       "      <td>0.0</td>\n",
       "      <td>...</td>\n",
       "      <td>0.0</td>\n",
       "      <td>0.0</td>\n",
       "      <td>1.0</td>\n",
       "      <td>0.0</td>\n",
       "      <td>0.0</td>\n",
       "      <td>0.0</td>\n",
       "      <td>1.0</td>\n",
       "      <td>0.0</td>\n",
       "      <td>1.0</td>\n",
       "      <td>0.0</td>\n",
       "    </tr>\n",
       "    <tr>\n",
       "      <th>1</th>\n",
       "      <td>0.0</td>\n",
       "      <td>1.0</td>\n",
       "      <td>0.0</td>\n",
       "      <td>1.0</td>\n",
       "      <td>0.0</td>\n",
       "      <td>1.0</td>\n",
       "      <td>1.0</td>\n",
       "      <td>0.0</td>\n",
       "      <td>0.0</td>\n",
       "      <td>0.0</td>\n",
       "      <td>...</td>\n",
       "      <td>0.0</td>\n",
       "      <td>0.0</td>\n",
       "      <td>0.0</td>\n",
       "      <td>0.0</td>\n",
       "      <td>0.0</td>\n",
       "      <td>0.0</td>\n",
       "      <td>0.0</td>\n",
       "      <td>0.0</td>\n",
       "      <td>1.0</td>\n",
       "      <td>0.0</td>\n",
       "    </tr>\n",
       "    <tr>\n",
       "      <th>2</th>\n",
       "      <td>0.0</td>\n",
       "      <td>1.0</td>\n",
       "      <td>1.0</td>\n",
       "      <td>0.0</td>\n",
       "      <td>1.0</td>\n",
       "      <td>0.0</td>\n",
       "      <td>0.0</td>\n",
       "      <td>0.0</td>\n",
       "      <td>0.0</td>\n",
       "      <td>0.0</td>\n",
       "      <td>...</td>\n",
       "      <td>0.0</td>\n",
       "      <td>0.0</td>\n",
       "      <td>0.0</td>\n",
       "      <td>0.0</td>\n",
       "      <td>0.0</td>\n",
       "      <td>0.0</td>\n",
       "      <td>0.0</td>\n",
       "      <td>0.0</td>\n",
       "      <td>1.0</td>\n",
       "      <td>0.0</td>\n",
       "    </tr>\n",
       "    <tr>\n",
       "      <th>3</th>\n",
       "      <td>0.0</td>\n",
       "      <td>1.0</td>\n",
       "      <td>0.0</td>\n",
       "      <td>1.0</td>\n",
       "      <td>0.0</td>\n",
       "      <td>0.0</td>\n",
       "      <td>0.0</td>\n",
       "      <td>0.0</td>\n",
       "      <td>0.0</td>\n",
       "      <td>0.0</td>\n",
       "      <td>...</td>\n",
       "      <td>0.0</td>\n",
       "      <td>0.0</td>\n",
       "      <td>0.0</td>\n",
       "      <td>0.0</td>\n",
       "      <td>0.0</td>\n",
       "      <td>0.0</td>\n",
       "      <td>0.0</td>\n",
       "      <td>0.0</td>\n",
       "      <td>1.0</td>\n",
       "      <td>0.0</td>\n",
       "    </tr>\n",
       "    <tr>\n",
       "      <th>4</th>\n",
       "      <td>0.0</td>\n",
       "      <td>1.0</td>\n",
       "      <td>0.0</td>\n",
       "      <td>0.0</td>\n",
       "      <td>0.0</td>\n",
       "      <td>0.0</td>\n",
       "      <td>0.0</td>\n",
       "      <td>0.0</td>\n",
       "      <td>0.0</td>\n",
       "      <td>0.0</td>\n",
       "      <td>...</td>\n",
       "      <td>0.0</td>\n",
       "      <td>0.0</td>\n",
       "      <td>0.0</td>\n",
       "      <td>0.0</td>\n",
       "      <td>0.0</td>\n",
       "      <td>0.0</td>\n",
       "      <td>0.0</td>\n",
       "      <td>0.0</td>\n",
       "      <td>1.0</td>\n",
       "      <td>0.0</td>\n",
       "    </tr>\n",
       "    <tr>\n",
       "      <th>...</th>\n",
       "      <td>...</td>\n",
       "      <td>...</td>\n",
       "      <td>...</td>\n",
       "      <td>...</td>\n",
       "      <td>...</td>\n",
       "      <td>...</td>\n",
       "      <td>...</td>\n",
       "      <td>...</td>\n",
       "      <td>...</td>\n",
       "      <td>...</td>\n",
       "      <td>...</td>\n",
       "      <td>...</td>\n",
       "      <td>...</td>\n",
       "      <td>...</td>\n",
       "      <td>...</td>\n",
       "      <td>...</td>\n",
       "      <td>...</td>\n",
       "      <td>...</td>\n",
       "      <td>...</td>\n",
       "      <td>...</td>\n",
       "      <td>...</td>\n",
       "    </tr>\n",
       "    <tr>\n",
       "      <th>19995</th>\n",
       "      <td>0.0</td>\n",
       "      <td>1.0</td>\n",
       "      <td>0.0</td>\n",
       "      <td>1.0</td>\n",
       "      <td>0.0</td>\n",
       "      <td>0.0</td>\n",
       "      <td>0.0</td>\n",
       "      <td>0.0</td>\n",
       "      <td>0.0</td>\n",
       "      <td>0.0</td>\n",
       "      <td>...</td>\n",
       "      <td>0.0</td>\n",
       "      <td>0.0</td>\n",
       "      <td>0.0</td>\n",
       "      <td>0.0</td>\n",
       "      <td>0.0</td>\n",
       "      <td>0.0</td>\n",
       "      <td>0.0</td>\n",
       "      <td>0.0</td>\n",
       "      <td>1.0</td>\n",
       "      <td>0.0</td>\n",
       "    </tr>\n",
       "    <tr>\n",
       "      <th>19996</th>\n",
       "      <td>0.0</td>\n",
       "      <td>1.0</td>\n",
       "      <td>1.0</td>\n",
       "      <td>0.0</td>\n",
       "      <td>1.0</td>\n",
       "      <td>0.0</td>\n",
       "      <td>1.0</td>\n",
       "      <td>0.0</td>\n",
       "      <td>0.0</td>\n",
       "      <td>0.0</td>\n",
       "      <td>...</td>\n",
       "      <td>0.0</td>\n",
       "      <td>0.0</td>\n",
       "      <td>0.0</td>\n",
       "      <td>0.0</td>\n",
       "      <td>0.0</td>\n",
       "      <td>0.0</td>\n",
       "      <td>1.0</td>\n",
       "      <td>0.0</td>\n",
       "      <td>1.0</td>\n",
       "      <td>0.0</td>\n",
       "    </tr>\n",
       "    <tr>\n",
       "      <th>19997</th>\n",
       "      <td>0.0</td>\n",
       "      <td>1.0</td>\n",
       "      <td>0.0</td>\n",
       "      <td>0.0</td>\n",
       "      <td>0.0</td>\n",
       "      <td>0.0</td>\n",
       "      <td>0.0</td>\n",
       "      <td>0.0</td>\n",
       "      <td>0.0</td>\n",
       "      <td>0.0</td>\n",
       "      <td>...</td>\n",
       "      <td>0.0</td>\n",
       "      <td>0.0</td>\n",
       "      <td>0.0</td>\n",
       "      <td>0.0</td>\n",
       "      <td>0.0</td>\n",
       "      <td>0.0</td>\n",
       "      <td>1.0</td>\n",
       "      <td>1.0</td>\n",
       "      <td>1.0</td>\n",
       "      <td>0.0</td>\n",
       "    </tr>\n",
       "    <tr>\n",
       "      <th>19998</th>\n",
       "      <td>0.0</td>\n",
       "      <td>1.0</td>\n",
       "      <td>0.0</td>\n",
       "      <td>0.0</td>\n",
       "      <td>0.0</td>\n",
       "      <td>0.0</td>\n",
       "      <td>0.0</td>\n",
       "      <td>0.0</td>\n",
       "      <td>0.0</td>\n",
       "      <td>0.0</td>\n",
       "      <td>...</td>\n",
       "      <td>0.0</td>\n",
       "      <td>0.0</td>\n",
       "      <td>0.0</td>\n",
       "      <td>0.0</td>\n",
       "      <td>0.0</td>\n",
       "      <td>0.0</td>\n",
       "      <td>0.0</td>\n",
       "      <td>0.0</td>\n",
       "      <td>1.0</td>\n",
       "      <td>0.0</td>\n",
       "    </tr>\n",
       "    <tr>\n",
       "      <th>19999</th>\n",
       "      <td>0.0</td>\n",
       "      <td>1.0</td>\n",
       "      <td>1.0</td>\n",
       "      <td>0.0</td>\n",
       "      <td>0.0</td>\n",
       "      <td>0.0</td>\n",
       "      <td>0.0</td>\n",
       "      <td>0.0</td>\n",
       "      <td>0.0</td>\n",
       "      <td>0.0</td>\n",
       "      <td>...</td>\n",
       "      <td>0.0</td>\n",
       "      <td>0.0</td>\n",
       "      <td>0.0</td>\n",
       "      <td>0.0</td>\n",
       "      <td>1.0</td>\n",
       "      <td>0.0</td>\n",
       "      <td>1.0</td>\n",
       "      <td>0.0</td>\n",
       "      <td>1.0</td>\n",
       "      <td>0.0</td>\n",
       "    </tr>\n",
       "  </tbody>\n",
       "</table>\n",
       "<p>20000 rows × 441 columns</p>\n",
       "</div>"
      ],
      "text/plain": [
       "       Principle component 0  Principle component 1  Principle component 2  \\\n",
       "0                        0.0                    1.0                    0.0   \n",
       "1                        0.0                    1.0                    0.0   \n",
       "2                        0.0                    1.0                    1.0   \n",
       "3                        0.0                    1.0                    0.0   \n",
       "4                        0.0                    1.0                    0.0   \n",
       "...                      ...                    ...                    ...   \n",
       "19995                    0.0                    1.0                    0.0   \n",
       "19996                    0.0                    1.0                    1.0   \n",
       "19997                    0.0                    1.0                    0.0   \n",
       "19998                    0.0                    1.0                    0.0   \n",
       "19999                    0.0                    1.0                    1.0   \n",
       "\n",
       "       Principle component 3  Principle component 4  Principle component 5  \\\n",
       "0                        0.0                    0.0                    0.0   \n",
       "1                        1.0                    0.0                    1.0   \n",
       "2                        0.0                    1.0                    0.0   \n",
       "3                        1.0                    0.0                    0.0   \n",
       "4                        0.0                    0.0                    0.0   \n",
       "...                      ...                    ...                    ...   \n",
       "19995                    1.0                    0.0                    0.0   \n",
       "19996                    0.0                    1.0                    0.0   \n",
       "19997                    0.0                    0.0                    0.0   \n",
       "19998                    0.0                    0.0                    0.0   \n",
       "19999                    0.0                    0.0                    0.0   \n",
       "\n",
       "       Principle component 6  Principle component 7  Principle component 8  \\\n",
       "0                        0.0                    0.0                    0.0   \n",
       "1                        1.0                    0.0                    0.0   \n",
       "2                        0.0                    0.0                    0.0   \n",
       "3                        0.0                    0.0                    0.0   \n",
       "4                        0.0                    0.0                    0.0   \n",
       "...                      ...                    ...                    ...   \n",
       "19995                    0.0                    0.0                    0.0   \n",
       "19996                    1.0                    0.0                    0.0   \n",
       "19997                    0.0                    0.0                    0.0   \n",
       "19998                    0.0                    0.0                    0.0   \n",
       "19999                    0.0                    0.0                    0.0   \n",
       "\n",
       "       Principle component 9  ...  Principle component 431  \\\n",
       "0                        0.0  ...                      0.0   \n",
       "1                        0.0  ...                      0.0   \n",
       "2                        0.0  ...                      0.0   \n",
       "3                        0.0  ...                      0.0   \n",
       "4                        0.0  ...                      0.0   \n",
       "...                      ...  ...                      ...   \n",
       "19995                    0.0  ...                      0.0   \n",
       "19996                    0.0  ...                      0.0   \n",
       "19997                    0.0  ...                      0.0   \n",
       "19998                    0.0  ...                      0.0   \n",
       "19999                    0.0  ...                      0.0   \n",
       "\n",
       "       Principle component 432  Principle component 433  \\\n",
       "0                          0.0                      1.0   \n",
       "1                          0.0                      0.0   \n",
       "2                          0.0                      0.0   \n",
       "3                          0.0                      0.0   \n",
       "4                          0.0                      0.0   \n",
       "...                        ...                      ...   \n",
       "19995                      0.0                      0.0   \n",
       "19996                      0.0                      0.0   \n",
       "19997                      0.0                      0.0   \n",
       "19998                      0.0                      0.0   \n",
       "19999                      0.0                      0.0   \n",
       "\n",
       "       Principle component 434  Principle component 435  \\\n",
       "0                          0.0                      0.0   \n",
       "1                          0.0                      0.0   \n",
       "2                          0.0                      0.0   \n",
       "3                          0.0                      0.0   \n",
       "4                          0.0                      0.0   \n",
       "...                        ...                      ...   \n",
       "19995                      0.0                      0.0   \n",
       "19996                      0.0                      0.0   \n",
       "19997                      0.0                      0.0   \n",
       "19998                      0.0                      0.0   \n",
       "19999                      0.0                      1.0   \n",
       "\n",
       "       Principle component 436  Principle component 437  \\\n",
       "0                          0.0                      1.0   \n",
       "1                          0.0                      0.0   \n",
       "2                          0.0                      0.0   \n",
       "3                          0.0                      0.0   \n",
       "4                          0.0                      0.0   \n",
       "...                        ...                      ...   \n",
       "19995                      0.0                      0.0   \n",
       "19996                      0.0                      1.0   \n",
       "19997                      0.0                      1.0   \n",
       "19998                      0.0                      0.0   \n",
       "19999                      0.0                      1.0   \n",
       "\n",
       "       Principle component 438  Principle component 439  \\\n",
       "0                          0.0                      1.0   \n",
       "1                          0.0                      1.0   \n",
       "2                          0.0                      1.0   \n",
       "3                          0.0                      1.0   \n",
       "4                          0.0                      1.0   \n",
       "...                        ...                      ...   \n",
       "19995                      0.0                      1.0   \n",
       "19996                      0.0                      1.0   \n",
       "19997                      1.0                      1.0   \n",
       "19998                      0.0                      1.0   \n",
       "19999                      0.0                      1.0   \n",
       "\n",
       "       Principle component 440  \n",
       "0                          0.0  \n",
       "1                          0.0  \n",
       "2                          0.0  \n",
       "3                          0.0  \n",
       "4                          0.0  \n",
       "...                        ...  \n",
       "19995                      0.0  \n",
       "19996                      0.0  \n",
       "19997                      0.0  \n",
       "19998                      0.0  \n",
       "19999                      0.0  \n",
       "\n",
       "[20000 rows x 441 columns]"
      ]
     },
     "execution_count": 16,
     "metadata": {},
     "output_type": "execute_result"
    }
   ],
   "source": [
    "X_df"
   ]
  },
  {
   "cell_type": "markdown",
   "metadata": {},
   "source": [
    "## Map X_df / df_raw_data from 0/1 to genome location (i.e. the V_id)"
   ]
  },
  {
   "cell_type": "code",
   "execution_count": 17,
   "metadata": {},
   "outputs": [],
   "source": [
    "df_Vid_all = df_node_all.applymap(lambda x: int(x.strip('V')))"
   ]
  },
  {
   "cell_type": "code",
   "execution_count": 18,
   "metadata": {},
   "outputs": [
    {
     "data": {
      "text/plain": [
       "(39, 42292)"
      ]
     },
     "execution_count": 18,
     "metadata": {},
     "output_type": "execute_result"
    }
   ],
   "source": [
    "df_Vid_all.values.min(), df_Vid_all.values.max()"
   ]
  },
  {
   "cell_type": "code",
   "execution_count": 19,
   "metadata": {},
   "outputs": [],
   "source": [
    "def round_to_1_sig(x):\n",
    "    str_x = str(x)\n",
    "    if x == int(str_x[0] + '0' * (len(str_x) - 1)):\n",
    "        return x\n",
    "    else:\n",
    "        return (int(str_x[0]) + 1) * (10**(len(str_x) - 1))"
   ]
  },
  {
   "cell_type": "code",
   "execution_count": 20,
   "metadata": {},
   "outputs": [],
   "source": [
    "vid_lower_bound = 0\n",
    "vid_upper_bound = round_to_1_sig(df_Vid_all.values.max())"
   ]
  },
  {
   "cell_type": "code",
   "execution_count": 21,
   "metadata": {},
   "outputs": [
    {
     "data": {
      "text/plain": [
       "(0, 50000)"
      ]
     },
     "execution_count": 21,
     "metadata": {},
     "output_type": "execute_result"
    }
   ],
   "source": [
    "vid_lower_bound, vid_upper_bound"
   ]
  },
  {
   "cell_type": "code",
   "execution_count": 22,
   "metadata": {},
   "outputs": [],
   "source": [
    "def convert_row_in_adj_to_vid(adj_row, vid_row):\n",
    "    k = len(vid_row)\n",
    "    row_np = np.array(adj_row)\n",
    "    vid_np = np.array(vid_row)\n",
    "    \n",
    "    row_np = row_np.reshape(k, k)\n",
    "    new_row = row_np * vid_np\n",
    "    \n",
    "    return new_row.reshape(adj_row.shape)"
   ]
  },
  {
   "cell_type": "code",
   "execution_count": 23,
   "metadata": {},
   "outputs": [],
   "source": [
    "df_genome_mapped_X = X_df.copy()\n",
    "\n",
    "for idx in range(len(X_df)):\n",
    "    adj_row = X_df.iloc[idx]\n",
    "    vid_row = df_Vid_all.iloc[idx]\n",
    "    new_row = convert_row_in_adj_to_vid(adj_row, vid_row)\n",
    "    \n",
    "    df_genome_mapped_X.iloc[idx] = new_row"
   ]
  },
  {
   "cell_type": "code",
   "execution_count": 24,
   "metadata": {},
   "outputs": [
    {
     "data": {
      "text/html": [
       "<div>\n",
       "<style scoped>\n",
       "    .dataframe tbody tr th:only-of-type {\n",
       "        vertical-align: middle;\n",
       "    }\n",
       "\n",
       "    .dataframe tbody tr th {\n",
       "        vertical-align: top;\n",
       "    }\n",
       "\n",
       "    .dataframe thead th {\n",
       "        text-align: right;\n",
       "    }\n",
       "</style>\n",
       "<table border=\"1\" class=\"dataframe\">\n",
       "  <thead>\n",
       "    <tr style=\"text-align: right;\">\n",
       "      <th></th>\n",
       "      <th>Principle component 0</th>\n",
       "      <th>Principle component 1</th>\n",
       "      <th>Principle component 2</th>\n",
       "      <th>Principle component 3</th>\n",
       "      <th>Principle component 4</th>\n",
       "      <th>Principle component 5</th>\n",
       "      <th>Principle component 6</th>\n",
       "      <th>Principle component 7</th>\n",
       "      <th>Principle component 8</th>\n",
       "      <th>Principle component 9</th>\n",
       "      <th>...</th>\n",
       "      <th>Principle component 431</th>\n",
       "      <th>Principle component 432</th>\n",
       "      <th>Principle component 433</th>\n",
       "      <th>Principle component 434</th>\n",
       "      <th>Principle component 435</th>\n",
       "      <th>Principle component 436</th>\n",
       "      <th>Principle component 437</th>\n",
       "      <th>Principle component 438</th>\n",
       "      <th>Principle component 439</th>\n",
       "      <th>Principle component 440</th>\n",
       "    </tr>\n",
       "  </thead>\n",
       "  <tbody>\n",
       "    <tr>\n",
       "      <th>0</th>\n",
       "      <td>0.0</td>\n",
       "      <td>23565.0</td>\n",
       "      <td>0.0</td>\n",
       "      <td>0.0</td>\n",
       "      <td>0.0</td>\n",
       "      <td>0.0</td>\n",
       "      <td>0.0</td>\n",
       "      <td>0.0</td>\n",
       "      <td>0.0</td>\n",
       "      <td>0.0</td>\n",
       "      <td>...</td>\n",
       "      <td>0.0</td>\n",
       "      <td>0.0</td>\n",
       "      <td>12844.0</td>\n",
       "      <td>0.0</td>\n",
       "      <td>0.0</td>\n",
       "      <td>0.0</td>\n",
       "      <td>12844.0</td>\n",
       "      <td>0.0</td>\n",
       "      <td>12844.0</td>\n",
       "      <td>0.0</td>\n",
       "    </tr>\n",
       "    <tr>\n",
       "      <th>1</th>\n",
       "      <td>0.0</td>\n",
       "      <td>36179.0</td>\n",
       "      <td>0.0</td>\n",
       "      <td>36179.0</td>\n",
       "      <td>0.0</td>\n",
       "      <td>36179.0</td>\n",
       "      <td>33947.0</td>\n",
       "      <td>0.0</td>\n",
       "      <td>0.0</td>\n",
       "      <td>0.0</td>\n",
       "      <td>...</td>\n",
       "      <td>0.0</td>\n",
       "      <td>0.0</td>\n",
       "      <td>0.0</td>\n",
       "      <td>0.0</td>\n",
       "      <td>0.0</td>\n",
       "      <td>0.0</td>\n",
       "      <td>0.0</td>\n",
       "      <td>0.0</td>\n",
       "      <td>28058.0</td>\n",
       "      <td>0.0</td>\n",
       "    </tr>\n",
       "    <tr>\n",
       "      <th>2</th>\n",
       "      <td>0.0</td>\n",
       "      <td>36179.0</td>\n",
       "      <td>33947.0</td>\n",
       "      <td>0.0</td>\n",
       "      <td>33947.0</td>\n",
       "      <td>0.0</td>\n",
       "      <td>0.0</td>\n",
       "      <td>0.0</td>\n",
       "      <td>0.0</td>\n",
       "      <td>0.0</td>\n",
       "      <td>...</td>\n",
       "      <td>0.0</td>\n",
       "      <td>0.0</td>\n",
       "      <td>0.0</td>\n",
       "      <td>0.0</td>\n",
       "      <td>0.0</td>\n",
       "      <td>0.0</td>\n",
       "      <td>0.0</td>\n",
       "      <td>0.0</td>\n",
       "      <td>20209.0</td>\n",
       "      <td>0.0</td>\n",
       "    </tr>\n",
       "    <tr>\n",
       "      <th>3</th>\n",
       "      <td>0.0</td>\n",
       "      <td>15042.0</td>\n",
       "      <td>0.0</td>\n",
       "      <td>15042.0</td>\n",
       "      <td>0.0</td>\n",
       "      <td>0.0</td>\n",
       "      <td>0.0</td>\n",
       "      <td>0.0</td>\n",
       "      <td>0.0</td>\n",
       "      <td>0.0</td>\n",
       "      <td>...</td>\n",
       "      <td>0.0</td>\n",
       "      <td>0.0</td>\n",
       "      <td>0.0</td>\n",
       "      <td>0.0</td>\n",
       "      <td>0.0</td>\n",
       "      <td>0.0</td>\n",
       "      <td>0.0</td>\n",
       "      <td>0.0</td>\n",
       "      <td>17515.0</td>\n",
       "      <td>0.0</td>\n",
       "    </tr>\n",
       "    <tr>\n",
       "      <th>4</th>\n",
       "      <td>0.0</td>\n",
       "      <td>13497.0</td>\n",
       "      <td>0.0</td>\n",
       "      <td>0.0</td>\n",
       "      <td>0.0</td>\n",
       "      <td>0.0</td>\n",
       "      <td>0.0</td>\n",
       "      <td>0.0</td>\n",
       "      <td>0.0</td>\n",
       "      <td>0.0</td>\n",
       "      <td>...</td>\n",
       "      <td>0.0</td>\n",
       "      <td>0.0</td>\n",
       "      <td>0.0</td>\n",
       "      <td>0.0</td>\n",
       "      <td>0.0</td>\n",
       "      <td>0.0</td>\n",
       "      <td>0.0</td>\n",
       "      <td>0.0</td>\n",
       "      <td>11899.0</td>\n",
       "      <td>0.0</td>\n",
       "    </tr>\n",
       "    <tr>\n",
       "      <th>...</th>\n",
       "      <td>...</td>\n",
       "      <td>...</td>\n",
       "      <td>...</td>\n",
       "      <td>...</td>\n",
       "      <td>...</td>\n",
       "      <td>...</td>\n",
       "      <td>...</td>\n",
       "      <td>...</td>\n",
       "      <td>...</td>\n",
       "      <td>...</td>\n",
       "      <td>...</td>\n",
       "      <td>...</td>\n",
       "      <td>...</td>\n",
       "      <td>...</td>\n",
       "      <td>...</td>\n",
       "      <td>...</td>\n",
       "      <td>...</td>\n",
       "      <td>...</td>\n",
       "      <td>...</td>\n",
       "      <td>...</td>\n",
       "      <td>...</td>\n",
       "    </tr>\n",
       "    <tr>\n",
       "      <th>19995</th>\n",
       "      <td>0.0</td>\n",
       "      <td>32402.0</td>\n",
       "      <td>0.0</td>\n",
       "      <td>32402.0</td>\n",
       "      <td>0.0</td>\n",
       "      <td>0.0</td>\n",
       "      <td>0.0</td>\n",
       "      <td>0.0</td>\n",
       "      <td>0.0</td>\n",
       "      <td>0.0</td>\n",
       "      <td>...</td>\n",
       "      <td>0.0</td>\n",
       "      <td>0.0</td>\n",
       "      <td>0.0</td>\n",
       "      <td>0.0</td>\n",
       "      <td>0.0</td>\n",
       "      <td>0.0</td>\n",
       "      <td>0.0</td>\n",
       "      <td>0.0</td>\n",
       "      <td>10601.0</td>\n",
       "      <td>0.0</td>\n",
       "    </tr>\n",
       "    <tr>\n",
       "      <th>19996</th>\n",
       "      <td>0.0</td>\n",
       "      <td>12976.0</td>\n",
       "      <td>30626.0</td>\n",
       "      <td>0.0</td>\n",
       "      <td>30626.0</td>\n",
       "      <td>0.0</td>\n",
       "      <td>30721.0</td>\n",
       "      <td>0.0</td>\n",
       "      <td>0.0</td>\n",
       "      <td>0.0</td>\n",
       "      <td>...</td>\n",
       "      <td>0.0</td>\n",
       "      <td>0.0</td>\n",
       "      <td>0.0</td>\n",
       "      <td>0.0</td>\n",
       "      <td>0.0</td>\n",
       "      <td>0.0</td>\n",
       "      <td>30235.0</td>\n",
       "      <td>0.0</td>\n",
       "      <td>30235.0</td>\n",
       "      <td>0.0</td>\n",
       "    </tr>\n",
       "    <tr>\n",
       "      <th>19997</th>\n",
       "      <td>0.0</td>\n",
       "      <td>39513.0</td>\n",
       "      <td>0.0</td>\n",
       "      <td>0.0</td>\n",
       "      <td>0.0</td>\n",
       "      <td>0.0</td>\n",
       "      <td>0.0</td>\n",
       "      <td>0.0</td>\n",
       "      <td>0.0</td>\n",
       "      <td>0.0</td>\n",
       "      <td>...</td>\n",
       "      <td>0.0</td>\n",
       "      <td>0.0</td>\n",
       "      <td>0.0</td>\n",
       "      <td>0.0</td>\n",
       "      <td>0.0</td>\n",
       "      <td>0.0</td>\n",
       "      <td>11827.0</td>\n",
       "      <td>25109.0</td>\n",
       "      <td>25119.0</td>\n",
       "      <td>0.0</td>\n",
       "    </tr>\n",
       "    <tr>\n",
       "      <th>19998</th>\n",
       "      <td>0.0</td>\n",
       "      <td>20125.0</td>\n",
       "      <td>0.0</td>\n",
       "      <td>0.0</td>\n",
       "      <td>0.0</td>\n",
       "      <td>0.0</td>\n",
       "      <td>0.0</td>\n",
       "      <td>0.0</td>\n",
       "      <td>0.0</td>\n",
       "      <td>0.0</td>\n",
       "      <td>...</td>\n",
       "      <td>0.0</td>\n",
       "      <td>0.0</td>\n",
       "      <td>0.0</td>\n",
       "      <td>0.0</td>\n",
       "      <td>0.0</td>\n",
       "      <td>0.0</td>\n",
       "      <td>0.0</td>\n",
       "      <td>0.0</td>\n",
       "      <td>29127.0</td>\n",
       "      <td>0.0</td>\n",
       "    </tr>\n",
       "    <tr>\n",
       "      <th>19999</th>\n",
       "      <td>0.0</td>\n",
       "      <td>38554.0</td>\n",
       "      <td>7700.0</td>\n",
       "      <td>0.0</td>\n",
       "      <td>0.0</td>\n",
       "      <td>0.0</td>\n",
       "      <td>0.0</td>\n",
       "      <td>0.0</td>\n",
       "      <td>0.0</td>\n",
       "      <td>0.0</td>\n",
       "      <td>...</td>\n",
       "      <td>0.0</td>\n",
       "      <td>0.0</td>\n",
       "      <td>0.0</td>\n",
       "      <td>0.0</td>\n",
       "      <td>25489.0</td>\n",
       "      <td>0.0</td>\n",
       "      <td>25489.0</td>\n",
       "      <td>0.0</td>\n",
       "      <td>25489.0</td>\n",
       "      <td>0.0</td>\n",
       "    </tr>\n",
       "  </tbody>\n",
       "</table>\n",
       "<p>20000 rows × 441 columns</p>\n",
       "</div>"
      ],
      "text/plain": [
       "       Principle component 0  Principle component 1  Principle component 2  \\\n",
       "0                        0.0                23565.0                    0.0   \n",
       "1                        0.0                36179.0                    0.0   \n",
       "2                        0.0                36179.0                33947.0   \n",
       "3                        0.0                15042.0                    0.0   \n",
       "4                        0.0                13497.0                    0.0   \n",
       "...                      ...                    ...                    ...   \n",
       "19995                    0.0                32402.0                    0.0   \n",
       "19996                    0.0                12976.0                30626.0   \n",
       "19997                    0.0                39513.0                    0.0   \n",
       "19998                    0.0                20125.0                    0.0   \n",
       "19999                    0.0                38554.0                 7700.0   \n",
       "\n",
       "       Principle component 3  Principle component 4  Principle component 5  \\\n",
       "0                        0.0                    0.0                    0.0   \n",
       "1                    36179.0                    0.0                36179.0   \n",
       "2                        0.0                33947.0                    0.0   \n",
       "3                    15042.0                    0.0                    0.0   \n",
       "4                        0.0                    0.0                    0.0   \n",
       "...                      ...                    ...                    ...   \n",
       "19995                32402.0                    0.0                    0.0   \n",
       "19996                    0.0                30626.0                    0.0   \n",
       "19997                    0.0                    0.0                    0.0   \n",
       "19998                    0.0                    0.0                    0.0   \n",
       "19999                    0.0                    0.0                    0.0   \n",
       "\n",
       "       Principle component 6  Principle component 7  Principle component 8  \\\n",
       "0                        0.0                    0.0                    0.0   \n",
       "1                    33947.0                    0.0                    0.0   \n",
       "2                        0.0                    0.0                    0.0   \n",
       "3                        0.0                    0.0                    0.0   \n",
       "4                        0.0                    0.0                    0.0   \n",
       "...                      ...                    ...                    ...   \n",
       "19995                    0.0                    0.0                    0.0   \n",
       "19996                30721.0                    0.0                    0.0   \n",
       "19997                    0.0                    0.0                    0.0   \n",
       "19998                    0.0                    0.0                    0.0   \n",
       "19999                    0.0                    0.0                    0.0   \n",
       "\n",
       "       Principle component 9  ...  Principle component 431  \\\n",
       "0                        0.0  ...                      0.0   \n",
       "1                        0.0  ...                      0.0   \n",
       "2                        0.0  ...                      0.0   \n",
       "3                        0.0  ...                      0.0   \n",
       "4                        0.0  ...                      0.0   \n",
       "...                      ...  ...                      ...   \n",
       "19995                    0.0  ...                      0.0   \n",
       "19996                    0.0  ...                      0.0   \n",
       "19997                    0.0  ...                      0.0   \n",
       "19998                    0.0  ...                      0.0   \n",
       "19999                    0.0  ...                      0.0   \n",
       "\n",
       "       Principle component 432  Principle component 433  \\\n",
       "0                          0.0                  12844.0   \n",
       "1                          0.0                      0.0   \n",
       "2                          0.0                      0.0   \n",
       "3                          0.0                      0.0   \n",
       "4                          0.0                      0.0   \n",
       "...                        ...                      ...   \n",
       "19995                      0.0                      0.0   \n",
       "19996                      0.0                      0.0   \n",
       "19997                      0.0                      0.0   \n",
       "19998                      0.0                      0.0   \n",
       "19999                      0.0                      0.0   \n",
       "\n",
       "       Principle component 434  Principle component 435  \\\n",
       "0                          0.0                      0.0   \n",
       "1                          0.0                      0.0   \n",
       "2                          0.0                      0.0   \n",
       "3                          0.0                      0.0   \n",
       "4                          0.0                      0.0   \n",
       "...                        ...                      ...   \n",
       "19995                      0.0                      0.0   \n",
       "19996                      0.0                      0.0   \n",
       "19997                      0.0                      0.0   \n",
       "19998                      0.0                      0.0   \n",
       "19999                      0.0                  25489.0   \n",
       "\n",
       "       Principle component 436  Principle component 437  \\\n",
       "0                          0.0                  12844.0   \n",
       "1                          0.0                      0.0   \n",
       "2                          0.0                      0.0   \n",
       "3                          0.0                      0.0   \n",
       "4                          0.0                      0.0   \n",
       "...                        ...                      ...   \n",
       "19995                      0.0                      0.0   \n",
       "19996                      0.0                  30235.0   \n",
       "19997                      0.0                  11827.0   \n",
       "19998                      0.0                      0.0   \n",
       "19999                      0.0                  25489.0   \n",
       "\n",
       "       Principle component 438  Principle component 439  \\\n",
       "0                          0.0                  12844.0   \n",
       "1                          0.0                  28058.0   \n",
       "2                          0.0                  20209.0   \n",
       "3                          0.0                  17515.0   \n",
       "4                          0.0                  11899.0   \n",
       "...                        ...                      ...   \n",
       "19995                      0.0                  10601.0   \n",
       "19996                      0.0                  30235.0   \n",
       "19997                  25109.0                  25119.0   \n",
       "19998                      0.0                  29127.0   \n",
       "19999                      0.0                  25489.0   \n",
       "\n",
       "       Principle component 440  \n",
       "0                          0.0  \n",
       "1                          0.0  \n",
       "2                          0.0  \n",
       "3                          0.0  \n",
       "4                          0.0  \n",
       "...                        ...  \n",
       "19995                      0.0  \n",
       "19996                      0.0  \n",
       "19997                      0.0  \n",
       "19998                      0.0  \n",
       "19999                      0.0  \n",
       "\n",
       "[20000 rows x 441 columns]"
      ]
     },
     "execution_count": 24,
     "metadata": {},
     "output_type": "execute_result"
    }
   ],
   "source": [
    "df_genome_mapped_X"
   ]
  },
  {
   "cell_type": "markdown",
   "metadata": {},
   "source": [
    "-----\n",
    "## Draw one row"
   ]
  },
  {
   "cell_type": "code",
   "execution_count": 25,
   "metadata": {},
   "outputs": [],
   "source": [
    "def plot_one_row(ax, row, k = 21, threshold = 1, title = ''):\n",
    "    row_np = np.array(row)\n",
    "    if threshold is not None:\n",
    "        bin_row = (row_np >= threshold).astype(int)\n",
    "        bin_row_mat = bin_row.reshape(k, k)\n",
    "    else:\n",
    "        bin_row_mat = row_np.reshape(k, k)\n",
    "    \n",
    "    ax.imshow(bin_row_mat, cmap = 'Greys')\n",
    "    ax.set_title(title)\n",
    "    ax.set_xticks([])\n",
    "    ax.set_yticks([])\n",
    "    return bin_row_mat, ax\n",
    "\n",
    "def plot_one_color_row(ax, row, k = 21, title = '', vmin = 0, vmax = 1, cmap = 'rainbow'):\n",
    "    row_np = np.array(row)\n",
    "    \n",
    "    row_mat = row_np.reshape(k, k)\n",
    "    \n",
    "    ax.imshow(row_mat, cmap = cmap, vmin = vmin, vmax = vmax)\n",
    "    ax.set_title(title)\n",
    "    ax.set_xticks([])\n",
    "    ax.set_yticks([])\n",
    "    return row_mat, ax"
   ]
  },
  {
   "cell_type": "code",
   "execution_count": 26,
   "metadata": {},
   "outputs": [
    {
     "data": {
      "image/png": "[encoded data removed]",
      "text/plain": [
       "<Figure size 432x288 with 1 Axes>"
      ]
     },
     "metadata": {},
     "output_type": "display_data"
    }
   ],
   "source": [
    "fig = plt.figure()\n",
    "ax = fig.add_subplot(111)\n",
    "\n",
    "plot_one_row(ax, X_df.loc[5], title = 'row_5')\n",
    "plt.show()\n",
    "plt.close()"
   ]
  },
  {
   "cell_type": "code",
   "execution_count": 27,
   "metadata": {},
   "outputs": [
    {
     "data": {
      "image/png": "[encoded data removed]",
      "text/plain": [
       "<Figure size 432x288 with 1 Axes>"
      ]
     },
     "metadata": {},
     "output_type": "display_data"
    }
   ],
   "source": [
    "fig = plt.figure()\n",
    "ax = fig.add_subplot(111)\n",
    "\n",
    "plot_one_color_row(ax, df_genome_mapped_X.loc[5], title = 'row_5',\n",
    "            vmin = vid_lower_bound, vmax = vid_upper_bound)\n",
    "plt.show()\n",
    "plt.close()"
   ]
  },
  {
   "cell_type": "code",
   "execution_count": 28,
   "metadata": {},
   "outputs": [],
   "source": [
    "def plot_df_in_grid(df_in, grid_size = (2, 5), figsize = (10, 4), \n",
    "                    k = 21, threshold = 1, title_prefix = 'row', title = '', \n",
    "                   sub_titles = None, p2savefig = None):\n",
    "    fig = plt.figure(figsize = figsize)\n",
    "    axes = fig.subplots((*grid_size))\n",
    "    \n",
    "    for row_idx in range(grid_size[0]):\n",
    "        for col_idx in range(grid_size[1]):\n",
    "            ax = axes[row_idx][col_idx]\n",
    "            \n",
    "            idx = row_idx * grid_size[1] + col_idx\n",
    "            if idx < df_in.shape[0]:\n",
    "                cur_row = df_in.iloc[idx]\n",
    "            else:\n",
    "                cur_row = np.zeros_like(df_in.iloc[0].values)\n",
    "            \n",
    "            if sub_titles is None:\n",
    "                subtitle =  f'{title_prefix}_{idx}'\n",
    "            else:\n",
    "                if idx < len(sub_titles):\n",
    "                    subtitle = sub_titles[idx]\n",
    "                else:\n",
    "                    subtitle = ''\n",
    "                \n",
    "            plot_one_row(ax, cur_row, k = k, threshold= threshold, title = subtitle)\n",
    "    plt.suptitle(title, y = 1.05)\n",
    "    plt.tight_layout()\n",
    "    \n",
    "    if p2savefig is None:\n",
    "        plt.show()    \n",
    "        plt.close()\n",
    "    else:\n",
    "        plt.savefig(p2savefig)\n",
    "        plt.close()"
   ]
  },
  {
   "cell_type": "code",
   "execution_count": 29,
   "metadata": {},
   "outputs": [],
   "source": [
    "def plot_df_in_grid_color(df_in, grid_size = (2, 5), figsize = (10, 4), \n",
    "                    k = 21, threshold = 1, title_prefix = 'row', title = '', \n",
    "                    sub_titles = None, p2savefig = None, \n",
    "                    vmin = 0, vmax = 1, cmap = 'rainbow'):\n",
    "    \n",
    "    fig = plt.figure(figsize = figsize)\n",
    "    axes = fig.subplots((*grid_size))\n",
    "    \n",
    "    for row_idx in range(grid_size[0]):\n",
    "        for col_idx in range(grid_size[1]):\n",
    "            ax = axes[row_idx][col_idx]\n",
    "            \n",
    "            idx = row_idx * grid_size[1] + col_idx\n",
    "            if idx < df_in.shape[0]:\n",
    "                cur_row = df_in.iloc[idx]\n",
    "            else:\n",
    "                cur_row = np.zeros_like(df_in.iloc[0].values)\n",
    "            \n",
    "            if sub_titles is None:\n",
    "                subtitle =  f'{title_prefix}_{idx}'\n",
    "            else:\n",
    "                if idx < len(sub_titles):\n",
    "                    subtitle = sub_titles[idx]\n",
    "                else:\n",
    "                    subtitle = ''\n",
    "                \n",
    "            plot_one_row(ax, cur_row, k = k, threshold= threshold, title = subtitle)\n",
    "            plot_one_color_row(ax, cur_row, k = k, title = subtitle,\n",
    "                                vmin = vmin, vmax = vmax, cmap = cmap)\n",
    "            \n",
    "    plt.suptitle(title, y = 1.05)\n",
    "    plt.tight_layout()\n",
    "    \n",
    "    if p2savefig is None:\n",
    "        plt.show()    \n",
    "        plt.close()\n",
    "    else:\n",
    "        plt.savefig(p2savefig)\n",
    "        plt.close()"
   ]
  },
  {
   "cell_type": "code",
   "execution_count": 30,
   "metadata": {},
   "outputs": [
    {
     "data": {
      "image/png": "[encoded data removed]",
      "text/plain": [
       "<Figure size 720x288 with 10 Axes>"
      ]
     },
     "metadata": {},
     "output_type": "display_data"
    }
   ],
   "source": [
    "plot_df_in_grid(X_df.loc[np.random.choice(X_df.index, 10)], title_prefix= 'random_sample')"
   ]
  },
  {
   "cell_type": "code",
   "execution_count": 31,
   "metadata": {},
   "outputs": [
    {
     "data": {
      "image/png": "[encoded data removed]",
      "text/plain": [
       "<Figure size 720x288 with 10 Axes>"
      ]
     },
     "metadata": {},
     "output_type": "display_data"
    }
   ],
   "source": [
    "plot_df_in_grid_color(df_genome_mapped_X.loc[np.random.choice(X_df.index, 10)], title_prefix= 'random_sample', \n",
    "                     vmin = vid_lower_bound, vmax = vid_upper_bound, cmap = 'rainbow')"
   ]
  },
  {
   "cell_type": "markdown",
   "metadata": {},
   "source": [
    "# online cvxMF results"
   ]
  },
  {
   "cell_type": "code",
   "execution_count": 32,
   "metadata": {},
   "outputs": [
    {
     "data": {
      "text/plain": [
       "<AxesSubplot:>"
      ]
     },
     "execution_count": 32,
     "metadata": {},
     "output_type": "execute_result"
    },
    {
     "data": {
      "image/png": "[encoded data removed]",
      "text/plain": [
       "<Figure size 432x288 with 1 Axes>"
      ]
     },
     "metadata": {
      "needs_background": "light"
     },
     "output_type": "display_data"
    }
   ],
   "source": [
    "feature = [x for x in ocmf_dict.columns if 'label' not in x]\n",
    "ocmf_dict_val_df = ocmf_dict[feature]\n",
    "ocmf_dict_val_df.stack().hist()"
   ]
  },
  {
   "cell_type": "code",
   "execution_count": 33,
   "metadata": {},
   "outputs": [],
   "source": [
    "def get_importance_from_At(A_t):\n",
    "    diag = A_t.diagonal()\n",
    "    sum_diag = sum(diag)\n",
    "    score = diag / sum_diag\n",
    "    return score"
   ]
  },
  {
   "cell_type": "code",
   "execution_count": 34,
   "metadata": {},
   "outputs": [],
   "source": [
    "importance_score = get_importance_from_At(A_t)\n",
    "subtitles = [f'online cvxNDL\\n dictionaries {x}\\n score {importance_score[x]:.2f}' for x in range(ocmf_dict_val_df.shape[0])]"
   ]
  },
  {
   "cell_type": "code",
   "execution_count": 35,
   "metadata": {},
   "outputs": [],
   "source": [
    "descending_order_of_At = importance_score.argsort()[::-1]"
   ]
  },
  {
   "cell_type": "code",
   "execution_count": 36,
   "metadata": {},
   "outputs": [
    {
     "data": {
      "text/plain": [
       "array([0.09386442, 0.08533266, 0.0826649 , 0.0821692 , 0.06772214,\n",
       "       0.06413336, 0.05026876, 0.04438432, 0.04211772, 0.0406239 ,\n",
       "       0.04059815, 0.03666509, 0.03518591, 0.03010599, 0.02538979,\n",
       "       0.02201422, 0.0214147 , 0.01980649, 0.01941555, 0.01918896,\n",
       "       0.01870392, 0.01784897, 0.01409677, 0.01364674, 0.01263737])"
      ]
     },
     "execution_count": 36,
     "metadata": {},
     "output_type": "execute_result"
    }
   ],
   "source": [
    "importance_score[descending_order_of_At]"
   ]
  },
  {
   "cell_type": "markdown",
   "metadata": {},
   "source": [
    "## sorted dictionary by importance score"
   ]
  },
  {
   "cell_type": "code",
   "execution_count": 37,
   "metadata": {},
   "outputs": [],
   "source": [
    "sorted_ocmf_dict_val_df_by_At = ocmf_dict_val_df.loc[descending_order_of_At]\n",
    "sorted_subtitles_by_At = [subtitles[i] for i in descending_order_of_At]"
   ]
  },
  {
   "cell_type": "markdown",
   "metadata": {},
   "source": [
    "### raw dicitonaries "
   ]
  },
  {
   "cell_type": "code",
   "execution_count": 38,
   "metadata": {},
   "outputs": [
    {
     "data": {
      "image/png": "[encoded data removed]",
      "text/plain": [
       "<Figure size 720x720 with 25 Axes>"
      ]
     },
     "metadata": {},
     "output_type": "display_data"
    }
   ],
   "source": [
    "plot_df_in_grid(sorted_ocmf_dict_val_df_by_At, threshold = None, \n",
    "                grid_size = (5, 5), figsize = (10, 10),\n",
    "                sub_titles= sorted_subtitles_by_At,\n",
    "                title = f'online cvxNDL: {chromo}')"
   ]
  },
  {
   "cell_type": "markdown",
   "metadata": {},
   "source": [
    "## plot convex hull of representative regions"
   ]
  },
  {
   "cell_type": "code",
   "execution_count": 39,
   "metadata": {},
   "outputs": [],
   "source": [
    "def plot_cvx_hull(ax, df_in, weight = None, k = 21, title = ''):\n",
    "#     fig = plt.figure()\n",
    "#     ax = fig.subplots()\n",
    "    \n",
    "    if weight is None:\n",
    "        average_row = df_in.mean(axis = 0).values\n",
    "    else:\n",
    "        average_row = (df_in * weight.reshape(-1, 1)).sum(axis = 0).values\n",
    "    bin_row_mat = average_row.reshape(k, k)\n",
    "\n",
    "    ax.imshow(bin_row_mat, cmap = 'Greys')\n",
    "    ax.set_title(title)\n",
    "    ax.set_xticks([])\n",
    "    ax.set_yticks([])\n",
    "\n",
    "#     plt.show()\n",
    "#     plt.close()\n",
    "    return ax"
   ]
  },
  {
   "cell_type": "code",
   "execution_count": 40,
   "metadata": {},
   "outputs": [],
   "source": [
    "df_W_hat = pd.DataFrame(data = W_hat, columns = [f'w_cluster_{x}' for x in range(W_hat.shape[1])])"
   ]
  },
  {
   "cell_type": "code",
   "execution_count": 41,
   "metadata": {},
   "outputs": [
    {
     "data": {
      "text/html": [
       "<div>\n",
       "<style scoped>\n",
       "    .dataframe tbody tr th:only-of-type {\n",
       "        vertical-align: middle;\n",
       "    }\n",
       "\n",
       "    .dataframe tbody tr th {\n",
       "        vertical-align: top;\n",
       "    }\n",
       "\n",
       "    .dataframe thead th {\n",
       "        text-align: right;\n",
       "    }\n",
       "</style>\n",
       "<table border=\"1\" class=\"dataframe\">\n",
       "  <thead>\n",
       "    <tr style=\"text-align: right;\">\n",
       "      <th></th>\n",
       "      <th>w_cluster_0</th>\n",
       "      <th>w_cluster_1</th>\n",
       "      <th>w_cluster_2</th>\n",
       "      <th>w_cluster_3</th>\n",
       "      <th>w_cluster_4</th>\n",
       "      <th>w_cluster_5</th>\n",
       "      <th>w_cluster_6</th>\n",
       "      <th>w_cluster_7</th>\n",
       "      <th>w_cluster_8</th>\n",
       "      <th>w_cluster_9</th>\n",
       "      <th>...</th>\n",
       "      <th>w_cluster_15</th>\n",
       "      <th>w_cluster_16</th>\n",
       "      <th>w_cluster_17</th>\n",
       "      <th>w_cluster_18</th>\n",
       "      <th>w_cluster_19</th>\n",
       "      <th>w_cluster_20</th>\n",
       "      <th>w_cluster_21</th>\n",
       "      <th>w_cluster_22</th>\n",
       "      <th>w_cluster_23</th>\n",
       "      <th>w_cluster_24</th>\n",
       "    </tr>\n",
       "  </thead>\n",
       "  <tbody>\n",
       "    <tr>\n",
       "      <th>0</th>\n",
       "      <td>0.055430</td>\n",
       "      <td>0.0</td>\n",
       "      <td>0.0</td>\n",
       "      <td>0.0</td>\n",
       "      <td>0.0</td>\n",
       "      <td>0.0</td>\n",
       "      <td>0.0</td>\n",
       "      <td>0.0</td>\n",
       "      <td>0.0</td>\n",
       "      <td>0.0</td>\n",
       "      <td>...</td>\n",
       "      <td>0.0</td>\n",
       "      <td>0.0</td>\n",
       "      <td>0.0</td>\n",
       "      <td>0.0</td>\n",
       "      <td>0.0</td>\n",
       "      <td>0.0</td>\n",
       "      <td>0.0</td>\n",
       "      <td>0.0</td>\n",
       "      <td>0.0</td>\n",
       "      <td>0.000000</td>\n",
       "    </tr>\n",
       "    <tr>\n",
       "      <th>1</th>\n",
       "      <td>0.072284</td>\n",
       "      <td>0.0</td>\n",
       "      <td>0.0</td>\n",
       "      <td>0.0</td>\n",
       "      <td>0.0</td>\n",
       "      <td>0.0</td>\n",
       "      <td>0.0</td>\n",
       "      <td>0.0</td>\n",
       "      <td>0.0</td>\n",
       "      <td>0.0</td>\n",
       "      <td>...</td>\n",
       "      <td>0.0</td>\n",
       "      <td>0.0</td>\n",
       "      <td>0.0</td>\n",
       "      <td>0.0</td>\n",
       "      <td>0.0</td>\n",
       "      <td>0.0</td>\n",
       "      <td>0.0</td>\n",
       "      <td>0.0</td>\n",
       "      <td>0.0</td>\n",
       "      <td>0.000000</td>\n",
       "    </tr>\n",
       "    <tr>\n",
       "      <th>2</th>\n",
       "      <td>0.070139</td>\n",
       "      <td>0.0</td>\n",
       "      <td>0.0</td>\n",
       "      <td>0.0</td>\n",
       "      <td>0.0</td>\n",
       "      <td>0.0</td>\n",
       "      <td>0.0</td>\n",
       "      <td>0.0</td>\n",
       "      <td>0.0</td>\n",
       "      <td>0.0</td>\n",
       "      <td>...</td>\n",
       "      <td>0.0</td>\n",
       "      <td>0.0</td>\n",
       "      <td>0.0</td>\n",
       "      <td>0.0</td>\n",
       "      <td>0.0</td>\n",
       "      <td>0.0</td>\n",
       "      <td>0.0</td>\n",
       "      <td>0.0</td>\n",
       "      <td>0.0</td>\n",
       "      <td>0.000000</td>\n",
       "    </tr>\n",
       "    <tr>\n",
       "      <th>3</th>\n",
       "      <td>0.067080</td>\n",
       "      <td>0.0</td>\n",
       "      <td>0.0</td>\n",
       "      <td>0.0</td>\n",
       "      <td>0.0</td>\n",
       "      <td>0.0</td>\n",
       "      <td>0.0</td>\n",
       "      <td>0.0</td>\n",
       "      <td>0.0</td>\n",
       "      <td>0.0</td>\n",
       "      <td>...</td>\n",
       "      <td>0.0</td>\n",
       "      <td>0.0</td>\n",
       "      <td>0.0</td>\n",
       "      <td>0.0</td>\n",
       "      <td>0.0</td>\n",
       "      <td>0.0</td>\n",
       "      <td>0.0</td>\n",
       "      <td>0.0</td>\n",
       "      <td>0.0</td>\n",
       "      <td>0.000000</td>\n",
       "    </tr>\n",
       "    <tr>\n",
       "      <th>4</th>\n",
       "      <td>0.054195</td>\n",
       "      <td>0.0</td>\n",
       "      <td>0.0</td>\n",
       "      <td>0.0</td>\n",
       "      <td>0.0</td>\n",
       "      <td>0.0</td>\n",
       "      <td>0.0</td>\n",
       "      <td>0.0</td>\n",
       "      <td>0.0</td>\n",
       "      <td>0.0</td>\n",
       "      <td>...</td>\n",
       "      <td>0.0</td>\n",
       "      <td>0.0</td>\n",
       "      <td>0.0</td>\n",
       "      <td>0.0</td>\n",
       "      <td>0.0</td>\n",
       "      <td>0.0</td>\n",
       "      <td>0.0</td>\n",
       "      <td>0.0</td>\n",
       "      <td>0.0</td>\n",
       "      <td>0.000000</td>\n",
       "    </tr>\n",
       "    <tr>\n",
       "      <th>...</th>\n",
       "      <td>...</td>\n",
       "      <td>...</td>\n",
       "      <td>...</td>\n",
       "      <td>...</td>\n",
       "      <td>...</td>\n",
       "      <td>...</td>\n",
       "      <td>...</td>\n",
       "      <td>...</td>\n",
       "      <td>...</td>\n",
       "      <td>...</td>\n",
       "      <td>...</td>\n",
       "      <td>...</td>\n",
       "      <td>...</td>\n",
       "      <td>...</td>\n",
       "      <td>...</td>\n",
       "      <td>...</td>\n",
       "      <td>...</td>\n",
       "      <td>...</td>\n",
       "      <td>...</td>\n",
       "      <td>...</td>\n",
       "      <td>...</td>\n",
       "    </tr>\n",
       "    <tr>\n",
       "      <th>370</th>\n",
       "      <td>0.000000</td>\n",
       "      <td>0.0</td>\n",
       "      <td>0.0</td>\n",
       "      <td>0.0</td>\n",
       "      <td>0.0</td>\n",
       "      <td>0.0</td>\n",
       "      <td>0.0</td>\n",
       "      <td>0.0</td>\n",
       "      <td>0.0</td>\n",
       "      <td>0.0</td>\n",
       "      <td>...</td>\n",
       "      <td>0.0</td>\n",
       "      <td>0.0</td>\n",
       "      <td>0.0</td>\n",
       "      <td>0.0</td>\n",
       "      <td>0.0</td>\n",
       "      <td>0.0</td>\n",
       "      <td>0.0</td>\n",
       "      <td>0.0</td>\n",
       "      <td>0.0</td>\n",
       "      <td>0.156851</td>\n",
       "    </tr>\n",
       "    <tr>\n",
       "      <th>371</th>\n",
       "      <td>0.000000</td>\n",
       "      <td>0.0</td>\n",
       "      <td>0.0</td>\n",
       "      <td>0.0</td>\n",
       "      <td>0.0</td>\n",
       "      <td>0.0</td>\n",
       "      <td>0.0</td>\n",
       "      <td>0.0</td>\n",
       "      <td>0.0</td>\n",
       "      <td>0.0</td>\n",
       "      <td>...</td>\n",
       "      <td>0.0</td>\n",
       "      <td>0.0</td>\n",
       "      <td>0.0</td>\n",
       "      <td>0.0</td>\n",
       "      <td>0.0</td>\n",
       "      <td>0.0</td>\n",
       "      <td>0.0</td>\n",
       "      <td>0.0</td>\n",
       "      <td>0.0</td>\n",
       "      <td>0.078207</td>\n",
       "    </tr>\n",
       "    <tr>\n",
       "      <th>372</th>\n",
       "      <td>0.000000</td>\n",
       "      <td>0.0</td>\n",
       "      <td>0.0</td>\n",
       "      <td>0.0</td>\n",
       "      <td>0.0</td>\n",
       "      <td>0.0</td>\n",
       "      <td>0.0</td>\n",
       "      <td>0.0</td>\n",
       "      <td>0.0</td>\n",
       "      <td>0.0</td>\n",
       "      <td>...</td>\n",
       "      <td>0.0</td>\n",
       "      <td>0.0</td>\n",
       "      <td>0.0</td>\n",
       "      <td>0.0</td>\n",
       "      <td>0.0</td>\n",
       "      <td>0.0</td>\n",
       "      <td>0.0</td>\n",
       "      <td>0.0</td>\n",
       "      <td>0.0</td>\n",
       "      <td>0.096824</td>\n",
       "    </tr>\n",
       "    <tr>\n",
       "      <th>373</th>\n",
       "      <td>0.000000</td>\n",
       "      <td>0.0</td>\n",
       "      <td>0.0</td>\n",
       "      <td>0.0</td>\n",
       "      <td>0.0</td>\n",
       "      <td>0.0</td>\n",
       "      <td>0.0</td>\n",
       "      <td>0.0</td>\n",
       "      <td>0.0</td>\n",
       "      <td>0.0</td>\n",
       "      <td>...</td>\n",
       "      <td>0.0</td>\n",
       "      <td>0.0</td>\n",
       "      <td>0.0</td>\n",
       "      <td>0.0</td>\n",
       "      <td>0.0</td>\n",
       "      <td>0.0</td>\n",
       "      <td>0.0</td>\n",
       "      <td>0.0</td>\n",
       "      <td>0.0</td>\n",
       "      <td>0.086686</td>\n",
       "    </tr>\n",
       "    <tr>\n",
       "      <th>374</th>\n",
       "      <td>0.000000</td>\n",
       "      <td>0.0</td>\n",
       "      <td>0.0</td>\n",
       "      <td>0.0</td>\n",
       "      <td>0.0</td>\n",
       "      <td>0.0</td>\n",
       "      <td>0.0</td>\n",
       "      <td>0.0</td>\n",
       "      <td>0.0</td>\n",
       "      <td>0.0</td>\n",
       "      <td>...</td>\n",
       "      <td>0.0</td>\n",
       "      <td>0.0</td>\n",
       "      <td>0.0</td>\n",
       "      <td>0.0</td>\n",
       "      <td>0.0</td>\n",
       "      <td>0.0</td>\n",
       "      <td>0.0</td>\n",
       "      <td>0.0</td>\n",
       "      <td>0.0</td>\n",
       "      <td>0.099067</td>\n",
       "    </tr>\n",
       "  </tbody>\n",
       "</table>\n",
       "<p>375 rows × 25 columns</p>\n",
       "</div>"
      ],
      "text/plain": [
       "     w_cluster_0  w_cluster_1  w_cluster_2  w_cluster_3  w_cluster_4  \\\n",
       "0       0.055430          0.0          0.0          0.0          0.0   \n",
       "1       0.072284          0.0          0.0          0.0          0.0   \n",
       "2       0.070139          0.0          0.0          0.0          0.0   \n",
       "3       0.067080          0.0          0.0          0.0          0.0   \n",
       "4       0.054195          0.0          0.0          0.0          0.0   \n",
       "..           ...          ...          ...          ...          ...   \n",
       "370     0.000000          0.0          0.0          0.0          0.0   \n",
       "371     0.000000          0.0          0.0          0.0          0.0   \n",
       "372     0.000000          0.0          0.0          0.0          0.0   \n",
       "373     0.000000          0.0          0.0          0.0          0.0   \n",
       "374     0.000000          0.0          0.0          0.0          0.0   \n",
       "\n",
       "     w_cluster_5  w_cluster_6  w_cluster_7  w_cluster_8  w_cluster_9  ...  \\\n",
       "0            0.0          0.0          0.0          0.0          0.0  ...   \n",
       "1            0.0          0.0          0.0          0.0          0.0  ...   \n",
       "2            0.0          0.0          0.0          0.0          0.0  ...   \n",
       "3            0.0          0.0          0.0          0.0          0.0  ...   \n",
       "4            0.0          0.0          0.0          0.0          0.0  ...   \n",
       "..           ...          ...          ...          ...          ...  ...   \n",
       "370          0.0          0.0          0.0          0.0          0.0  ...   \n",
       "371          0.0          0.0          0.0          0.0          0.0  ...   \n",
       "372          0.0          0.0          0.0          0.0          0.0  ...   \n",
       "373          0.0          0.0          0.0          0.0          0.0  ...   \n",
       "374          0.0          0.0          0.0          0.0          0.0  ...   \n",
       "\n",
       "     w_cluster_15  w_cluster_16  w_cluster_17  w_cluster_18  w_cluster_19  \\\n",
       "0             0.0           0.0           0.0           0.0           0.0   \n",
       "1             0.0           0.0           0.0           0.0           0.0   \n",
       "2             0.0           0.0           0.0           0.0           0.0   \n",
       "3             0.0           0.0           0.0           0.0           0.0   \n",
       "4             0.0           0.0           0.0           0.0           0.0   \n",
       "..            ...           ...           ...           ...           ...   \n",
       "370           0.0           0.0           0.0           0.0           0.0   \n",
       "371           0.0           0.0           0.0           0.0           0.0   \n",
       "372           0.0           0.0           0.0           0.0           0.0   \n",
       "373           0.0           0.0           0.0           0.0           0.0   \n",
       "374           0.0           0.0           0.0           0.0           0.0   \n",
       "\n",
       "     w_cluster_20  w_cluster_21  w_cluster_22  w_cluster_23  w_cluster_24  \n",
       "0             0.0           0.0           0.0           0.0      0.000000  \n",
       "1             0.0           0.0           0.0           0.0      0.000000  \n",
       "2             0.0           0.0           0.0           0.0      0.000000  \n",
       "3             0.0           0.0           0.0           0.0      0.000000  \n",
       "4             0.0           0.0           0.0           0.0      0.000000  \n",
       "..            ...           ...           ...           ...           ...  \n",
       "370           0.0           0.0           0.0           0.0      0.156851  \n",
       "371           0.0           0.0           0.0           0.0      0.078207  \n",
       "372           0.0           0.0           0.0           0.0      0.096824  \n",
       "373           0.0           0.0           0.0           0.0      0.086686  \n",
       "374           0.0           0.0           0.0           0.0      0.099067  \n",
       "\n",
       "[375 rows x 25 columns]"
      ]
     },
     "execution_count": 41,
     "metadata": {},
     "output_type": "execute_result"
    }
   ],
   "source": [
    "df_W_hat"
   ]
  },
  {
   "cell_type": "code",
   "execution_count": 42,
   "metadata": {},
   "outputs": [
    {
     "data": {
      "text/plain": [
       "array([23,  4,  3, 13, 19, 18,  8,  0, 11, 20,  1,  7,  2,  9,  6, 24, 15,\n",
       "       17, 21, 22, 12, 16,  5, 10, 14])"
      ]
     },
     "execution_count": 42,
     "metadata": {},
     "output_type": "execute_result"
    }
   ],
   "source": [
    "descending_order_of_At"
   ]
  },
  {
   "cell_type": "markdown",
   "metadata": {},
   "source": [
    "# Get vid for each representatives"
   ]
  },
  {
   "cell_type": "code",
   "execution_count": 43,
   "metadata": {
    "scrolled": true
   },
   "outputs": [
    {
     "name": "stdout",
     "output_type": "stream",
     "text": [
      "cluster : 23\n"
     ]
    },
    {
     "data": {
      "image/png": "[encoded data removed]",
      "text/plain": [
       "<Figure size 216x216 with 1 Axes>"
      ]
     },
     "metadata": {},
     "output_type": "display_data"
    },
    {
     "name": "stdout",
     "output_type": "stream",
     "text": [
      "cluster : 4\n"
     ]
    },
    {
     "data": {
      "image/png": "[encoded data removed]",
      "text/plain": [
       "<Figure size 216x216 with 1 Axes>"
      ]
     },
     "metadata": {},
     "output_type": "display_data"
    },
    {
     "name": "stdout",
     "output_type": "stream",
     "text": [
      "cluster : 3\n"
     ]
    },
    {
     "data": {
      "image/png": "[encoded data removed]",
      "text/plain": [
       "<Figure size 216x216 with 1 Axes>"
      ]
     },
     "metadata": {},
     "output_type": "display_data"
    },
    {
     "name": "stdout",
     "output_type": "stream",
     "text": [
      "cluster : 13\n"
     ]
    },
    {
     "data": {
      "image/png": "[encoded data removed]",
      "text/plain": [
       "<Figure size 216x216 with 1 Axes>"
      ]
     },
     "metadata": {},
     "output_type": "display_data"
    },
    {
     "name": "stdout",
     "output_type": "stream",
     "text": [
      "cluster : 19\n"
     ]
    },
    {
     "data": {
      "image/png": "[encoded data removed]",
      "text/plain": [
       "<Figure size 216x216 with 1 Axes>"
      ]
     },
     "metadata": {},
     "output_type": "display_data"
    },
    {
     "name": "stdout",
     "output_type": "stream",
     "text": [
      "cluster : 18\n"
     ]
    },
    {
     "data": {
      "image/png": "[encoded data removed]",
      "text/plain": [
       "<Figure size 216x216 with 1 Axes>"
      ]
     },
     "metadata": {},
     "output_type": "display_data"
    },
    {
     "name": "stdout",
     "output_type": "stream",
     "text": [
      "cluster : 8\n"
     ]
    },
    {
     "data": {
      "image/png": "[encoded data removed]",
      "text/plain": [
       "<Figure size 216x216 with 1 Axes>"
      ]
     },
     "metadata": {},
     "output_type": "display_data"
    },
    {
     "name": "stdout",
     "output_type": "stream",
     "text": [
      "cluster : 0\n"
     ]
    },
    {
     "data": {
      "image/png": "[encoded data removed]",
      "text/plain": [
       "<Figure size 216x216 with 1 Axes>"
      ]
     },
     "metadata": {},
     "output_type": "display_data"
    },
    {
     "name": "stdout",
     "output_type": "stream",
     "text": [
      "cluster : 11\n"
     ]
    },
    {
     "data": {
      "image/png": "[encoded data removed]",
      "text/plain": [
       "<Figure size 216x216 with 1 Axes>"
      ]
     },
     "metadata": {},
     "output_type": "display_data"
    },
    {
     "name": "stdout",
     "output_type": "stream",
     "text": [
      "cluster : 20\n"
     ]
    },
    {
     "data": {
      "image/png": "[encoded data removed]",
      "text/plain": [
       "<Figure size 216x216 with 1 Axes>"
      ]
     },
     "metadata": {},
     "output_type": "display_data"
    },
    {
     "name": "stdout",
     "output_type": "stream",
     "text": [
      "cluster : 1\n"
     ]
    },
    {
     "data": {
      "image/png": "[encoded data removed]",
      "text/plain": [
       "<Figure size 216x216 with 1 Axes>"
      ]
     },
     "metadata": {},
     "output_type": "display_data"
    },
    {
     "name": "stdout",
     "output_type": "stream",
     "text": [
      "cluster : 7\n"
     ]
    },
    {
     "data": {
      "image/png": "[encoded data removed]",
      "text/plain": [
       "<Figure size 216x216 with 1 Axes>"
      ]
     },
     "metadata": {},
     "output_type": "display_data"
    },
    {
     "name": "stdout",
     "output_type": "stream",
     "text": [
      "cluster : 2\n"
     ]
    },
    {
     "data": {
      "image/png": "[encoded data removed]",
      "text/plain": [
       "<Figure size 216x216 with 1 Axes>"
      ]
     },
     "metadata": {},
     "output_type": "display_data"
    },
    {
     "name": "stdout",
     "output_type": "stream",
     "text": [
      "cluster : 9\n"
     ]
    },
    {
     "data": {
      "image/png": "[encoded data removed]",
      "text/plain": [
       "<Figure size 216x216 with 1 Axes>"
      ]
     },
     "metadata": {},
     "output_type": "display_data"
    },
    {
     "name": "stdout",
     "output_type": "stream",
     "text": [
      "cluster : 6\n"
     ]
    },
    {
     "data": {
      "image/png": "[encoded data removed]",
      "text/plain": [
       "<Figure size 216x216 with 1 Axes>"
      ]
     },
     "metadata": {},
     "output_type": "display_data"
    },
    {
     "name": "stdout",
     "output_type": "stream",
     "text": [
      "cluster : 24\n"
     ]
    },
    {
     "data": {
      "image/png": "[encoded data removed]",
      "text/plain": [
       "<Figure size 216x216 with 1 Axes>"
      ]
     },
     "metadata": {},
     "output_type": "display_data"
    },
    {
     "name": "stdout",
     "output_type": "stream",
     "text": [
      "cluster : 15\n"
     ]
    },
    {
     "data": {
      "image/png": "[encoded data removed]",
      "text/plain": [
       "<Figure size 216x216 with 1 Axes>"
      ]
     },
     "metadata": {},
     "output_type": "display_data"
    },
    {
     "name": "stdout",
     "output_type": "stream",
     "text": [
      "cluster : 17\n"
     ]
    },
    {
     "data": {
      "image/png": "[encoded data removed]",
      "text/plain": [
       "<Figure size 216x216 with 1 Axes>"
      ]
     },
     "metadata": {},
     "output_type": "display_data"
    },
    {
     "name": "stdout",
     "output_type": "stream",
     "text": [
      "cluster : 21\n"
     ]
    },
    {
     "data": {
      "image/png": "[encoded data removed]",
      "text/plain": [
       "<Figure size 216x216 with 1 Axes>"
      ]
     },
     "metadata": {},
     "output_type": "display_data"
    },
    {
     "name": "stdout",
     "output_type": "stream",
     "text": [
      "cluster : 22\n"
     ]
    },
    {
     "data": {
      "image/png": "[encoded data removed]",
      "text/plain": [
       "<Figure size 216x216 with 1 Axes>"
      ]
     },
     "metadata": {},
     "output_type": "display_data"
    },
    {
     "name": "stdout",
     "output_type": "stream",
     "text": [
      "cluster : 12\n"
     ]
    },
    {
     "data": {
      "image/png": "[encoded data removed]",
      "text/plain": [
       "<Figure size 216x216 with 1 Axes>"
      ]
     },
     "metadata": {},
     "output_type": "display_data"
    },
    {
     "name": "stdout",
     "output_type": "stream",
     "text": [
      "cluster : 16\n"
     ]
    },
    {
     "data": {
      "image/png": "[encoded data removed]",
      "text/plain": [
       "<Figure size 216x216 with 1 Axes>"
      ]
     },
     "metadata": {},
     "output_type": "display_data"
    },
    {
     "name": "stdout",
     "output_type": "stream",
     "text": [
      "cluster : 5\n"
     ]
    },
    {
     "data": {
      "image/png": "[encoded data removed]",
      "text/plain": [
       "<Figure size 216x216 with 1 Axes>"
      ]
     },
     "metadata": {},
     "output_type": "display_data"
    },
    {
     "name": "stdout",
     "output_type": "stream",
     "text": [
      "cluster : 10\n"
     ]
    },
    {
     "data": {
      "image/png": "[encoded data removed]",
      "text/plain": [
       "<Figure size 216x216 with 1 Axes>"
      ]
     },
     "metadata": {},
     "output_type": "display_data"
    },
    {
     "name": "stdout",
     "output_type": "stream",
     "text": [
      "cluster : 14\n"
     ]
    },
    {
     "data": {
      "image/png": "[encoded data removed]",
      "text/plain": [
       "<Figure size 216x216 with 1 Axes>"
      ]
     },
     "metadata": {},
     "output_type": "display_data"
    }
   ],
   "source": [
    "# fig = plt.figure(figsize = (20, 16))\n",
    "# axes = fig.subplots(5, 5)\n",
    "\n",
    "for ax_idx, cluster in enumerate(descending_order_of_At):\n",
    "    cur_importance_score = importance_score[cluster]\n",
    "    # get current dictionary row from for the current cluster with descending importance score.\n",
    "    dict_row = ocmf_dict[ocmf_dict.label == f'ocmf: type {cluster + 1}']\n",
    "    dict_row = dict_row[feature]\n",
    "    \n",
    "    # get representative regions for the current cluster.\n",
    "    cur_label = f'group {cluster}'\n",
    "    df_rep_val_df = rep_region[rep_region.label == cur_label].drop(columns = ['label'])\n",
    "    \n",
    "    # Find convex weight for each rep. in the corresponding column of cvx_weight, and the selected \n",
    "    # representative rows. \n",
    "    # df_W_hat is a column vector matrix. Each column is the weight for a cluster.\n",
    "    cvx_weight = df_W_hat[rep_region.label == cur_label].values[:, cluster]\n",
    "    descending_order_cvx_weight = cvx_weight.argsort()[::-1]\n",
    "    \n",
    "    # sort representative by their cvx weights. \n",
    "    sorted_df_rep_val_df_by_cvx_weight = df_rep_val_df.iloc[descending_order_cvx_weight]\n",
    "    print('cluster :', cluster)\n",
    "    \n",
    "    recon_dict_row = np.zeros_like(dict_row.values)\n",
    "    colormapped_dict_row = np.zeros_like(recon_dict_row)\n",
    "    \n",
    "    for idx, (_, row) in enumerate(sorted_df_rep_val_df_by_cvx_weight.iterrows()):\n",
    "\n",
    "        row_in = row.values\n",
    "        cur_rep_idx = descending_order_cvx_weight[idx]\n",
    "        cur_weight = cvx_weight[cur_rep_idx]\n",
    "        \n",
    "#         print('-' * 7, f'cluster {cluster}, rep {cur_rep_idx}, pos in {idx}', '-' * 7)\n",
    "        \n",
    "        if warning_flag:\n",
    "            # even though used old dataset, try to find if matching in new dataset exists.\n",
    "            # always true: df_raw_data == X_df != df_raw_data_matched_emb\n",
    "            sample_idx_in_subgraphs = (df_raw_data_matched_emb == row_in).all(axis = 1)\n",
    "            samples_from_df_raw_data = df_raw_data_matched_emb.loc[sample_idx_in_subgraphs]\n",
    "            \n",
    "            if len(samples_from_df_raw_data) == 0:\n",
    "#                 print('no match of row adj in new dataset with embedding. Use OLD dataset')\n",
    "                sample_idx_in_subgraphs = (df_raw_data == row_in).all(axis = 1)\n",
    "                samples_from_df_raw_data = df_raw_data.loc[sample_idx_in_subgraphs]\n",
    "                \n",
    "            \n",
    "        else:\n",
    "            # no warning sign. we are using new dataset so there is no error.\n",
    "            # df_raw_data == X_df == df_raw_data_matched_emb.\n",
    "            sample_idx_in_subgraphs = (df_raw_data == row_in).all(axis = 1)\n",
    "            samples_from_df_raw_data = df_raw_data.loc[sample_idx_in_subgraphs]\n",
    "        \n",
    "        # In case there are multiple samples with same weight matrices, select the first one.\n",
    "        samples_from_df_raw_data = samples_from_df_raw_data.iloc[0]\n",
    "        \n",
    "        \n",
    "        # Get node embeddings. \n",
    "        node_embedding_of_samples = df_node_all.loc[sample_idx_in_subgraphs].iloc[0].values\n",
    "        \n",
    "    \n",
    "        # map current rep adjacency to genome id. \n",
    "        VID_of_samples = [int(x.strip('V')) for x in node_embedding_of_samples]\n",
    "        genome_id_mapped_rep_row = convert_row_in_adj_to_vid(row_in, VID_of_samples)\n",
    "        \n",
    "        # recompute the cvx combination of rep and its color-coded vid. \n",
    "        cur_cvx_weight = cvx_weight[descending_order_cvx_weight][idx]\n",
    "        recon_dict_row += cur_cvx_weight * row_in \n",
    "        colormapped_dict_row += cur_cvx_weight * genome_id_mapped_rep_row\n",
    "        \n",
    "    if not np.isclose(recon_dict_row, dict_row.values).all():\n",
    "        break\n",
    "    else:\n",
    "#         ax_row, ax_col = ax_idx // 5, ax_idx % 5\n",
    "#         cur_ax = axes[ax_row, ax_col]\n",
    "        \n",
    "        fig = plt.figure(figsize = (3, 3))\n",
    "        cur_ax = fig.add_subplot(111)\n",
    "        plot_one_color_row(cur_ax, colormapped_dict_row, \n",
    "                           title = f'dict_elem:{cluster}\\nScore:{cur_importance_score:.3f}',\n",
    "                            vmin = vid_lower_bound, vmax = vid_upper_bound)\n",
    "        plt.show()\n",
    "        plt.close()\n",
    "        \n",
    "        \n",
    "#         break\n",
    "#     break\n",
    "    \n",
    "    "
   ]
  },
  {
   "cell_type": "code",
   "execution_count": 44,
   "metadata": {},
   "outputs": [
    {
     "data": {
      "image/png": "[encoded data removed]",
      "text/plain": [
       "<Figure size 432x288 with 2 Axes>"
      ]
     },
     "metadata": {
      "needs_background": "light"
     },
     "output_type": "display_data"
    }
   ],
   "source": [
    "dummy_colorbar = np.array([vid_lower_bound, vid_upper_bound] * 2).reshape((2, 2))\n",
    "plt.imshow(dummy_colorbar)\n",
    "\n",
    "plt.subplots_adjust(bottom=0.1, right=0.8, top=0.9)\n",
    "cax = plt.axes([0.85, 0.1, 0.075, 0.8])\n",
    "plt.colorbar(cax=cax)\n",
    "plt.show()"
   ]
  },
  {
   "cell_type": "code",
   "execution_count": 45,
   "metadata": {},
   "outputs": [
    {
     "data": {
      "image/png": "[encoded data removed]",
      "text/plain": [
       "<Figure size 720x720 with 25 Axes>"
      ]
     },
     "metadata": {},
     "output_type": "display_data"
    }
   ],
   "source": [
    "plot_df_in_grid(sorted_ocmf_dict_val_df_by_At, threshold = None, \n",
    "                grid_size = (5, 5), figsize = (10, 10),\n",
    "                sub_titles= sorted_subtitles_by_At,\n",
    "                title = f'online cvxNDL: {chromo}')"
   ]
  },
  {
   "cell_type": "code",
   "execution_count": null,
   "metadata": {},
   "outputs": [],
   "source": []
  }
 ],
 "metadata": {
  "kernelspec": {
   "display_name": "Python 3",
   "language": "python",
   "name": "python3"
  },
  "language_info": {
   "codemirror_mode": {
    "name": "ipython",
    "version": 3
   },
   "file_extension": ".py",
   "mimetype": "text/x-python",
   "name": "python",
   "nbconvert_exporter": "python",
   "pygments_lexer": "ipython3",
   "version": "3.8.5"
  },
  "varInspector": {
   "cols": {
    "lenName": 16,
    "lenType": 16,
    "lenVar": 40
   },
   "kernels_config": {
    "python": {
     "delete_cmd_postfix": "",
     "delete_cmd_prefix": "del ",
     "library": "var_list.py",
     "varRefreshCmd": "print(var_dic_list())"
    },
    "r": {
     "delete_cmd_postfix": ") ",
     "delete_cmd_prefix": "rm(",
     "library": "var_list.r",
     "varRefreshCmd": "cat(var_dic_list()) "
    }
   },
   "types_to_exclude": [
    "module",
    "function",
    "builtin_function_or_method",
    "instance",
    "_Feature"
   ],
   "window_display": false
  }
 },
 "nbformat": 4,
 "nbformat_minor": 4
}
