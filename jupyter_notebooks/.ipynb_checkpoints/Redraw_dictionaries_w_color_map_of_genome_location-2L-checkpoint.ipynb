{
 "cells": [
  {
   "cell_type": "markdown",
   "metadata": {},
   "source": [
    "### Example"
   ]
  },
  {
   "cell_type": "code",
   "execution_count": 1,
   "metadata": {},
   "outputs": [],
   "source": [
    "# import numpy as np\n",
    "# import matplotlib.pyplot as plt\n",
    "# import mpl_toolkits.axes_grid1 as axes_grid1\n",
    "# np.random.seed(1)\n",
    "\n",
    "# data = np.random.randint(0, 1000, (10, 10), )\n",
    "\n",
    "# fig = plt.figure(dpi = 150)\n",
    "# grid = axes_grid1.AxesGrid(\n",
    "#     fig, 111, nrows_ncols=(1, 2), axes_pad = 0.5, cbar_location = \"right\",\n",
    "#     cbar_mode=\"each\", cbar_size=\"15%\", cbar_pad=\"5%\",)\n",
    "\n",
    "# im0 = grid[0].imshow(data > 500, cmap='gray', interpolation='nearest')\n",
    "# grid.cbar_axes[0].colorbar(im0)\n",
    "\n",
    "# im1 = grid[1].imshow(data, cmap='jet', interpolation='nearest')\n",
    "# grid.cbar_axes[1].colorbar(im1)\n",
    "\n",
    "# plt.show()\n",
    "# plt.close()"
   ]
  },
  {
   "cell_type": "code",
   "execution_count": 2,
   "metadata": {},
   "outputs": [],
   "source": [
    "# data"
   ]
  },
  {
   "cell_type": "markdown",
   "metadata": {},
   "source": [
    "----"
   ]
  },
  {
   "cell_type": "code",
   "execution_count": 3,
   "metadata": {},
   "outputs": [],
   "source": [
    "import pandas as pd\n",
    "import numpy as np\n",
    "import matplotlib.pyplot as plt\n",
    "import os\n",
    "import os.path as osp\n",
    "import networkx as nx\n",
    "\n",
    "from matplotlib import gridspec\n",
    "\n",
    "import sys"
   ]
  },
  {
   "cell_type": "code",
   "execution_count": 4,
   "metadata": {},
   "outputs": [],
   "source": [
    "sys.path.append('../')"
   ]
  },
  {
   "cell_type": "code",
   "execution_count": 5,
   "metadata": {},
   "outputs": [],
   "source": [
    "from common_functions import eval_g_hat_with_DnX"
   ]
  },
  {
   "cell_type": "code",
   "execution_count": 6,
   "metadata": {},
   "outputs": [],
   "source": [
    "p2root = '../results_0905_logging/'\n",
    "K = 25\n",
    "version='Rr'\n",
    "iteration = 10000\n",
    "iid_sample = 20000\n",
    "chromo = 'chr2L'\n",
    "expr_name = f'{chromo}_drosophila_ChIA_Drop_0.1_PASS'\n",
    "prefix = f'{expr_name}_{iid_sample}_MCMC_pivot_K_{K}_iter_{iteration}'\n",
    "# prefix = f'{expr_name}_{iid_sample}_K_{K}_iter_{iteration}'\n",
    "# p2nmf_dict = osp.join(p2root, f'{prefix}_nmf_centroid_df')\n",
    "# p2cmf_dict = osp.join(p2root, f'{prefix}_cmf_centroid_df')\n",
    "# p2omf_dict = osp.join(p2root, f'{prefix}_omf_centroid_df')\n",
    "\n",
    "p2ocmf_dict = osp.join(p2root, f'{version}_{prefix}_ocmf_centroid_df')\n",
    "p2representative_regions = osp.join(p2root, f'{version}_{prefix}_x_hat_df')\n",
    "p2A_t = osp.join(p2root, f'A_t_{version}_{prefix}_ocmf.csv')\n",
    "p2W_hat = osp.join(p2root, f'W_hat_{version}_{prefix}_ocmf.csv')\n",
    "p2X = osp.join(p2root, f'{prefix}_X_df')"
   ]
  },
  {
   "cell_type": "code",
   "execution_count": 7,
   "metadata": {},
   "outputs": [
    {
     "data": {
      "text/plain": [
       "'../results_0905_logging/chr2L_drosophila_ChIA_Drop_0.1_PASS_20000_MCMC_pivot_K_25_iter_10000_X_df'"
      ]
     },
     "execution_count": 7,
     "metadata": {},
     "output_type": "execute_result"
    }
   ],
   "source": [
    "p2X"
   ]
  },
  {
   "cell_type": "code",
   "execution_count": 8,
   "metadata": {},
   "outputs": [],
   "source": [
    "X_df = pd.read_pickle(p2X)\n",
    "# nmf_dict = pd.read_pickle(p2nmf_dict)\n",
    "# cmf_dict = pd.read_pickle(p2cmf_dict)\n",
    "# omf_dict = pd.read_pickle(p2omf_dict)\n",
    "ocmf_dict = pd.read_pickle(p2ocmf_dict)\n",
    "rep_region = pd.read_pickle(p2representative_regions)"
   ]
  },
  {
   "cell_type": "code",
   "execution_count": 9,
   "metadata": {},
   "outputs": [],
   "source": [
    "W_hat = np.loadtxt(p2W_hat, delimiter=',')\n",
    "A_t = np.loadtxt(p2A_t, delimiter=',')"
   ]
  },
  {
   "cell_type": "code",
   "execution_count": 10,
   "metadata": {},
   "outputs": [
    {
     "data": {
      "text/plain": [
       "array([[1, 0, 0, ..., 0, 0, 0],\n",
       "       [1, 0, 0, ..., 0, 0, 0],\n",
       "       [1, 0, 0, ..., 0, 0, 0],\n",
       "       ...,\n",
       "       [0, 0, 0, ..., 0, 0, 1],\n",
       "       [0, 0, 0, ..., 0, 0, 1],\n",
       "       [0, 0, 0, ..., 0, 0, 1]])"
      ]
     },
     "execution_count": 10,
     "metadata": {},
     "output_type": "execute_result"
    }
   ],
   "source": [
    "(W_hat > 0).astype(int)"
   ]
  },
  {
   "cell_type": "code",
   "execution_count": 11,
   "metadata": {},
   "outputs": [
    {
     "data": {
      "text/plain": [
       "group 2     36\n",
       "group 21    32\n",
       "group 6     24\n",
       "group 8     22\n",
       "group 7     21\n",
       "group 5     20\n",
       "group 0     19\n",
       "group 22    17\n",
       "group 12    14\n",
       "group 17    12\n",
       "group 4     12\n",
       "group 18    12\n",
       "group 14    12\n",
       "group 15    11\n",
       "group 3     11\n",
       "group 23    10\n",
       "group 11    10\n",
       "group 1     10\n",
       "group 20    10\n",
       "group 9     10\n",
       "group 10    10\n",
       "group 16    10\n",
       "group 24    10\n",
       "group 19    10\n",
       "group 13    10\n",
       "Name: label, dtype: int64"
      ]
     },
     "execution_count": 11,
     "metadata": {},
     "output_type": "execute_result"
    }
   ],
   "source": [
    "rep_region.label.value_counts()"
   ]
  },
  {
   "cell_type": "markdown",
   "metadata": {},
   "source": [
    "## Read node embedding data for genome location"
   ]
  },
  {
   "cell_type": "code",
   "execution_count": 12,
   "metadata": {},
   "outputs": [],
   "source": [
    "# p2raw_data = '/data/shared/jianhao/online_cvxNDL_data/new_data_with_node_id/'\n",
    "# p2raw_data = '/data/shared/jianhao/online_cvxNDL_data/updated_0905_data_with_node_id/'\n",
    "\n",
    "# p2emb = osp.join(p2raw_data, f'df_{expr_name}_{iid_sample}_sample_node_matrix')\n",
    "# p2raw_data = osp.join(p2raw_data, f'df_{expr_name}_{iid_sample}')\n",
    "\n",
    "p2raw_data = '/data/shared/jianhao/online_cvxNDL_data/updated_0905_data_with_node_id'\n",
    "p2emb = osp.join(p2raw_data, f'df_{expr_name}_{iid_sample}_MCMC_pivot_sample_node_matrix')\n",
    "p2raw_data = osp.join(p2raw_data, f'df_{expr_name}_{iid_sample}_MCMC_pivot')"
   ]
  },
  {
   "cell_type": "code",
   "execution_count": 13,
   "metadata": {},
   "outputs": [],
   "source": [
    "df_node_all = pd.read_pickle(p2emb)\n",
    "df_subgraph_all = pd.read_pickle(p2raw_data).drop(columns = ['label'])\n",
    "# df_subgraph_all_old = pd.read_pickle(p2raw_data_old).drop(columns = ['label'])"
   ]
  },
  {
   "cell_type": "markdown",
   "metadata": {},
   "source": [
    "### check which dataset used in training.\n",
    "if use old subgraph, then subgraph may not have correponding node embeddings.\n"
   ]
  },
  {
   "cell_type": "code",
   "execution_count": 14,
   "metadata": {
    "scrolled": true
   },
   "outputs": [
    {
     "name": "stdout",
     "output_type": "stream",
     "text": [
      ">>> used new dataset with node embeddings. GOOD to go.\n"
     ]
    }
   ],
   "source": [
    "# if (X_df.values == df_subgraph_all_old.values).all():\n",
    "#     print('>>> used old dataset without node embedding!!!! Change later on.')\n",
    "#     df_raw_data = df_subgraph_all_old\n",
    "#     warning_flag = True\n",
    "#     df_raw_data_matched_emb = df_subgraph_all\n",
    "    \n",
    "if (X_df.values == df_subgraph_all.values).all():\n",
    "    print('>>> used new dataset with node embeddings. GOOD to go.')\n",
    "    df_raw_data = df_subgraph_all\n",
    "    warning_flag = False\n",
    "    df_raw_data_matched_emb = df_subgraph_all"
   ]
  },
  {
   "cell_type": "markdown",
   "metadata": {},
   "source": [
    "### 1. df_raw_data will always be the input data. So df_rep.isin(df_raw_data) == True. \n",
    "only case is that when used old data:\n",
    "\n",
    "=> **df_node_emb** and **df_raw_data** does not match. \n",
    "\n",
    "### 2. df_raw_data_matched_emb will always matched the node embedding"
   ]
  },
  {
   "cell_type": "code",
   "execution_count": 15,
   "metadata": {},
   "outputs": [
    {
     "data": {
      "text/html": [
       "<div>\n",
       "<style scoped>\n",
       "    .dataframe tbody tr th:only-of-type {\n",
       "        vertical-align: middle;\n",
       "    }\n",
       "\n",
       "    .dataframe tbody tr th {\n",
       "        vertical-align: top;\n",
       "    }\n",
       "\n",
       "    .dataframe thead th {\n",
       "        text-align: right;\n",
       "    }\n",
       "</style>\n",
       "<table border=\"1\" class=\"dataframe\">\n",
       "  <thead>\n",
       "    <tr style=\"text-align: right;\">\n",
       "      <th></th>\n",
       "      <th>node_0</th>\n",
       "      <th>node_1</th>\n",
       "      <th>node_2</th>\n",
       "      <th>node_3</th>\n",
       "      <th>node_4</th>\n",
       "      <th>node_5</th>\n",
       "      <th>node_6</th>\n",
       "      <th>node_7</th>\n",
       "      <th>node_8</th>\n",
       "      <th>node_9</th>\n",
       "      <th>...</th>\n",
       "      <th>node_11</th>\n",
       "      <th>node_12</th>\n",
       "      <th>node_13</th>\n",
       "      <th>node_14</th>\n",
       "      <th>node_15</th>\n",
       "      <th>node_16</th>\n",
       "      <th>node_17</th>\n",
       "      <th>node_18</th>\n",
       "      <th>node_19</th>\n",
       "      <th>node_20</th>\n",
       "    </tr>\n",
       "  </thead>\n",
       "  <tbody>\n",
       "    <tr>\n",
       "      <th>0</th>\n",
       "      <td>V5997</td>\n",
       "      <td>V19835</td>\n",
       "      <td>V969</td>\n",
       "      <td>V961</td>\n",
       "      <td>V2405</td>\n",
       "      <td>V20728</td>\n",
       "      <td>V20814</td>\n",
       "      <td>V20728</td>\n",
       "      <td>V26131</td>\n",
       "      <td>V20728</td>\n",
       "      <td>...</td>\n",
       "      <td>V20728</td>\n",
       "      <td>V27017</td>\n",
       "      <td>V6131</td>\n",
       "      <td>V11815</td>\n",
       "      <td>V4455</td>\n",
       "      <td>V11815</td>\n",
       "      <td>V6131</td>\n",
       "      <td>V4455</td>\n",
       "      <td>V27017</td>\n",
       "      <td>V27025</td>\n",
       "    </tr>\n",
       "    <tr>\n",
       "      <th>1</th>\n",
       "      <td>V41207</td>\n",
       "      <td>V22040</td>\n",
       "      <td>V41207</td>\n",
       "      <td>V22040</td>\n",
       "      <td>V41207</td>\n",
       "      <td>V22040</td>\n",
       "      <td>V36348</td>\n",
       "      <td>V41207</td>\n",
       "      <td>V22040</td>\n",
       "      <td>V20407</td>\n",
       "      <td>...</td>\n",
       "      <td>V4078</td>\n",
       "      <td>V186</td>\n",
       "      <td>V250</td>\n",
       "      <td>V135</td>\n",
       "      <td>V14276</td>\n",
       "      <td>V135</td>\n",
       "      <td>V19913</td>\n",
       "      <td>V135</td>\n",
       "      <td>V186</td>\n",
       "      <td>V153</td>\n",
       "    </tr>\n",
       "    <tr>\n",
       "      <th>2</th>\n",
       "      <td>V13615</td>\n",
       "      <td>V16412</td>\n",
       "      <td>V16377</td>\n",
       "      <td>V14431</td>\n",
       "      <td>V16377</td>\n",
       "      <td>V16412</td>\n",
       "      <td>V16400</td>\n",
       "      <td>V16412</td>\n",
       "      <td>V16256</td>\n",
       "      <td>V14432</td>\n",
       "      <td>...</td>\n",
       "      <td>V44859</td>\n",
       "      <td>V41989</td>\n",
       "      <td>V14432</td>\n",
       "      <td>V15932</td>\n",
       "      <td>V41989</td>\n",
       "      <td>V15932</td>\n",
       "      <td>V27666</td>\n",
       "      <td>V41754</td>\n",
       "      <td>V41780</td>\n",
       "      <td>V41767</td>\n",
       "    </tr>\n",
       "    <tr>\n",
       "      <th>3</th>\n",
       "      <td>V7474</td>\n",
       "      <td>V7462</td>\n",
       "      <td>V87</td>\n",
       "      <td>V16766</td>\n",
       "      <td>V2911</td>\n",
       "      <td>V1000</td>\n",
       "      <td>V1035</td>\n",
       "      <td>V35092</td>\n",
       "      <td>V35449</td>\n",
       "      <td>V35092</td>\n",
       "      <td>...</td>\n",
       "      <td>V6371</td>\n",
       "      <td>V35017</td>\n",
       "      <td>V1035</td>\n",
       "      <td>V1000</td>\n",
       "      <td>V954</td>\n",
       "      <td>V19311</td>\n",
       "      <td>V9257</td>\n",
       "      <td>V42290</td>\n",
       "      <td>V42241</td>\n",
       "      <td>V34944</td>\n",
       "    </tr>\n",
       "    <tr>\n",
       "      <th>4</th>\n",
       "      <td>V7474</td>\n",
       "      <td>V7462</td>\n",
       "      <td>V5357</td>\n",
       "      <td>V4394</td>\n",
       "      <td>V5357</td>\n",
       "      <td>V7462</td>\n",
       "      <td>V7497</td>\n",
       "      <td>V16411</td>\n",
       "      <td>V39787</td>\n",
       "      <td>V500</td>\n",
       "      <td>...</td>\n",
       "      <td>V39428</td>\n",
       "      <td>V39553</td>\n",
       "      <td>V39351</td>\n",
       "      <td>V39428</td>\n",
       "      <td>V25400</td>\n",
       "      <td>V25623</td>\n",
       "      <td>V258</td>\n",
       "      <td>V27057</td>\n",
       "      <td>V34954</td>\n",
       "      <td>V3538</td>\n",
       "    </tr>\n",
       "    <tr>\n",
       "      <th>...</th>\n",
       "      <td>...</td>\n",
       "      <td>...</td>\n",
       "      <td>...</td>\n",
       "      <td>...</td>\n",
       "      <td>...</td>\n",
       "      <td>...</td>\n",
       "      <td>...</td>\n",
       "      <td>...</td>\n",
       "      <td>...</td>\n",
       "      <td>...</td>\n",
       "      <td>...</td>\n",
       "      <td>...</td>\n",
       "      <td>...</td>\n",
       "      <td>...</td>\n",
       "      <td>...</td>\n",
       "      <td>...</td>\n",
       "      <td>...</td>\n",
       "      <td>...</td>\n",
       "      <td>...</td>\n",
       "      <td>...</td>\n",
       "      <td>...</td>\n",
       "    </tr>\n",
       "    <tr>\n",
       "      <th>19995</th>\n",
       "      <td>V39624</td>\n",
       "      <td>V42442</td>\n",
       "      <td>V2820</td>\n",
       "      <td>V18992</td>\n",
       "      <td>V7395</td>\n",
       "      <td>V18992</td>\n",
       "      <td>V16630</td>\n",
       "      <td>V12679</td>\n",
       "      <td>V1020</td>\n",
       "      <td>V1083</td>\n",
       "      <td>...</td>\n",
       "      <td>V36334</td>\n",
       "      <td>V4157</td>\n",
       "      <td>V36334</td>\n",
       "      <td>V37139</td>\n",
       "      <td>V969</td>\n",
       "      <td>V16023</td>\n",
       "      <td>V969</td>\n",
       "      <td>V35164</td>\n",
       "      <td>V969</td>\n",
       "      <td>V218</td>\n",
       "    </tr>\n",
       "    <tr>\n",
       "      <th>19996</th>\n",
       "      <td>V26447</td>\n",
       "      <td>V27659</td>\n",
       "      <td>V27672</td>\n",
       "      <td>V19229</td>\n",
       "      <td>V43360</td>\n",
       "      <td>V34901</td>\n",
       "      <td>V324</td>\n",
       "      <td>V6740</td>\n",
       "      <td>V324</td>\n",
       "      <td>V32512</td>\n",
       "      <td>...</td>\n",
       "      <td>V16411</td>\n",
       "      <td>V27231</td>\n",
       "      <td>V26418</td>\n",
       "      <td>V10942</td>\n",
       "      <td>V20765</td>\n",
       "      <td>V32906</td>\n",
       "      <td>V32787</td>\n",
       "      <td>V33273</td>\n",
       "      <td>V41480</td>\n",
       "      <td>V31699</td>\n",
       "    </tr>\n",
       "    <tr>\n",
       "      <th>19997</th>\n",
       "      <td>V39599</td>\n",
       "      <td>V9995</td>\n",
       "      <td>V38842</td>\n",
       "      <td>V16847</td>\n",
       "      <td>V4306</td>\n",
       "      <td>V1057</td>\n",
       "      <td>V985</td>\n",
       "      <td>V42527</td>\n",
       "      <td>V42478</td>\n",
       "      <td>V13003</td>\n",
       "      <td>...</td>\n",
       "      <td>V29664</td>\n",
       "      <td>V33223</td>\n",
       "      <td>V33250</td>\n",
       "      <td>V27114</td>\n",
       "      <td>V27156</td>\n",
       "      <td>V20854</td>\n",
       "      <td>V20824</td>\n",
       "      <td>V33868</td>\n",
       "      <td>V20856</td>\n",
       "      <td>V14348</td>\n",
       "    </tr>\n",
       "    <tr>\n",
       "      <th>19998</th>\n",
       "      <td>V39954</td>\n",
       "      <td>V9995</td>\n",
       "      <td>V10131</td>\n",
       "      <td>V9998</td>\n",
       "      <td>V27680</td>\n",
       "      <td>V9998</td>\n",
       "      <td>V1665</td>\n",
       "      <td>V1656</td>\n",
       "      <td>V1665</td>\n",
       "      <td>V1644</td>\n",
       "      <td>...</td>\n",
       "      <td>V38189</td>\n",
       "      <td>V1280</td>\n",
       "      <td>V2259</td>\n",
       "      <td>V18030</td>\n",
       "      <td>V2259</td>\n",
       "      <td>V2117</td>\n",
       "      <td>V2243</td>\n",
       "      <td>V2117</td>\n",
       "      <td>V2259</td>\n",
       "      <td>V2251</td>\n",
       "    </tr>\n",
       "    <tr>\n",
       "      <th>19999</th>\n",
       "      <td>V32509</td>\n",
       "      <td>V19793</td>\n",
       "      <td>V19783</td>\n",
       "      <td>V16168</td>\n",
       "      <td>V36519</td>\n",
       "      <td>V1949</td>\n",
       "      <td>V16168</td>\n",
       "      <td>V19693</td>\n",
       "      <td>V33052</td>\n",
       "      <td>V7953</td>\n",
       "      <td>...</td>\n",
       "      <td>V10188</td>\n",
       "      <td>V24191</td>\n",
       "      <td>V10188</td>\n",
       "      <td>V18115</td>\n",
       "      <td>V41598</td>\n",
       "      <td>V7313</td>\n",
       "      <td>V34947</td>\n",
       "      <td>V7313</td>\n",
       "      <td>V42107</td>\n",
       "      <td>V41499</td>\n",
       "    </tr>\n",
       "  </tbody>\n",
       "</table>\n",
       "<p>20000 rows × 21 columns</p>\n",
       "</div>"
      ],
      "text/plain": [
       "       node_0  node_1  node_2  node_3  node_4  node_5  node_6  node_7  node_8  \\\n",
       "0       V5997  V19835    V969    V961   V2405  V20728  V20814  V20728  V26131   \n",
       "1      V41207  V22040  V41207  V22040  V41207  V22040  V36348  V41207  V22040   \n",
       "2      V13615  V16412  V16377  V14431  V16377  V16412  V16400  V16412  V16256   \n",
       "3       V7474   V7462     V87  V16766   V2911   V1000   V1035  V35092  V35449   \n",
       "4       V7474   V7462   V5357   V4394   V5357   V7462   V7497  V16411  V39787   \n",
       "...       ...     ...     ...     ...     ...     ...     ...     ...     ...   \n",
       "19995  V39624  V42442   V2820  V18992   V7395  V18992  V16630  V12679   V1020   \n",
       "19996  V26447  V27659  V27672  V19229  V43360  V34901    V324   V6740    V324   \n",
       "19997  V39599   V9995  V38842  V16847   V4306   V1057    V985  V42527  V42478   \n",
       "19998  V39954   V9995  V10131   V9998  V27680   V9998   V1665   V1656   V1665   \n",
       "19999  V32509  V19793  V19783  V16168  V36519   V1949  V16168  V19693  V33052   \n",
       "\n",
       "       node_9  ... node_11 node_12 node_13 node_14 node_15 node_16 node_17  \\\n",
       "0      V20728  ...  V20728  V27017   V6131  V11815   V4455  V11815   V6131   \n",
       "1      V20407  ...   V4078    V186    V250    V135  V14276    V135  V19913   \n",
       "2      V14432  ...  V44859  V41989  V14432  V15932  V41989  V15932  V27666   \n",
       "3      V35092  ...   V6371  V35017   V1035   V1000    V954  V19311   V9257   \n",
       "4        V500  ...  V39428  V39553  V39351  V39428  V25400  V25623    V258   \n",
       "...       ...  ...     ...     ...     ...     ...     ...     ...     ...   \n",
       "19995   V1083  ...  V36334   V4157  V36334  V37139    V969  V16023    V969   \n",
       "19996  V32512  ...  V16411  V27231  V26418  V10942  V20765  V32906  V32787   \n",
       "19997  V13003  ...  V29664  V33223  V33250  V27114  V27156  V20854  V20824   \n",
       "19998   V1644  ...  V38189   V1280   V2259  V18030   V2259   V2117   V2243   \n",
       "19999   V7953  ...  V10188  V24191  V10188  V18115  V41598   V7313  V34947   \n",
       "\n",
       "      node_18 node_19 node_20  \n",
       "0       V4455  V27017  V27025  \n",
       "1        V135    V186    V153  \n",
       "2      V41754  V41780  V41767  \n",
       "3      V42290  V42241  V34944  \n",
       "4      V27057  V34954   V3538  \n",
       "...       ...     ...     ...  \n",
       "19995  V35164    V969    V218  \n",
       "19996  V33273  V41480  V31699  \n",
       "19997  V33868  V20856  V14348  \n",
       "19998   V2117   V2259   V2251  \n",
       "19999   V7313  V42107  V41499  \n",
       "\n",
       "[20000 rows x 21 columns]"
      ]
     },
     "execution_count": 15,
     "metadata": {},
     "output_type": "execute_result"
    }
   ],
   "source": [
    "df_node_all"
   ]
  },
  {
   "cell_type": "code",
   "execution_count": 16,
   "metadata": {},
   "outputs": [
    {
     "data": {
      "text/html": [
       "<div>\n",
       "<style scoped>\n",
       "    .dataframe tbody tr th:only-of-type {\n",
       "        vertical-align: middle;\n",
       "    }\n",
       "\n",
       "    .dataframe tbody tr th {\n",
       "        vertical-align: top;\n",
       "    }\n",
       "\n",
       "    .dataframe thead th {\n",
       "        text-align: right;\n",
       "    }\n",
       "</style>\n",
       "<table border=\"1\" class=\"dataframe\">\n",
       "  <thead>\n",
       "    <tr style=\"text-align: right;\">\n",
       "      <th></th>\n",
       "      <th>Principle component 0</th>\n",
       "      <th>Principle component 1</th>\n",
       "      <th>Principle component 2</th>\n",
       "      <th>Principle component 3</th>\n",
       "      <th>Principle component 4</th>\n",
       "      <th>Principle component 5</th>\n",
       "      <th>Principle component 6</th>\n",
       "      <th>Principle component 7</th>\n",
       "      <th>Principle component 8</th>\n",
       "      <th>Principle component 9</th>\n",
       "      <th>...</th>\n",
       "      <th>Principle component 431</th>\n",
       "      <th>Principle component 432</th>\n",
       "      <th>Principle component 433</th>\n",
       "      <th>Principle component 434</th>\n",
       "      <th>Principle component 435</th>\n",
       "      <th>Principle component 436</th>\n",
       "      <th>Principle component 437</th>\n",
       "      <th>Principle component 438</th>\n",
       "      <th>Principle component 439</th>\n",
       "      <th>Principle component 440</th>\n",
       "    </tr>\n",
       "  </thead>\n",
       "  <tbody>\n",
       "    <tr>\n",
       "      <th>0</th>\n",
       "      <td>0.0</td>\n",
       "      <td>1.0</td>\n",
       "      <td>1.0</td>\n",
       "      <td>0.0</td>\n",
       "      <td>0.0</td>\n",
       "      <td>0.0</td>\n",
       "      <td>0.0</td>\n",
       "      <td>0.0</td>\n",
       "      <td>0.0</td>\n",
       "      <td>0.0</td>\n",
       "      <td>...</td>\n",
       "      <td>0.0</td>\n",
       "      <td>1.0</td>\n",
       "      <td>0.0</td>\n",
       "      <td>0.0</td>\n",
       "      <td>0.0</td>\n",
       "      <td>0.0</td>\n",
       "      <td>0.0</td>\n",
       "      <td>0.0</td>\n",
       "      <td>1.0</td>\n",
       "      <td>0.0</td>\n",
       "    </tr>\n",
       "    <tr>\n",
       "      <th>1</th>\n",
       "      <td>0.0</td>\n",
       "      <td>1.0</td>\n",
       "      <td>0.0</td>\n",
       "      <td>1.0</td>\n",
       "      <td>0.0</td>\n",
       "      <td>1.0</td>\n",
       "      <td>1.0</td>\n",
       "      <td>0.0</td>\n",
       "      <td>1.0</td>\n",
       "      <td>0.0</td>\n",
       "      <td>...</td>\n",
       "      <td>0.0</td>\n",
       "      <td>1.0</td>\n",
       "      <td>1.0</td>\n",
       "      <td>1.0</td>\n",
       "      <td>0.0</td>\n",
       "      <td>1.0</td>\n",
       "      <td>0.0</td>\n",
       "      <td>1.0</td>\n",
       "      <td>1.0</td>\n",
       "      <td>0.0</td>\n",
       "    </tr>\n",
       "    <tr>\n",
       "      <th>2</th>\n",
       "      <td>0.0</td>\n",
       "      <td>1.0</td>\n",
       "      <td>0.0</td>\n",
       "      <td>0.0</td>\n",
       "      <td>0.0</td>\n",
       "      <td>1.0</td>\n",
       "      <td>0.0</td>\n",
       "      <td>1.0</td>\n",
       "      <td>0.0</td>\n",
       "      <td>0.0</td>\n",
       "      <td>...</td>\n",
       "      <td>0.0</td>\n",
       "      <td>0.0</td>\n",
       "      <td>0.0</td>\n",
       "      <td>0.0</td>\n",
       "      <td>0.0</td>\n",
       "      <td>0.0</td>\n",
       "      <td>0.0</td>\n",
       "      <td>1.0</td>\n",
       "      <td>1.0</td>\n",
       "      <td>0.0</td>\n",
       "    </tr>\n",
       "    <tr>\n",
       "      <th>3</th>\n",
       "      <td>0.0</td>\n",
       "      <td>1.0</td>\n",
       "      <td>0.0</td>\n",
       "      <td>0.0</td>\n",
       "      <td>0.0</td>\n",
       "      <td>0.0</td>\n",
       "      <td>0.0</td>\n",
       "      <td>0.0</td>\n",
       "      <td>0.0</td>\n",
       "      <td>0.0</td>\n",
       "      <td>...</td>\n",
       "      <td>0.0</td>\n",
       "      <td>0.0</td>\n",
       "      <td>0.0</td>\n",
       "      <td>0.0</td>\n",
       "      <td>0.0</td>\n",
       "      <td>0.0</td>\n",
       "      <td>0.0</td>\n",
       "      <td>1.0</td>\n",
       "      <td>1.0</td>\n",
       "      <td>0.0</td>\n",
       "    </tr>\n",
       "    <tr>\n",
       "      <th>4</th>\n",
       "      <td>0.0</td>\n",
       "      <td>1.0</td>\n",
       "      <td>0.0</td>\n",
       "      <td>0.0</td>\n",
       "      <td>0.0</td>\n",
       "      <td>1.0</td>\n",
       "      <td>0.0</td>\n",
       "      <td>0.0</td>\n",
       "      <td>0.0</td>\n",
       "      <td>0.0</td>\n",
       "      <td>...</td>\n",
       "      <td>0.0</td>\n",
       "      <td>0.0</td>\n",
       "      <td>0.0</td>\n",
       "      <td>0.0</td>\n",
       "      <td>0.0</td>\n",
       "      <td>0.0</td>\n",
       "      <td>0.0</td>\n",
       "      <td>0.0</td>\n",
       "      <td>1.0</td>\n",
       "      <td>0.0</td>\n",
       "    </tr>\n",
       "    <tr>\n",
       "      <th>...</th>\n",
       "      <td>...</td>\n",
       "      <td>...</td>\n",
       "      <td>...</td>\n",
       "      <td>...</td>\n",
       "      <td>...</td>\n",
       "      <td>...</td>\n",
       "      <td>...</td>\n",
       "      <td>...</td>\n",
       "      <td>...</td>\n",
       "      <td>...</td>\n",
       "      <td>...</td>\n",
       "      <td>...</td>\n",
       "      <td>...</td>\n",
       "      <td>...</td>\n",
       "      <td>...</td>\n",
       "      <td>...</td>\n",
       "      <td>...</td>\n",
       "      <td>...</td>\n",
       "      <td>...</td>\n",
       "      <td>...</td>\n",
       "      <td>...</td>\n",
       "    </tr>\n",
       "    <tr>\n",
       "      <th>19995</th>\n",
       "      <td>0.0</td>\n",
       "      <td>1.0</td>\n",
       "      <td>0.0</td>\n",
       "      <td>0.0</td>\n",
       "      <td>0.0</td>\n",
       "      <td>0.0</td>\n",
       "      <td>0.0</td>\n",
       "      <td>0.0</td>\n",
       "      <td>0.0</td>\n",
       "      <td>0.0</td>\n",
       "      <td>...</td>\n",
       "      <td>0.0</td>\n",
       "      <td>0.0</td>\n",
       "      <td>0.0</td>\n",
       "      <td>0.0</td>\n",
       "      <td>1.0</td>\n",
       "      <td>0.0</td>\n",
       "      <td>1.0</td>\n",
       "      <td>0.0</td>\n",
       "      <td>1.0</td>\n",
       "      <td>0.0</td>\n",
       "    </tr>\n",
       "    <tr>\n",
       "      <th>19996</th>\n",
       "      <td>0.0</td>\n",
       "      <td>1.0</td>\n",
       "      <td>1.0</td>\n",
       "      <td>0.0</td>\n",
       "      <td>0.0</td>\n",
       "      <td>0.0</td>\n",
       "      <td>0.0</td>\n",
       "      <td>0.0</td>\n",
       "      <td>0.0</td>\n",
       "      <td>0.0</td>\n",
       "      <td>...</td>\n",
       "      <td>0.0</td>\n",
       "      <td>0.0</td>\n",
       "      <td>0.0</td>\n",
       "      <td>0.0</td>\n",
       "      <td>0.0</td>\n",
       "      <td>0.0</td>\n",
       "      <td>0.0</td>\n",
       "      <td>0.0</td>\n",
       "      <td>1.0</td>\n",
       "      <td>0.0</td>\n",
       "    </tr>\n",
       "    <tr>\n",
       "      <th>19997</th>\n",
       "      <td>0.0</td>\n",
       "      <td>1.0</td>\n",
       "      <td>0.0</td>\n",
       "      <td>0.0</td>\n",
       "      <td>0.0</td>\n",
       "      <td>0.0</td>\n",
       "      <td>0.0</td>\n",
       "      <td>0.0</td>\n",
       "      <td>0.0</td>\n",
       "      <td>0.0</td>\n",
       "      <td>...</td>\n",
       "      <td>0.0</td>\n",
       "      <td>0.0</td>\n",
       "      <td>0.0</td>\n",
       "      <td>0.0</td>\n",
       "      <td>0.0</td>\n",
       "      <td>0.0</td>\n",
       "      <td>0.0</td>\n",
       "      <td>0.0</td>\n",
       "      <td>1.0</td>\n",
       "      <td>0.0</td>\n",
       "    </tr>\n",
       "    <tr>\n",
       "      <th>19998</th>\n",
       "      <td>0.0</td>\n",
       "      <td>1.0</td>\n",
       "      <td>0.0</td>\n",
       "      <td>0.0</td>\n",
       "      <td>0.0</td>\n",
       "      <td>0.0</td>\n",
       "      <td>0.0</td>\n",
       "      <td>0.0</td>\n",
       "      <td>0.0</td>\n",
       "      <td>0.0</td>\n",
       "      <td>...</td>\n",
       "      <td>0.0</td>\n",
       "      <td>0.0</td>\n",
       "      <td>1.0</td>\n",
       "      <td>0.0</td>\n",
       "      <td>1.0</td>\n",
       "      <td>0.0</td>\n",
       "      <td>0.0</td>\n",
       "      <td>0.0</td>\n",
       "      <td>1.0</td>\n",
       "      <td>0.0</td>\n",
       "    </tr>\n",
       "    <tr>\n",
       "      <th>19999</th>\n",
       "      <td>0.0</td>\n",
       "      <td>1.0</td>\n",
       "      <td>0.0</td>\n",
       "      <td>0.0</td>\n",
       "      <td>0.0</td>\n",
       "      <td>0.0</td>\n",
       "      <td>0.0</td>\n",
       "      <td>0.0</td>\n",
       "      <td>0.0</td>\n",
       "      <td>0.0</td>\n",
       "      <td>...</td>\n",
       "      <td>0.0</td>\n",
       "      <td>0.0</td>\n",
       "      <td>0.0</td>\n",
       "      <td>0.0</td>\n",
       "      <td>0.0</td>\n",
       "      <td>0.0</td>\n",
       "      <td>0.0</td>\n",
       "      <td>0.0</td>\n",
       "      <td>1.0</td>\n",
       "      <td>0.0</td>\n",
       "    </tr>\n",
       "  </tbody>\n",
       "</table>\n",
       "<p>20000 rows × 441 columns</p>\n",
       "</div>"
      ],
      "text/plain": [
       "       Principle component 0  Principle component 1  Principle component 2  \\\n",
       "0                        0.0                    1.0                    1.0   \n",
       "1                        0.0                    1.0                    0.0   \n",
       "2                        0.0                    1.0                    0.0   \n",
       "3                        0.0                    1.0                    0.0   \n",
       "4                        0.0                    1.0                    0.0   \n",
       "...                      ...                    ...                    ...   \n",
       "19995                    0.0                    1.0                    0.0   \n",
       "19996                    0.0                    1.0                    1.0   \n",
       "19997                    0.0                    1.0                    0.0   \n",
       "19998                    0.0                    1.0                    0.0   \n",
       "19999                    0.0                    1.0                    0.0   \n",
       "\n",
       "       Principle component 3  Principle component 4  Principle component 5  \\\n",
       "0                        0.0                    0.0                    0.0   \n",
       "1                        1.0                    0.0                    1.0   \n",
       "2                        0.0                    0.0                    1.0   \n",
       "3                        0.0                    0.0                    0.0   \n",
       "4                        0.0                    0.0                    1.0   \n",
       "...                      ...                    ...                    ...   \n",
       "19995                    0.0                    0.0                    0.0   \n",
       "19996                    0.0                    0.0                    0.0   \n",
       "19997                    0.0                    0.0                    0.0   \n",
       "19998                    0.0                    0.0                    0.0   \n",
       "19999                    0.0                    0.0                    0.0   \n",
       "\n",
       "       Principle component 6  Principle component 7  Principle component 8  \\\n",
       "0                        0.0                    0.0                    0.0   \n",
       "1                        1.0                    0.0                    1.0   \n",
       "2                        0.0                    1.0                    0.0   \n",
       "3                        0.0                    0.0                    0.0   \n",
       "4                        0.0                    0.0                    0.0   \n",
       "...                      ...                    ...                    ...   \n",
       "19995                    0.0                    0.0                    0.0   \n",
       "19996                    0.0                    0.0                    0.0   \n",
       "19997                    0.0                    0.0                    0.0   \n",
       "19998                    0.0                    0.0                    0.0   \n",
       "19999                    0.0                    0.0                    0.0   \n",
       "\n",
       "       Principle component 9  ...  Principle component 431  \\\n",
       "0                        0.0  ...                      0.0   \n",
       "1                        0.0  ...                      0.0   \n",
       "2                        0.0  ...                      0.0   \n",
       "3                        0.0  ...                      0.0   \n",
       "4                        0.0  ...                      0.0   \n",
       "...                      ...  ...                      ...   \n",
       "19995                    0.0  ...                      0.0   \n",
       "19996                    0.0  ...                      0.0   \n",
       "19997                    0.0  ...                      0.0   \n",
       "19998                    0.0  ...                      0.0   \n",
       "19999                    0.0  ...                      0.0   \n",
       "\n",
       "       Principle component 432  Principle component 433  \\\n",
       "0                          1.0                      0.0   \n",
       "1                          1.0                      1.0   \n",
       "2                          0.0                      0.0   \n",
       "3                          0.0                      0.0   \n",
       "4                          0.0                      0.0   \n",
       "...                        ...                      ...   \n",
       "19995                      0.0                      0.0   \n",
       "19996                      0.0                      0.0   \n",
       "19997                      0.0                      0.0   \n",
       "19998                      0.0                      1.0   \n",
       "19999                      0.0                      0.0   \n",
       "\n",
       "       Principle component 434  Principle component 435  \\\n",
       "0                          0.0                      0.0   \n",
       "1                          1.0                      0.0   \n",
       "2                          0.0                      0.0   \n",
       "3                          0.0                      0.0   \n",
       "4                          0.0                      0.0   \n",
       "...                        ...                      ...   \n",
       "19995                      0.0                      1.0   \n",
       "19996                      0.0                      0.0   \n",
       "19997                      0.0                      0.0   \n",
       "19998                      0.0                      1.0   \n",
       "19999                      0.0                      0.0   \n",
       "\n",
       "       Principle component 436  Principle component 437  \\\n",
       "0                          0.0                      0.0   \n",
       "1                          1.0                      0.0   \n",
       "2                          0.0                      0.0   \n",
       "3                          0.0                      0.0   \n",
       "4                          0.0                      0.0   \n",
       "...                        ...                      ...   \n",
       "19995                      0.0                      1.0   \n",
       "19996                      0.0                      0.0   \n",
       "19997                      0.0                      0.0   \n",
       "19998                      0.0                      0.0   \n",
       "19999                      0.0                      0.0   \n",
       "\n",
       "       Principle component 438  Principle component 439  \\\n",
       "0                          0.0                      1.0   \n",
       "1                          1.0                      1.0   \n",
       "2                          1.0                      1.0   \n",
       "3                          1.0                      1.0   \n",
       "4                          0.0                      1.0   \n",
       "...                        ...                      ...   \n",
       "19995                      0.0                      1.0   \n",
       "19996                      0.0                      1.0   \n",
       "19997                      0.0                      1.0   \n",
       "19998                      0.0                      1.0   \n",
       "19999                      0.0                      1.0   \n",
       "\n",
       "       Principle component 440  \n",
       "0                          0.0  \n",
       "1                          0.0  \n",
       "2                          0.0  \n",
       "3                          0.0  \n",
       "4                          0.0  \n",
       "...                        ...  \n",
       "19995                      0.0  \n",
       "19996                      0.0  \n",
       "19997                      0.0  \n",
       "19998                      0.0  \n",
       "19999                      0.0  \n",
       "\n",
       "[20000 rows x 441 columns]"
      ]
     },
     "execution_count": 16,
     "metadata": {},
     "output_type": "execute_result"
    }
   ],
   "source": [
    "X_df"
   ]
  },
  {
   "cell_type": "markdown",
   "metadata": {},
   "source": [
    "## Map X_df / df_raw_data from 0/1 to genome location (i.e. the V_id)"
   ]
  },
  {
   "cell_type": "code",
   "execution_count": 17,
   "metadata": {},
   "outputs": [],
   "source": [
    "df_Vid_all = df_node_all.applymap(lambda x: int(x.strip('V')))"
   ]
  },
  {
   "cell_type": "code",
   "execution_count": 18,
   "metadata": {},
   "outputs": [
    {
     "data": {
      "text/plain": [
       "(13, 45938)"
      ]
     },
     "execution_count": 18,
     "metadata": {},
     "output_type": "execute_result"
    }
   ],
   "source": [
    "df_Vid_all.values.min(), df_Vid_all.values.max()"
   ]
  },
  {
   "cell_type": "code",
   "execution_count": 19,
   "metadata": {},
   "outputs": [],
   "source": [
    "def round_to_1_sig(x):\n",
    "    str_x = str(x)\n",
    "    if x == int(str_x[0] + '0' * (len(str_x) - 1)):\n",
    "        return x\n",
    "    else:\n",
    "        return (int(str_x[0]) + 1) * (10**(len(str_x) - 1))"
   ]
  },
  {
   "cell_type": "code",
   "execution_count": 20,
   "metadata": {},
   "outputs": [],
   "source": [
    "vid_lower_bound = 0\n",
    "vid_upper_bound = round_to_1_sig(df_Vid_all.values.max())"
   ]
  },
  {
   "cell_type": "code",
   "execution_count": 21,
   "metadata": {},
   "outputs": [
    {
     "data": {
      "text/plain": [
       "(0, 50000)"
      ]
     },
     "execution_count": 21,
     "metadata": {},
     "output_type": "execute_result"
    }
   ],
   "source": [
    "vid_lower_bound, vid_upper_bound"
   ]
  },
  {
   "cell_type": "code",
   "execution_count": 22,
   "metadata": {},
   "outputs": [],
   "source": [
    "def convert_row_in_adj_to_vid(adj_row, vid_row):\n",
    "    k = len(vid_row)\n",
    "    row_np = np.array(adj_row)\n",
    "    vid_np = np.array(vid_row)\n",
    "    \n",
    "    row_np = row_np.reshape(k, k)\n",
    "    new_row = row_np * vid_np\n",
    "    \n",
    "    return new_row.reshape(adj_row.shape)"
   ]
  },
  {
   "cell_type": "code",
   "execution_count": 23,
   "metadata": {},
   "outputs": [],
   "source": [
    "df_genome_mapped_X = X_df.copy()\n",
    "\n",
    "for idx in range(len(X_df)):\n",
    "    adj_row = X_df.iloc[idx]\n",
    "    vid_row = df_Vid_all.iloc[idx]\n",
    "    new_row = convert_row_in_adj_to_vid(adj_row, vid_row)\n",
    "    \n",
    "    df_genome_mapped_X.iloc[idx] = new_row"
   ]
  },
  {
   "cell_type": "code",
   "execution_count": 24,
   "metadata": {},
   "outputs": [
    {
     "data": {
      "text/html": [
       "<div>\n",
       "<style scoped>\n",
       "    .dataframe tbody tr th:only-of-type {\n",
       "        vertical-align: middle;\n",
       "    }\n",
       "\n",
       "    .dataframe tbody tr th {\n",
       "        vertical-align: top;\n",
       "    }\n",
       "\n",
       "    .dataframe thead th {\n",
       "        text-align: right;\n",
       "    }\n",
       "</style>\n",
       "<table border=\"1\" class=\"dataframe\">\n",
       "  <thead>\n",
       "    <tr style=\"text-align: right;\">\n",
       "      <th></th>\n",
       "      <th>Principle component 0</th>\n",
       "      <th>Principle component 1</th>\n",
       "      <th>Principle component 2</th>\n",
       "      <th>Principle component 3</th>\n",
       "      <th>Principle component 4</th>\n",
       "      <th>Principle component 5</th>\n",
       "      <th>Principle component 6</th>\n",
       "      <th>Principle component 7</th>\n",
       "      <th>Principle component 8</th>\n",
       "      <th>Principle component 9</th>\n",
       "      <th>...</th>\n",
       "      <th>Principle component 431</th>\n",
       "      <th>Principle component 432</th>\n",
       "      <th>Principle component 433</th>\n",
       "      <th>Principle component 434</th>\n",
       "      <th>Principle component 435</th>\n",
       "      <th>Principle component 436</th>\n",
       "      <th>Principle component 437</th>\n",
       "      <th>Principle component 438</th>\n",
       "      <th>Principle component 439</th>\n",
       "      <th>Principle component 440</th>\n",
       "    </tr>\n",
       "  </thead>\n",
       "  <tbody>\n",
       "    <tr>\n",
       "      <th>0</th>\n",
       "      <td>0.0</td>\n",
       "      <td>19835.0</td>\n",
       "      <td>969.0</td>\n",
       "      <td>0.0</td>\n",
       "      <td>0.0</td>\n",
       "      <td>0.0</td>\n",
       "      <td>0.0</td>\n",
       "      <td>0.0</td>\n",
       "      <td>0.0</td>\n",
       "      <td>0.0</td>\n",
       "      <td>...</td>\n",
       "      <td>0.0</td>\n",
       "      <td>27017.0</td>\n",
       "      <td>0.0</td>\n",
       "      <td>0.0</td>\n",
       "      <td>0.0</td>\n",
       "      <td>0.0</td>\n",
       "      <td>0.0</td>\n",
       "      <td>0.0</td>\n",
       "      <td>27017.0</td>\n",
       "      <td>0.0</td>\n",
       "    </tr>\n",
       "    <tr>\n",
       "      <th>1</th>\n",
       "      <td>0.0</td>\n",
       "      <td>22040.0</td>\n",
       "      <td>0.0</td>\n",
       "      <td>22040.0</td>\n",
       "      <td>0.0</td>\n",
       "      <td>22040.0</td>\n",
       "      <td>36348.0</td>\n",
       "      <td>0.0</td>\n",
       "      <td>22040.0</td>\n",
       "      <td>0.0</td>\n",
       "      <td>...</td>\n",
       "      <td>0.0</td>\n",
       "      <td>186.0</td>\n",
       "      <td>250.0</td>\n",
       "      <td>135.0</td>\n",
       "      <td>0.0</td>\n",
       "      <td>135.0</td>\n",
       "      <td>0.0</td>\n",
       "      <td>135.0</td>\n",
       "      <td>186.0</td>\n",
       "      <td>0.0</td>\n",
       "    </tr>\n",
       "    <tr>\n",
       "      <th>2</th>\n",
       "      <td>0.0</td>\n",
       "      <td>16412.0</td>\n",
       "      <td>0.0</td>\n",
       "      <td>0.0</td>\n",
       "      <td>0.0</td>\n",
       "      <td>16412.0</td>\n",
       "      <td>0.0</td>\n",
       "      <td>16412.0</td>\n",
       "      <td>0.0</td>\n",
       "      <td>0.0</td>\n",
       "      <td>...</td>\n",
       "      <td>0.0</td>\n",
       "      <td>0.0</td>\n",
       "      <td>0.0</td>\n",
       "      <td>0.0</td>\n",
       "      <td>0.0</td>\n",
       "      <td>0.0</td>\n",
       "      <td>0.0</td>\n",
       "      <td>41754.0</td>\n",
       "      <td>41780.0</td>\n",
       "      <td>0.0</td>\n",
       "    </tr>\n",
       "    <tr>\n",
       "      <th>3</th>\n",
       "      <td>0.0</td>\n",
       "      <td>7462.0</td>\n",
       "      <td>0.0</td>\n",
       "      <td>0.0</td>\n",
       "      <td>0.0</td>\n",
       "      <td>0.0</td>\n",
       "      <td>0.0</td>\n",
       "      <td>0.0</td>\n",
       "      <td>0.0</td>\n",
       "      <td>0.0</td>\n",
       "      <td>...</td>\n",
       "      <td>0.0</td>\n",
       "      <td>0.0</td>\n",
       "      <td>0.0</td>\n",
       "      <td>0.0</td>\n",
       "      <td>0.0</td>\n",
       "      <td>0.0</td>\n",
       "      <td>0.0</td>\n",
       "      <td>42290.0</td>\n",
       "      <td>42241.0</td>\n",
       "      <td>0.0</td>\n",
       "    </tr>\n",
       "    <tr>\n",
       "      <th>4</th>\n",
       "      <td>0.0</td>\n",
       "      <td>7462.0</td>\n",
       "      <td>0.0</td>\n",
       "      <td>0.0</td>\n",
       "      <td>0.0</td>\n",
       "      <td>7462.0</td>\n",
       "      <td>0.0</td>\n",
       "      <td>0.0</td>\n",
       "      <td>0.0</td>\n",
       "      <td>0.0</td>\n",
       "      <td>...</td>\n",
       "      <td>0.0</td>\n",
       "      <td>0.0</td>\n",
       "      <td>0.0</td>\n",
       "      <td>0.0</td>\n",
       "      <td>0.0</td>\n",
       "      <td>0.0</td>\n",
       "      <td>0.0</td>\n",
       "      <td>0.0</td>\n",
       "      <td>34954.0</td>\n",
       "      <td>0.0</td>\n",
       "    </tr>\n",
       "    <tr>\n",
       "      <th>...</th>\n",
       "      <td>...</td>\n",
       "      <td>...</td>\n",
       "      <td>...</td>\n",
       "      <td>...</td>\n",
       "      <td>...</td>\n",
       "      <td>...</td>\n",
       "      <td>...</td>\n",
       "      <td>...</td>\n",
       "      <td>...</td>\n",
       "      <td>...</td>\n",
       "      <td>...</td>\n",
       "      <td>...</td>\n",
       "      <td>...</td>\n",
       "      <td>...</td>\n",
       "      <td>...</td>\n",
       "      <td>...</td>\n",
       "      <td>...</td>\n",
       "      <td>...</td>\n",
       "      <td>...</td>\n",
       "      <td>...</td>\n",
       "      <td>...</td>\n",
       "    </tr>\n",
       "    <tr>\n",
       "      <th>19995</th>\n",
       "      <td>0.0</td>\n",
       "      <td>42442.0</td>\n",
       "      <td>0.0</td>\n",
       "      <td>0.0</td>\n",
       "      <td>0.0</td>\n",
       "      <td>0.0</td>\n",
       "      <td>0.0</td>\n",
       "      <td>0.0</td>\n",
       "      <td>0.0</td>\n",
       "      <td>0.0</td>\n",
       "      <td>...</td>\n",
       "      <td>0.0</td>\n",
       "      <td>0.0</td>\n",
       "      <td>0.0</td>\n",
       "      <td>0.0</td>\n",
       "      <td>969.0</td>\n",
       "      <td>0.0</td>\n",
       "      <td>969.0</td>\n",
       "      <td>0.0</td>\n",
       "      <td>969.0</td>\n",
       "      <td>0.0</td>\n",
       "    </tr>\n",
       "    <tr>\n",
       "      <th>19996</th>\n",
       "      <td>0.0</td>\n",
       "      <td>27659.0</td>\n",
       "      <td>27672.0</td>\n",
       "      <td>0.0</td>\n",
       "      <td>0.0</td>\n",
       "      <td>0.0</td>\n",
       "      <td>0.0</td>\n",
       "      <td>0.0</td>\n",
       "      <td>0.0</td>\n",
       "      <td>0.0</td>\n",
       "      <td>...</td>\n",
       "      <td>0.0</td>\n",
       "      <td>0.0</td>\n",
       "      <td>0.0</td>\n",
       "      <td>0.0</td>\n",
       "      <td>0.0</td>\n",
       "      <td>0.0</td>\n",
       "      <td>0.0</td>\n",
       "      <td>0.0</td>\n",
       "      <td>41480.0</td>\n",
       "      <td>0.0</td>\n",
       "    </tr>\n",
       "    <tr>\n",
       "      <th>19997</th>\n",
       "      <td>0.0</td>\n",
       "      <td>9995.0</td>\n",
       "      <td>0.0</td>\n",
       "      <td>0.0</td>\n",
       "      <td>0.0</td>\n",
       "      <td>0.0</td>\n",
       "      <td>0.0</td>\n",
       "      <td>0.0</td>\n",
       "      <td>0.0</td>\n",
       "      <td>0.0</td>\n",
       "      <td>...</td>\n",
       "      <td>0.0</td>\n",
       "      <td>0.0</td>\n",
       "      <td>0.0</td>\n",
       "      <td>0.0</td>\n",
       "      <td>0.0</td>\n",
       "      <td>0.0</td>\n",
       "      <td>0.0</td>\n",
       "      <td>0.0</td>\n",
       "      <td>20856.0</td>\n",
       "      <td>0.0</td>\n",
       "    </tr>\n",
       "    <tr>\n",
       "      <th>19998</th>\n",
       "      <td>0.0</td>\n",
       "      <td>9995.0</td>\n",
       "      <td>0.0</td>\n",
       "      <td>0.0</td>\n",
       "      <td>0.0</td>\n",
       "      <td>0.0</td>\n",
       "      <td>0.0</td>\n",
       "      <td>0.0</td>\n",
       "      <td>0.0</td>\n",
       "      <td>0.0</td>\n",
       "      <td>...</td>\n",
       "      <td>0.0</td>\n",
       "      <td>0.0</td>\n",
       "      <td>2259.0</td>\n",
       "      <td>0.0</td>\n",
       "      <td>2259.0</td>\n",
       "      <td>0.0</td>\n",
       "      <td>0.0</td>\n",
       "      <td>0.0</td>\n",
       "      <td>2259.0</td>\n",
       "      <td>0.0</td>\n",
       "    </tr>\n",
       "    <tr>\n",
       "      <th>19999</th>\n",
       "      <td>0.0</td>\n",
       "      <td>19793.0</td>\n",
       "      <td>0.0</td>\n",
       "      <td>0.0</td>\n",
       "      <td>0.0</td>\n",
       "      <td>0.0</td>\n",
       "      <td>0.0</td>\n",
       "      <td>0.0</td>\n",
       "      <td>0.0</td>\n",
       "      <td>0.0</td>\n",
       "      <td>...</td>\n",
       "      <td>0.0</td>\n",
       "      <td>0.0</td>\n",
       "      <td>0.0</td>\n",
       "      <td>0.0</td>\n",
       "      <td>0.0</td>\n",
       "      <td>0.0</td>\n",
       "      <td>0.0</td>\n",
       "      <td>0.0</td>\n",
       "      <td>42107.0</td>\n",
       "      <td>0.0</td>\n",
       "    </tr>\n",
       "  </tbody>\n",
       "</table>\n",
       "<p>20000 rows × 441 columns</p>\n",
       "</div>"
      ],
      "text/plain": [
       "       Principle component 0  Principle component 1  Principle component 2  \\\n",
       "0                        0.0                19835.0                  969.0   \n",
       "1                        0.0                22040.0                    0.0   \n",
       "2                        0.0                16412.0                    0.0   \n",
       "3                        0.0                 7462.0                    0.0   \n",
       "4                        0.0                 7462.0                    0.0   \n",
       "...                      ...                    ...                    ...   \n",
       "19995                    0.0                42442.0                    0.0   \n",
       "19996                    0.0                27659.0                27672.0   \n",
       "19997                    0.0                 9995.0                    0.0   \n",
       "19998                    0.0                 9995.0                    0.0   \n",
       "19999                    0.0                19793.0                    0.0   \n",
       "\n",
       "       Principle component 3  Principle component 4  Principle component 5  \\\n",
       "0                        0.0                    0.0                    0.0   \n",
       "1                    22040.0                    0.0                22040.0   \n",
       "2                        0.0                    0.0                16412.0   \n",
       "3                        0.0                    0.0                    0.0   \n",
       "4                        0.0                    0.0                 7462.0   \n",
       "...                      ...                    ...                    ...   \n",
       "19995                    0.0                    0.0                    0.0   \n",
       "19996                    0.0                    0.0                    0.0   \n",
       "19997                    0.0                    0.0                    0.0   \n",
       "19998                    0.0                    0.0                    0.0   \n",
       "19999                    0.0                    0.0                    0.0   \n",
       "\n",
       "       Principle component 6  Principle component 7  Principle component 8  \\\n",
       "0                        0.0                    0.0                    0.0   \n",
       "1                    36348.0                    0.0                22040.0   \n",
       "2                        0.0                16412.0                    0.0   \n",
       "3                        0.0                    0.0                    0.0   \n",
       "4                        0.0                    0.0                    0.0   \n",
       "...                      ...                    ...                    ...   \n",
       "19995                    0.0                    0.0                    0.0   \n",
       "19996                    0.0                    0.0                    0.0   \n",
       "19997                    0.0                    0.0                    0.0   \n",
       "19998                    0.0                    0.0                    0.0   \n",
       "19999                    0.0                    0.0                    0.0   \n",
       "\n",
       "       Principle component 9  ...  Principle component 431  \\\n",
       "0                        0.0  ...                      0.0   \n",
       "1                        0.0  ...                      0.0   \n",
       "2                        0.0  ...                      0.0   \n",
       "3                        0.0  ...                      0.0   \n",
       "4                        0.0  ...                      0.0   \n",
       "...                      ...  ...                      ...   \n",
       "19995                    0.0  ...                      0.0   \n",
       "19996                    0.0  ...                      0.0   \n",
       "19997                    0.0  ...                      0.0   \n",
       "19998                    0.0  ...                      0.0   \n",
       "19999                    0.0  ...                      0.0   \n",
       "\n",
       "       Principle component 432  Principle component 433  \\\n",
       "0                      27017.0                      0.0   \n",
       "1                        186.0                    250.0   \n",
       "2                          0.0                      0.0   \n",
       "3                          0.0                      0.0   \n",
       "4                          0.0                      0.0   \n",
       "...                        ...                      ...   \n",
       "19995                      0.0                      0.0   \n",
       "19996                      0.0                      0.0   \n",
       "19997                      0.0                      0.0   \n",
       "19998                      0.0                   2259.0   \n",
       "19999                      0.0                      0.0   \n",
       "\n",
       "       Principle component 434  Principle component 435  \\\n",
       "0                          0.0                      0.0   \n",
       "1                        135.0                      0.0   \n",
       "2                          0.0                      0.0   \n",
       "3                          0.0                      0.0   \n",
       "4                          0.0                      0.0   \n",
       "...                        ...                      ...   \n",
       "19995                      0.0                    969.0   \n",
       "19996                      0.0                      0.0   \n",
       "19997                      0.0                      0.0   \n",
       "19998                      0.0                   2259.0   \n",
       "19999                      0.0                      0.0   \n",
       "\n",
       "       Principle component 436  Principle component 437  \\\n",
       "0                          0.0                      0.0   \n",
       "1                        135.0                      0.0   \n",
       "2                          0.0                      0.0   \n",
       "3                          0.0                      0.0   \n",
       "4                          0.0                      0.0   \n",
       "...                        ...                      ...   \n",
       "19995                      0.0                    969.0   \n",
       "19996                      0.0                      0.0   \n",
       "19997                      0.0                      0.0   \n",
       "19998                      0.0                      0.0   \n",
       "19999                      0.0                      0.0   \n",
       "\n",
       "       Principle component 438  Principle component 439  \\\n",
       "0                          0.0                  27017.0   \n",
       "1                        135.0                    186.0   \n",
       "2                      41754.0                  41780.0   \n",
       "3                      42290.0                  42241.0   \n",
       "4                          0.0                  34954.0   \n",
       "...                        ...                      ...   \n",
       "19995                      0.0                    969.0   \n",
       "19996                      0.0                  41480.0   \n",
       "19997                      0.0                  20856.0   \n",
       "19998                      0.0                   2259.0   \n",
       "19999                      0.0                  42107.0   \n",
       "\n",
       "       Principle component 440  \n",
       "0                          0.0  \n",
       "1                          0.0  \n",
       "2                          0.0  \n",
       "3                          0.0  \n",
       "4                          0.0  \n",
       "...                        ...  \n",
       "19995                      0.0  \n",
       "19996                      0.0  \n",
       "19997                      0.0  \n",
       "19998                      0.0  \n",
       "19999                      0.0  \n",
       "\n",
       "[20000 rows x 441 columns]"
      ]
     },
     "execution_count": 24,
     "metadata": {},
     "output_type": "execute_result"
    }
   ],
   "source": [
    "df_genome_mapped_X"
   ]
  },
  {
   "cell_type": "markdown",
   "metadata": {},
   "source": [
    "-----\n",
    "## Draw one row"
   ]
  },
  {
   "cell_type": "code",
   "execution_count": 25,
   "metadata": {},
   "outputs": [],
   "source": [
    "def plot_one_row(ax, row, k = 21, threshold = 1, title = ''):\n",
    "    row_np = np.array(row)\n",
    "    if threshold is not None:\n",
    "        bin_row = (row_np >= threshold).astype(int)\n",
    "        bin_row_mat = bin_row.reshape(k, k)\n",
    "    else:\n",
    "        bin_row_mat = row_np.reshape(k, k)\n",
    "    \n",
    "    ax.imshow(bin_row_mat, cmap = 'Greys')\n",
    "    ax.set_title(title, fontsize = 18)\n",
    "    ax.set_xticks([])\n",
    "    ax.set_yticks([])\n",
    "    return bin_row_mat, ax\n",
    "\n",
    "def plot_one_color_row(ax, row, k = 21, title = '', vmin = 0, vmax = 1, cmap = 'rainbow'):\n",
    "    '''\n",
    "    Each row will be converted into a k * k matrix. \n",
    "    '''\n",
    "    row_np = np.array(row)\n",
    "    \n",
    "    row_mat = row_np.reshape(k, k)\n",
    "    \n",
    "    im = ax.imshow(row_mat, cmap = cmap, vmin = vmin, vmax = vmax)\n",
    "    ax.set_title(title, fontsize = 18)\n",
    "    ax.set_xticks([])\n",
    "    ax.set_yticks([])\n",
    "    return row_mat, ax, im "
   ]
  },
  {
   "cell_type": "code",
   "execution_count": 26,
   "metadata": {},
   "outputs": [
    {
     "data": {
      "image/png": "[encoded data removed]",
      "text/plain": [
       "<Figure size 432x288 with 1 Axes>"
      ]
     },
     "metadata": {},
     "output_type": "display_data"
    }
   ],
   "source": [
    "fig = plt.figure()\n",
    "ax = fig.add_subplot(111)\n",
    "\n",
    "plot_one_row(ax, X_df.loc[5], title = 'row_5')\n",
    "plt.show()\n",
    "plt.close()"
   ]
  },
  {
   "cell_type": "code",
   "execution_count": 27,
   "metadata": {},
   "outputs": [
    {
     "data": {
      "image/png": "[encoded data removed]",
      "text/plain": [
       "<Figure size 432x288 with 1 Axes>"
      ]
     },
     "metadata": {},
     "output_type": "display_data"
    }
   ],
   "source": [
    "fig = plt.figure()\n",
    "ax = fig.add_subplot(111)\n",
    "\n",
    "plot_one_color_row(ax, df_genome_mapped_X.loc[5], title = 'row_5',\n",
    "            vmin = vid_lower_bound, vmax = vid_upper_bound)\n",
    "plt.show()\n",
    "plt.close()"
   ]
  },
  {
   "cell_type": "code",
   "execution_count": 57,
   "metadata": {},
   "outputs": [],
   "source": [
    "def plot_df_in_grid(df_in, grid_size = (2, 5), figsize = (10, 4), \n",
    "                    k = 21, threshold = 1, title_prefix = 'row', title = '', \n",
    "                   sub_titles = None, p2savefig = None):\n",
    "    fig = plt.figure(figsize = figsize)\n",
    "    axes = fig.subplots((*grid_size))\n",
    "    \n",
    "    for row_idx in range(grid_size[0]):\n",
    "        for col_idx in range(grid_size[1]):\n",
    "            ax = axes[row_idx][col_idx]\n",
    "            \n",
    "            idx = row_idx * grid_size[1] + col_idx\n",
    "            if idx < df_in.shape[0]:\n",
    "                cur_row = df_in.iloc[idx]\n",
    "            else:\n",
    "                cur_row = np.zeros_like(df_in.iloc[0].values)\n",
    "            \n",
    "            if sub_titles is None:\n",
    "                subtitle =  f'{title_prefix}_{idx}'\n",
    "            else:\n",
    "                if idx < len(sub_titles):\n",
    "                    subtitle = sub_titles[idx]\n",
    "                else:\n",
    "                    subtitle = ''\n",
    "                \n",
    "            plot_one_row(ax, cur_row, k = k, threshold= threshold, title = subtitle)\n",
    "    plt.suptitle(title, fontsize = 18, y = 1.01)\n",
    "    plt.tight_layout(pad = 0.6, rect = [0, 0, 1, 1.01])\n",
    "    \n",
    "    if p2savefig is None:\n",
    "        plt.show()    \n",
    "        plt.close()\n",
    "    else:\n",
    "        plt.savefig(p2savefig, bbox_inches = 'tight')\n",
    "        plt.show()\n",
    "        plt.close()"
   ]
  },
  {
   "cell_type": "code",
   "execution_count": 29,
   "metadata": {},
   "outputs": [],
   "source": [
    "def plot_df_in_grid_color(df_in, grid_size = (2, 5), figsize = (10, 4), \n",
    "                    k = 21, threshold = 1, title_prefix = 'row', title = '', \n",
    "                    sub_titles = None, p2savefig = None, \n",
    "                    vmin = 0, vmax = 1, cmap = 'rainbow'):\n",
    "    \n",
    "    fig = plt.figure(figsize = figsize)\n",
    "    axes = fig.subplots((*grid_size))\n",
    "    \n",
    "    for row_idx in range(grid_size[0]):\n",
    "        for col_idx in range(grid_size[1]):\n",
    "            ax = axes[row_idx][col_idx]\n",
    "            \n",
    "            idx = row_idx * grid_size[1] + col_idx\n",
    "            if idx < df_in.shape[0]:\n",
    "                cur_row = df_in.iloc[idx]\n",
    "            else:\n",
    "                cur_row = np.zeros_like(df_in.iloc[0].values)\n",
    "            \n",
    "            if sub_titles is None:\n",
    "                subtitle =  f'{title_prefix}_{idx}'\n",
    "            else:\n",
    "                if idx < len(sub_titles):\n",
    "                    subtitle = sub_titles[idx]\n",
    "                else:\n",
    "                    subtitle = ''\n",
    "                \n",
    "#             plot_one_row(ax, cur_row, k = k, threshold= threshold, title = subtitle)\n",
    "            _, _, im = plot_one_color_row(ax, cur_row, k = k, title = subtitle,\n",
    "                                vmin = vmin, vmax = vmax, cmap = cmap)\n",
    "            \n",
    "    plt.suptitle(title, y = 1.05)\n",
    "    plt.tight_layout()\n",
    "    \n",
    "    fig.subplots_adjust(right = 0.9)\n",
    "    cbar_ax = fig.add_axes([0.95, 0.1, 0.05, 0.75])\n",
    "    plt.colorbar(im, cax = cbar_ax)\n",
    "    \n",
    "    if p2savefig is None:\n",
    "        plt.show()    \n",
    "        plt.close()\n",
    "    else:\n",
    "        plt.savefig(p2savefig)\n",
    "        plt.close()"
   ]
  },
  {
   "cell_type": "code",
   "execution_count": 30,
   "metadata": {},
   "outputs": [],
   "source": [
    "# plot_df_in_grid(X_df.loc[np.random.choice(X_df.index, 10)], title_prefix= 'random_sample')"
   ]
  },
  {
   "cell_type": "code",
   "execution_count": 31,
   "metadata": {},
   "outputs": [],
   "source": [
    "# plot_df_in_grid_color(df_genome_mapped_X.loc[np.random.choice(X_df.index, 10)], title_prefix= 'random_sample', \n",
    "#                      vmin = vid_lower_bound, vmax = vid_upper_bound, cmap = 'rainbow')"
   ]
  },
  {
   "cell_type": "markdown",
   "metadata": {},
   "source": [
    "# online cvxMF results"
   ]
  },
  {
   "cell_type": "code",
   "execution_count": 32,
   "metadata": {},
   "outputs": [
    {
     "data": {
      "text/plain": [
       "<AxesSubplot:>"
      ]
     },
     "execution_count": 32,
     "metadata": {},
     "output_type": "execute_result"
    },
    {
     "data": {
      "image/png": "[encoded data removed]",
      "text/plain": [
       "<Figure size 432x288 with 1 Axes>"
      ]
     },
     "metadata": {
      "needs_background": "light"
     },
     "output_type": "display_data"
    }
   ],
   "source": [
    "feature = [x for x in ocmf_dict.columns if 'label' not in x]\n",
    "ocmf_dict_val_df = ocmf_dict[feature]\n",
    "ocmf_dict_val_df.stack().hist()"
   ]
  },
  {
   "cell_type": "code",
   "execution_count": 33,
   "metadata": {},
   "outputs": [],
   "source": [
    "def get_importance_from_At(A_t):\n",
    "    diag = A_t.diagonal()\n",
    "    sum_diag = sum(diag)\n",
    "    score = diag / sum_diag\n",
    "    return score"
   ]
  },
  {
   "cell_type": "code",
   "execution_count": 51,
   "metadata": {},
   "outputs": [],
   "source": [
    "importance_score = get_importance_from_At(A_t)\n",
    "# subtitles = [f'online cvxNDL\\n dictionaries {x}\\n score {importance_score[x]:.2f}' for x in range(ocmf_dict_val_df.shape[0])]\n",
    "subtitles = [f'dict_{x}\\n({importance_score[x]:.3f})' for x in range(ocmf_dict_val_df.shape[0])]"
   ]
  },
  {
   "cell_type": "code",
   "execution_count": 52,
   "metadata": {},
   "outputs": [],
   "source": [
    "descending_order_of_At = importance_score.argsort()[::-1]"
   ]
  },
  {
   "cell_type": "code",
   "execution_count": 53,
   "metadata": {},
   "outputs": [
    {
     "data": {
      "text/plain": [
       "array([0.0845453 , 0.07691876, 0.07449854, 0.070208  , 0.06057809,\n",
       "       0.05941527, 0.05704141, 0.05465686, 0.04649116, 0.04472002,\n",
       "       0.0444476 , 0.03762764, 0.03031203, 0.0301816 , 0.02951749,\n",
       "       0.02888147, 0.02537849, 0.02424211, 0.02212079, 0.01929306,\n",
       "       0.01761369, 0.01650967, 0.01629379, 0.01426645, 0.01424071])"
      ]
     },
     "execution_count": 53,
     "metadata": {},
     "output_type": "execute_result"
    }
   ],
   "source": [
    "importance_score[descending_order_of_At]"
   ]
  },
  {
   "cell_type": "markdown",
   "metadata": {},
   "source": [
    "## sorted dictionary by importance score"
   ]
  },
  {
   "cell_type": "code",
   "execution_count": 54,
   "metadata": {},
   "outputs": [],
   "source": [
    "sorted_ocmf_dict_val_df_by_At = ocmf_dict_val_df.loc[descending_order_of_At]\n",
    "sorted_subtitles_by_At = [subtitles[i] for i in descending_order_of_At]"
   ]
  },
  {
   "cell_type": "markdown",
   "metadata": {},
   "source": [
    "### raw dicitonaries "
   ]
  },
  {
   "cell_type": "code",
   "execution_count": 58,
   "metadata": {},
   "outputs": [
    {
     "data": {
      "image/png": "[encoded data removed]",
      "text/plain": [
       "<Figure size 504x720 with 25 Axes>"
      ]
     },
     "metadata": {},
     "output_type": "display_data"
    }
   ],
   "source": [
    "p2\n",
    "plot_df_in_grid(sorted_ocmf_dict_val_df_by_At, threshold = None, \n",
    "                grid_size = (5, 5), figsize = (7, 10),\n",
    "                sub_titles= sorted_subtitles_by_At,\n",
    "                title = f'online cvxNDL: {chromo}')"
   ]
  },
  {
   "cell_type": "markdown",
   "metadata": {},
   "source": [
    "## plot convex hull of representative regions"
   ]
  },
  {
   "cell_type": "code",
   "execution_count": 39,
   "metadata": {},
   "outputs": [],
   "source": [
    "def plot_cvx_hull(ax, df_in, weight = None, k = 21, title = ''):\n",
    "#     fig = plt.figure()\n",
    "#     ax = fig.subplots()\n",
    "    \n",
    "    if weight is None:\n",
    "        average_row = df_in.mean(axis = 0).values\n",
    "    else:\n",
    "        average_row = (df_in * weight.reshape(-1, 1)).sum(axis = 0).values\n",
    "    bin_row_mat = average_row.reshape(k, k)\n",
    "\n",
    "    ax.imshow(bin_row_mat, cmap = 'Greys')\n",
    "    ax.set_title(title)\n",
    "    ax.set_xticks([])\n",
    "    ax.set_yticks([])\n",
    "\n",
    "#     plt.show()\n",
    "#     plt.close()\n",
    "    return ax"
   ]
  },
  {
   "cell_type": "code",
   "execution_count": 40,
   "metadata": {},
   "outputs": [],
   "source": [
    "df_W_hat = pd.DataFrame(data = W_hat, columns = [f'w_cluster_{x}' for x in range(W_hat.shape[1])])"
   ]
  },
  {
   "cell_type": "code",
   "execution_count": 41,
   "metadata": {},
   "outputs": [
    {
     "data": {
      "text/html": [
       "<div>\n",
       "<style scoped>\n",
       "    .dataframe tbody tr th:only-of-type {\n",
       "        vertical-align: middle;\n",
       "    }\n",
       "\n",
       "    .dataframe tbody tr th {\n",
       "        vertical-align: top;\n",
       "    }\n",
       "\n",
       "    .dataframe thead th {\n",
       "        text-align: right;\n",
       "    }\n",
       "</style>\n",
       "<table border=\"1\" class=\"dataframe\">\n",
       "  <thead>\n",
       "    <tr style=\"text-align: right;\">\n",
       "      <th></th>\n",
       "      <th>w_cluster_0</th>\n",
       "      <th>w_cluster_1</th>\n",
       "      <th>w_cluster_2</th>\n",
       "      <th>w_cluster_3</th>\n",
       "      <th>w_cluster_4</th>\n",
       "      <th>w_cluster_5</th>\n",
       "      <th>w_cluster_6</th>\n",
       "      <th>w_cluster_7</th>\n",
       "      <th>w_cluster_8</th>\n",
       "      <th>w_cluster_9</th>\n",
       "      <th>...</th>\n",
       "      <th>w_cluster_15</th>\n",
       "      <th>w_cluster_16</th>\n",
       "      <th>w_cluster_17</th>\n",
       "      <th>w_cluster_18</th>\n",
       "      <th>w_cluster_19</th>\n",
       "      <th>w_cluster_20</th>\n",
       "      <th>w_cluster_21</th>\n",
       "      <th>w_cluster_22</th>\n",
       "      <th>w_cluster_23</th>\n",
       "      <th>w_cluster_24</th>\n",
       "    </tr>\n",
       "  </thead>\n",
       "  <tbody>\n",
       "    <tr>\n",
       "      <th>0</th>\n",
       "      <td>0.058095</td>\n",
       "      <td>0.0</td>\n",
       "      <td>0.0</td>\n",
       "      <td>0.0</td>\n",
       "      <td>0.0</td>\n",
       "      <td>0.0</td>\n",
       "      <td>0.0</td>\n",
       "      <td>0.0</td>\n",
       "      <td>0.0</td>\n",
       "      <td>0.0</td>\n",
       "      <td>...</td>\n",
       "      <td>0.0</td>\n",
       "      <td>0.0</td>\n",
       "      <td>0.0</td>\n",
       "      <td>0.0</td>\n",
       "      <td>0.0</td>\n",
       "      <td>0.0</td>\n",
       "      <td>0.0</td>\n",
       "      <td>0.0</td>\n",
       "      <td>0.0</td>\n",
       "      <td>0.000000</td>\n",
       "    </tr>\n",
       "    <tr>\n",
       "      <th>1</th>\n",
       "      <td>0.047625</td>\n",
       "      <td>0.0</td>\n",
       "      <td>0.0</td>\n",
       "      <td>0.0</td>\n",
       "      <td>0.0</td>\n",
       "      <td>0.0</td>\n",
       "      <td>0.0</td>\n",
       "      <td>0.0</td>\n",
       "      <td>0.0</td>\n",
       "      <td>0.0</td>\n",
       "      <td>...</td>\n",
       "      <td>0.0</td>\n",
       "      <td>0.0</td>\n",
       "      <td>0.0</td>\n",
       "      <td>0.0</td>\n",
       "      <td>0.0</td>\n",
       "      <td>0.0</td>\n",
       "      <td>0.0</td>\n",
       "      <td>0.0</td>\n",
       "      <td>0.0</td>\n",
       "      <td>0.000000</td>\n",
       "    </tr>\n",
       "    <tr>\n",
       "      <th>2</th>\n",
       "      <td>0.032210</td>\n",
       "      <td>0.0</td>\n",
       "      <td>0.0</td>\n",
       "      <td>0.0</td>\n",
       "      <td>0.0</td>\n",
       "      <td>0.0</td>\n",
       "      <td>0.0</td>\n",
       "      <td>0.0</td>\n",
       "      <td>0.0</td>\n",
       "      <td>0.0</td>\n",
       "      <td>...</td>\n",
       "      <td>0.0</td>\n",
       "      <td>0.0</td>\n",
       "      <td>0.0</td>\n",
       "      <td>0.0</td>\n",
       "      <td>0.0</td>\n",
       "      <td>0.0</td>\n",
       "      <td>0.0</td>\n",
       "      <td>0.0</td>\n",
       "      <td>0.0</td>\n",
       "      <td>0.000000</td>\n",
       "    </tr>\n",
       "    <tr>\n",
       "      <th>3</th>\n",
       "      <td>0.058110</td>\n",
       "      <td>0.0</td>\n",
       "      <td>0.0</td>\n",
       "      <td>0.0</td>\n",
       "      <td>0.0</td>\n",
       "      <td>0.0</td>\n",
       "      <td>0.0</td>\n",
       "      <td>0.0</td>\n",
       "      <td>0.0</td>\n",
       "      <td>0.0</td>\n",
       "      <td>...</td>\n",
       "      <td>0.0</td>\n",
       "      <td>0.0</td>\n",
       "      <td>0.0</td>\n",
       "      <td>0.0</td>\n",
       "      <td>0.0</td>\n",
       "      <td>0.0</td>\n",
       "      <td>0.0</td>\n",
       "      <td>0.0</td>\n",
       "      <td>0.0</td>\n",
       "      <td>0.000000</td>\n",
       "    </tr>\n",
       "    <tr>\n",
       "      <th>4</th>\n",
       "      <td>0.057509</td>\n",
       "      <td>0.0</td>\n",
       "      <td>0.0</td>\n",
       "      <td>0.0</td>\n",
       "      <td>0.0</td>\n",
       "      <td>0.0</td>\n",
       "      <td>0.0</td>\n",
       "      <td>0.0</td>\n",
       "      <td>0.0</td>\n",
       "      <td>0.0</td>\n",
       "      <td>...</td>\n",
       "      <td>0.0</td>\n",
       "      <td>0.0</td>\n",
       "      <td>0.0</td>\n",
       "      <td>0.0</td>\n",
       "      <td>0.0</td>\n",
       "      <td>0.0</td>\n",
       "      <td>0.0</td>\n",
       "      <td>0.0</td>\n",
       "      <td>0.0</td>\n",
       "      <td>0.000000</td>\n",
       "    </tr>\n",
       "    <tr>\n",
       "      <th>...</th>\n",
       "      <td>...</td>\n",
       "      <td>...</td>\n",
       "      <td>...</td>\n",
       "      <td>...</td>\n",
       "      <td>...</td>\n",
       "      <td>...</td>\n",
       "      <td>...</td>\n",
       "      <td>...</td>\n",
       "      <td>...</td>\n",
       "      <td>...</td>\n",
       "      <td>...</td>\n",
       "      <td>...</td>\n",
       "      <td>...</td>\n",
       "      <td>...</td>\n",
       "      <td>...</td>\n",
       "      <td>...</td>\n",
       "      <td>...</td>\n",
       "      <td>...</td>\n",
       "      <td>...</td>\n",
       "      <td>...</td>\n",
       "      <td>...</td>\n",
       "    </tr>\n",
       "    <tr>\n",
       "      <th>370</th>\n",
       "      <td>0.000000</td>\n",
       "      <td>0.0</td>\n",
       "      <td>0.0</td>\n",
       "      <td>0.0</td>\n",
       "      <td>0.0</td>\n",
       "      <td>0.0</td>\n",
       "      <td>0.0</td>\n",
       "      <td>0.0</td>\n",
       "      <td>0.0</td>\n",
       "      <td>0.0</td>\n",
       "      <td>...</td>\n",
       "      <td>0.0</td>\n",
       "      <td>0.0</td>\n",
       "      <td>0.0</td>\n",
       "      <td>0.0</td>\n",
       "      <td>0.0</td>\n",
       "      <td>0.0</td>\n",
       "      <td>0.0</td>\n",
       "      <td>0.0</td>\n",
       "      <td>0.0</td>\n",
       "      <td>0.120078</td>\n",
       "    </tr>\n",
       "    <tr>\n",
       "      <th>371</th>\n",
       "      <td>0.000000</td>\n",
       "      <td>0.0</td>\n",
       "      <td>0.0</td>\n",
       "      <td>0.0</td>\n",
       "      <td>0.0</td>\n",
       "      <td>0.0</td>\n",
       "      <td>0.0</td>\n",
       "      <td>0.0</td>\n",
       "      <td>0.0</td>\n",
       "      <td>0.0</td>\n",
       "      <td>...</td>\n",
       "      <td>0.0</td>\n",
       "      <td>0.0</td>\n",
       "      <td>0.0</td>\n",
       "      <td>0.0</td>\n",
       "      <td>0.0</td>\n",
       "      <td>0.0</td>\n",
       "      <td>0.0</td>\n",
       "      <td>0.0</td>\n",
       "      <td>0.0</td>\n",
       "      <td>0.108379</td>\n",
       "    </tr>\n",
       "    <tr>\n",
       "      <th>372</th>\n",
       "      <td>0.000000</td>\n",
       "      <td>0.0</td>\n",
       "      <td>0.0</td>\n",
       "      <td>0.0</td>\n",
       "      <td>0.0</td>\n",
       "      <td>0.0</td>\n",
       "      <td>0.0</td>\n",
       "      <td>0.0</td>\n",
       "      <td>0.0</td>\n",
       "      <td>0.0</td>\n",
       "      <td>...</td>\n",
       "      <td>0.0</td>\n",
       "      <td>0.0</td>\n",
       "      <td>0.0</td>\n",
       "      <td>0.0</td>\n",
       "      <td>0.0</td>\n",
       "      <td>0.0</td>\n",
       "      <td>0.0</td>\n",
       "      <td>0.0</td>\n",
       "      <td>0.0</td>\n",
       "      <td>0.103790</td>\n",
       "    </tr>\n",
       "    <tr>\n",
       "      <th>373</th>\n",
       "      <td>0.000000</td>\n",
       "      <td>0.0</td>\n",
       "      <td>0.0</td>\n",
       "      <td>0.0</td>\n",
       "      <td>0.0</td>\n",
       "      <td>0.0</td>\n",
       "      <td>0.0</td>\n",
       "      <td>0.0</td>\n",
       "      <td>0.0</td>\n",
       "      <td>0.0</td>\n",
       "      <td>...</td>\n",
       "      <td>0.0</td>\n",
       "      <td>0.0</td>\n",
       "      <td>0.0</td>\n",
       "      <td>0.0</td>\n",
       "      <td>0.0</td>\n",
       "      <td>0.0</td>\n",
       "      <td>0.0</td>\n",
       "      <td>0.0</td>\n",
       "      <td>0.0</td>\n",
       "      <td>0.090200</td>\n",
       "    </tr>\n",
       "    <tr>\n",
       "      <th>374</th>\n",
       "      <td>0.000000</td>\n",
       "      <td>0.0</td>\n",
       "      <td>0.0</td>\n",
       "      <td>0.0</td>\n",
       "      <td>0.0</td>\n",
       "      <td>0.0</td>\n",
       "      <td>0.0</td>\n",
       "      <td>0.0</td>\n",
       "      <td>0.0</td>\n",
       "      <td>0.0</td>\n",
       "      <td>...</td>\n",
       "      <td>0.0</td>\n",
       "      <td>0.0</td>\n",
       "      <td>0.0</td>\n",
       "      <td>0.0</td>\n",
       "      <td>0.0</td>\n",
       "      <td>0.0</td>\n",
       "      <td>0.0</td>\n",
       "      <td>0.0</td>\n",
       "      <td>0.0</td>\n",
       "      <td>0.104224</td>\n",
       "    </tr>\n",
       "  </tbody>\n",
       "</table>\n",
       "<p>375 rows × 25 columns</p>\n",
       "</div>"
      ],
      "text/plain": [
       "     w_cluster_0  w_cluster_1  w_cluster_2  w_cluster_3  w_cluster_4  \\\n",
       "0       0.058095          0.0          0.0          0.0          0.0   \n",
       "1       0.047625          0.0          0.0          0.0          0.0   \n",
       "2       0.032210          0.0          0.0          0.0          0.0   \n",
       "3       0.058110          0.0          0.0          0.0          0.0   \n",
       "4       0.057509          0.0          0.0          0.0          0.0   \n",
       "..           ...          ...          ...          ...          ...   \n",
       "370     0.000000          0.0          0.0          0.0          0.0   \n",
       "371     0.000000          0.0          0.0          0.0          0.0   \n",
       "372     0.000000          0.0          0.0          0.0          0.0   \n",
       "373     0.000000          0.0          0.0          0.0          0.0   \n",
       "374     0.000000          0.0          0.0          0.0          0.0   \n",
       "\n",
       "     w_cluster_5  w_cluster_6  w_cluster_7  w_cluster_8  w_cluster_9  ...  \\\n",
       "0            0.0          0.0          0.0          0.0          0.0  ...   \n",
       "1            0.0          0.0          0.0          0.0          0.0  ...   \n",
       "2            0.0          0.0          0.0          0.0          0.0  ...   \n",
       "3            0.0          0.0          0.0          0.0          0.0  ...   \n",
       "4            0.0          0.0          0.0          0.0          0.0  ...   \n",
       "..           ...          ...          ...          ...          ...  ...   \n",
       "370          0.0          0.0          0.0          0.0          0.0  ...   \n",
       "371          0.0          0.0          0.0          0.0          0.0  ...   \n",
       "372          0.0          0.0          0.0          0.0          0.0  ...   \n",
       "373          0.0          0.0          0.0          0.0          0.0  ...   \n",
       "374          0.0          0.0          0.0          0.0          0.0  ...   \n",
       "\n",
       "     w_cluster_15  w_cluster_16  w_cluster_17  w_cluster_18  w_cluster_19  \\\n",
       "0             0.0           0.0           0.0           0.0           0.0   \n",
       "1             0.0           0.0           0.0           0.0           0.0   \n",
       "2             0.0           0.0           0.0           0.0           0.0   \n",
       "3             0.0           0.0           0.0           0.0           0.0   \n",
       "4             0.0           0.0           0.0           0.0           0.0   \n",
       "..            ...           ...           ...           ...           ...   \n",
       "370           0.0           0.0           0.0           0.0           0.0   \n",
       "371           0.0           0.0           0.0           0.0           0.0   \n",
       "372           0.0           0.0           0.0           0.0           0.0   \n",
       "373           0.0           0.0           0.0           0.0           0.0   \n",
       "374           0.0           0.0           0.0           0.0           0.0   \n",
       "\n",
       "     w_cluster_20  w_cluster_21  w_cluster_22  w_cluster_23  w_cluster_24  \n",
       "0             0.0           0.0           0.0           0.0      0.000000  \n",
       "1             0.0           0.0           0.0           0.0      0.000000  \n",
       "2             0.0           0.0           0.0           0.0      0.000000  \n",
       "3             0.0           0.0           0.0           0.0      0.000000  \n",
       "4             0.0           0.0           0.0           0.0      0.000000  \n",
       "..            ...           ...           ...           ...           ...  \n",
       "370           0.0           0.0           0.0           0.0      0.120078  \n",
       "371           0.0           0.0           0.0           0.0      0.108379  \n",
       "372           0.0           0.0           0.0           0.0      0.103790  \n",
       "373           0.0           0.0           0.0           0.0      0.090200  \n",
       "374           0.0           0.0           0.0           0.0      0.104224  \n",
       "\n",
       "[375 rows x 25 columns]"
      ]
     },
     "execution_count": 41,
     "metadata": {},
     "output_type": "execute_result"
    }
   ],
   "source": [
    "df_W_hat"
   ]
  },
  {
   "cell_type": "code",
   "execution_count": 42,
   "metadata": {},
   "outputs": [
    {
     "name": "stdout",
     "output_type": "stream",
     "text": [
      "0.07691876451419741\n",
      "0.01929305665419076\n",
      "0.0845453047982498\n",
      "0.03031202677737149\n",
      "0.05941526529532529\n",
      "0.07449854102201146\n",
      "0.044447596860033356\n",
      "0.060578085970816556\n",
      "0.05704141357674219\n",
      "0.016509670274812344\n",
      "0.01761369479199171\n",
      "0.02212079486577725\n",
      "0.0288814690748385\n",
      "0.014266446318934268\n",
      "0.05465686029794251\n",
      "0.037627636402538085\n",
      "0.02951749149951574\n",
      "0.044720024399101346\n",
      "0.030181601757152222\n",
      "0.016293785995543805\n",
      "0.024242107888248616\n",
      "0.07020800090805801\n",
      "0.04649115605966381\n",
      "0.014240714623102764\n",
      "0.025378489373840435\n"
     ]
    }
   ],
   "source": [
    "for x in importance_score:\n",
    "    print(x)"
   ]
  },
  {
   "cell_type": "code",
   "execution_count": 43,
   "metadata": {},
   "outputs": [
    {
     "data": {
      "text/plain": [
       "array([ 2,  0,  5, 21,  7])"
      ]
     },
     "execution_count": 43,
     "metadata": {},
     "output_type": "execute_result"
    }
   ],
   "source": [
    "descending_order_of_At[:5]"
   ]
  },
  {
   "cell_type": "code",
   "execution_count": 44,
   "metadata": {},
   "outputs": [],
   "source": [
    "# descending_order_of_At = np.arange(len(descending_order_of_At))"
   ]
  },
  {
   "cell_type": "markdown",
   "metadata": {},
   "source": [
    "# Plot Dictionaries together with colored "
   ]
  },
  {
   "cell_type": "markdown",
   "metadata": {},
   "source": [
    "## No colorbar"
   ]
  },
  {
   "cell_type": "code",
   "execution_count": 45,
   "metadata": {
    "scrolled": false
   },
   "outputs": [
    {
     "data": {
      "image/png": "[encoded data removed]",
      "text/plain": [
       "<Figure size 504x720 with 25 Axes>"
      ]
     },
     "metadata": {},
     "output_type": "display_data"
    }
   ],
   "source": [
    "fig = plt.figure(figsize = (7, 10))\n",
    "axes = fig.subplots(5, 5)\n",
    "\n",
    "for ax_idx, cluster in enumerate(descending_order_of_At):\n",
    "    cur_importance_score = importance_score[cluster]\n",
    "    # get current dictionary row from for the current cluster with descending importance score.\n",
    "    dict_row = ocmf_dict[ocmf_dict.label == f'ocmf: type {cluster + 1}']\n",
    "    dict_row = dict_row[feature]\n",
    "    \n",
    "    # get representative regions for the current cluster.\n",
    "    cur_label = f'group {cluster}'\n",
    "    df_rep_val_df = rep_region[rep_region.label == cur_label].drop(columns = ['label'])\n",
    "    \n",
    "    # Find convex weight for each rep. in the corresponding column of cvx_weight, and the selected \n",
    "    # representative rows. \n",
    "    # df_W_hat is a column vector matrix. Each column is the weight for a cluster.\n",
    "    cvx_weight = df_W_hat[rep_region.label == cur_label].values[:, cluster]\n",
    "    descending_order_cvx_weight = cvx_weight.argsort()[::-1]\n",
    "    \n",
    "    # sort representative by their cvx weights. \n",
    "    sorted_df_rep_val_df_by_cvx_weight = df_rep_val_df.iloc[descending_order_cvx_weight]\n",
    "#     print('cluster :', cluster)\n",
    "    \n",
    "    recon_dict_row = np.zeros_like(dict_row.values)\n",
    "    colormapped_dict_row = np.zeros_like(recon_dict_row)\n",
    "    \n",
    "    for idx, (_, row) in enumerate(sorted_df_rep_val_df_by_cvx_weight.iterrows()):\n",
    "\n",
    "        row_in = row.values\n",
    "        cur_rep_idx = descending_order_cvx_weight[idx]\n",
    "        cur_weight = cvx_weight[cur_rep_idx]\n",
    "        \n",
    "#         print('-' * 7, f'cluster {cluster}, rep {cur_rep_idx}, pos in {idx}', '-' * 7)\n",
    "        \n",
    "        if warning_flag:\n",
    "            # even though used old dataset, try to find if matching in new dataset exists.\n",
    "            # always true: df_raw_data == X_df != df_raw_data_matched_emb\n",
    "            sample_idx_in_subgraphs = (df_raw_data_matched_emb == row_in).all(axis = 1)\n",
    "            samples_from_df_raw_data = df_raw_data_matched_emb.loc[sample_idx_in_subgraphs]\n",
    "            \n",
    "            if len(samples_from_df_raw_data) == 0:\n",
    "#                 print('no match of row adj in new dataset with embedding. Use OLD dataset')\n",
    "                sample_idx_in_subgraphs = (df_raw_data == row_in).all(axis = 1)\n",
    "                samples_from_df_raw_data = df_raw_data.loc[sample_idx_in_subgraphs]\n",
    "                \n",
    "            \n",
    "        else:\n",
    "            # no warning sign. we are using new dataset so there is no error.\n",
    "            # df_raw_data == X_df == df_raw_data_matched_emb.\n",
    "            sample_idx_in_subgraphs = (df_raw_data == row_in).all(axis = 1)\n",
    "            samples_from_df_raw_data = df_raw_data.loc[sample_idx_in_subgraphs]\n",
    "        \n",
    "        # In case there are multiple samples with same weight matrices, select the first one.\n",
    "        samples_from_df_raw_data = samples_from_df_raw_data.iloc[0]\n",
    "        \n",
    "        \n",
    "        # Get node embeddings. \n",
    "        node_embedding_of_samples = df_node_all.loc[sample_idx_in_subgraphs].iloc[0].values\n",
    "        \n",
    "    \n",
    "        # map current rep adjacency to genome id. \n",
    "        VID_of_samples = [int(x.strip('V')) for x in node_embedding_of_samples]\n",
    "        genome_id_mapped_rep_row = convert_row_in_adj_to_vid(row_in, VID_of_samples)\n",
    "        \n",
    "        # recompute the cvx combination of rep and its color-coded vid. \n",
    "        cur_cvx_weight = cvx_weight[descending_order_cvx_weight][idx]\n",
    "        recon_dict_row += cur_cvx_weight * row_in \n",
    "        colormapped_dict_row += cur_cvx_weight * genome_id_mapped_rep_row\n",
    "        \n",
    "    if not np.isclose(recon_dict_row, dict_row.values).all():\n",
    "        break\n",
    "    else:\n",
    "        ax_row, ax_col = ax_idx // 5, ax_idx % 5\n",
    "        cur_ax = axes[ax_row, ax_col]\n",
    "\n",
    "        \n",
    "        _, _, im = plot_one_color_row(cur_ax, colormapped_dict_row, \n",
    "                           title = f'dict_{cluster}\\n({cur_importance_score:.3f})',\n",
    "                            vmin = vid_lower_bound, vmax = vid_upper_bound)\n",
    "\n",
    "        \n",
    "plt.suptitle(f'online cvxNDL dictionaries: {chromo}', fontsize = 18, y = 1.01)\n",
    "plt.tight_layout(pad = 0.6, rect = [0, 0, 1, 1.01])\n",
    "\n",
    "# fig.subplots_adjust(right = 0.9)\n",
    "# cbar_ax = fig.add_axes([0.9, 0.1, 0.03, 0.75])\n",
    "# plt.colorbar(im, cax = cbar_ax)\n",
    "# cbar_ax.tick_params(labelsize = 14, rotation = 90)\n",
    "\n",
    "\n",
    "# p2fig_folder = f'/data/shared/jianhao/online_cvxNDL_results/figures/{chromo}_fontsize18'\n",
    "\n",
    "p2fig_folder = f'/data/shared/jianhao/online_cvxNDL_results/figures/{chromo}_nocbar'\n",
    "if not osp.isdir(p2fig_folder):\n",
    "    os.makedirs(p2fig_folder)\n",
    "p2savefig = osp.join(p2fig_folder, f'{chromo}_dictionary_all')\n",
    "\n",
    "\n",
    "plt.savefig(p2savefig, bbox_inches = 'tight')\n",
    "plt.show()\n",
    "plt.close()\n",
    "        \n",
    "        \n",
    "#         break\n",
    "#     break\n",
    "    \n",
    "    "
   ]
  },
  {
   "cell_type": "markdown",
   "metadata": {},
   "source": [
    "## With colorbar"
   ]
  },
  {
   "cell_type": "code",
   "execution_count": 46,
   "metadata": {},
   "outputs": [
    {
     "data": {
      "image/png": "[encoded data removed]",
      "text/plain": [
       "<Figure size 576x720 with 26 Axes>"
      ]
     },
     "metadata": {
      "needs_background": "light"
     },
     "output_type": "display_data"
    }
   ],
   "source": [
    "fig = plt.figure(figsize = (8, 10))\n",
    "axes = fig.subplots(5, 5)\n",
    "\n",
    "for ax_idx, cluster in enumerate(descending_order_of_At):\n",
    "    cur_importance_score = importance_score[cluster]\n",
    "    # get current dictionary row from for the current cluster with descending importance score.\n",
    "    dict_row = ocmf_dict[ocmf_dict.label == f'ocmf: type {cluster + 1}']\n",
    "    dict_row = dict_row[feature]\n",
    "    \n",
    "    # get representative regions for the current cluster.\n",
    "    cur_label = f'group {cluster}'\n",
    "    df_rep_val_df = rep_region[rep_region.label == cur_label].drop(columns = ['label'])\n",
    "    \n",
    "    # Find convex weight for each rep. in the corresponding column of cvx_weight, and the selected \n",
    "    # representative rows. \n",
    "    # df_W_hat is a column vector matrix. Each column is the weight for a cluster.\n",
    "    cvx_weight = df_W_hat[rep_region.label == cur_label].values[:, cluster]\n",
    "    descending_order_cvx_weight = cvx_weight.argsort()[::-1]\n",
    "    \n",
    "    # sort representative by their cvx weights. \n",
    "    sorted_df_rep_val_df_by_cvx_weight = df_rep_val_df.iloc[descending_order_cvx_weight]\n",
    "#     print('cluster :', cluster)\n",
    "    \n",
    "    recon_dict_row = np.zeros_like(dict_row.values)\n",
    "    colormapped_dict_row = np.zeros_like(recon_dict_row)\n",
    "    \n",
    "    for idx, (_, row) in enumerate(sorted_df_rep_val_df_by_cvx_weight.iterrows()):\n",
    "\n",
    "        row_in = row.values\n",
    "        cur_rep_idx = descending_order_cvx_weight[idx]\n",
    "        cur_weight = cvx_weight[cur_rep_idx]\n",
    "        \n",
    "#         print('-' * 7, f'cluster {cluster}, rep {cur_rep_idx}, pos in {idx}', '-' * 7)\n",
    "        \n",
    "        if warning_flag:\n",
    "            # even though used old dataset, try to find if matching in new dataset exists.\n",
    "            # always true: df_raw_data == X_df != df_raw_data_matched_emb\n",
    "            sample_idx_in_subgraphs = (df_raw_data_matched_emb == row_in).all(axis = 1)\n",
    "            samples_from_df_raw_data = df_raw_data_matched_emb.loc[sample_idx_in_subgraphs]\n",
    "            \n",
    "            if len(samples_from_df_raw_data) == 0:\n",
    "#                 print('no match of row adj in new dataset with embedding. Use OLD dataset')\n",
    "                sample_idx_in_subgraphs = (df_raw_data == row_in).all(axis = 1)\n",
    "                samples_from_df_raw_data = df_raw_data.loc[sample_idx_in_subgraphs]\n",
    "                \n",
    "            \n",
    "        else:\n",
    "            # no warning sign. we are using new dataset so there is no error.\n",
    "            # df_raw_data == X_df == df_raw_data_matched_emb.\n",
    "            sample_idx_in_subgraphs = (df_raw_data == row_in).all(axis = 1)\n",
    "            samples_from_df_raw_data = df_raw_data.loc[sample_idx_in_subgraphs]\n",
    "        \n",
    "        # In case there are multiple samples with same weight matrices, select the first one.\n",
    "        samples_from_df_raw_data = samples_from_df_raw_data.iloc[0]\n",
    "        \n",
    "        \n",
    "        # Get node embeddings. \n",
    "        node_embedding_of_samples = df_node_all.loc[sample_idx_in_subgraphs].iloc[0].values\n",
    "        \n",
    "    \n",
    "        # map current rep adjacency to genome id. \n",
    "        VID_of_samples = [int(x.strip('V')) for x in node_embedding_of_samples]\n",
    "        genome_id_mapped_rep_row = convert_row_in_adj_to_vid(row_in, VID_of_samples)\n",
    "        \n",
    "        # recompute the cvx combination of rep and its color-coded vid. \n",
    "        cur_cvx_weight = cvx_weight[descending_order_cvx_weight][idx]\n",
    "        recon_dict_row += cur_cvx_weight * row_in \n",
    "        colormapped_dict_row += cur_cvx_weight * genome_id_mapped_rep_row\n",
    "        \n",
    "    if not np.isclose(recon_dict_row, dict_row.values).all():\n",
    "        break\n",
    "    else:\n",
    "        ax_row, ax_col = ax_idx // 5, ax_idx % 5\n",
    "        cur_ax = axes[ax_row, ax_col]\n",
    "\n",
    "        \n",
    "        _, _, im = plot_one_color_row(cur_ax, colormapped_dict_row, \n",
    "                           title = f'dict_{cluster}\\n({cur_importance_score:.3f})',\n",
    "                            vmin = vid_lower_bound, vmax = vid_upper_bound)\n",
    "\n",
    "        \n",
    "plt.suptitle(f'online cvxNDL dictionaries: {chromo}', fontsize = 18, y = 1.01)\n",
    "plt.tight_layout(pad = 0.6, rect = [0, 0, 1, 1.01])\n",
    "\n",
    "fig.subplots_adjust(right = 0.9)\n",
    "cbar_ax = fig.add_axes([0.92, 0.1, 0.03, 0.75])\n",
    "plt.colorbar(im, cax = cbar_ax)\n",
    "cbar_ax.tick_params(labelsize = 14, rotation = 90)\n",
    "\n",
    "\n",
    "p2fig_folder = f'/data/shared/jianhao/online_cvxNDL_results/figures/{chromo}_fontsize18'\n",
    "\n",
    "# p2fig_folder = f'/data/shared/jianhao/online_cvxNDL_results/figures/{chromo}_nocbar'\n",
    "if not osp.isdir(p2fig_folder):\n",
    "    os.makedirs(p2fig_folder)\n",
    "p2savefig = osp.join(p2fig_folder, f'{chromo}_dictionary_all')\n",
    "\n",
    "\n",
    "plt.savefig(p2savefig, bbox_inches = 'tight')\n",
    "plt.show()\n",
    "plt.close()\n",
    "        \n",
    "        \n",
    "#         break\n",
    "#     break\n",
    "    \n",
    "    "
   ]
  },
  {
   "cell_type": "code",
   "execution_count": 47,
   "metadata": {},
   "outputs": [],
   "source": [
    "plot_df_in_grid(sorted_ocmf_dict_val_df_by_At, threshold = None, \n",
    "                grid_size = (5, 5), figsize = (7, 10),\n",
    "                sub_titles= sorted_subtitles_by_At,\n",
    "                title = f'online cvxNDL: {chromo}')"
   ]
  },
  {
   "cell_type": "markdown",
   "metadata": {},
   "source": [
    "# plot indiviual dictionay. "
   ]
  },
  {
   "cell_type": "code",
   "execution_count": 48,
   "metadata": {
    "scrolled": true
   },
   "outputs": [
    {
     "name": "stdout",
     "output_type": "stream",
     "text": [
      "cluster : 2 \n",
      "Num rep: 36\n",
      "---\n"
     ]
    },
    {
     "data": {
      "image/png": "[encoded data removed]",
      "text/plain": [
       "<Figure size 165.6x165.6 with 1 Axes>"
      ]
     },
     "metadata": {},
     "output_type": "display_data"
    },
    {
     "name": "stdout",
     "output_type": "stream",
     "text": [
      "cluster : 0 \n",
      "Num rep: 19\n",
      "---\n"
     ]
    },
    {
     "data": {
      "image/png": "[encoded data removed]",
      "text/plain": [
       "<Figure size 165.6x165.6 with 1 Axes>"
      ]
     },
     "metadata": {},
     "output_type": "display_data"
    },
    {
     "name": "stdout",
     "output_type": "stream",
     "text": [
      "cluster : 5 \n",
      "Num rep: 20\n",
      "---\n"
     ]
    },
    {
     "data": {
      "image/png": "[encoded data removed]",
      "text/plain": [
       "<Figure size 165.6x165.6 with 1 Axes>"
      ]
     },
     "metadata": {},
     "output_type": "display_data"
    },
    {
     "name": "stdout",
     "output_type": "stream",
     "text": [
      "cluster : 21 \n",
      "Num rep: 32\n",
      "---\n"
     ]
    },
    {
     "data": {
      "image/png": "[encoded data removed]",
      "text/plain": [
       "<Figure size 165.6x165.6 with 1 Axes>"
      ]
     },
     "metadata": {},
     "output_type": "display_data"
    },
    {
     "name": "stdout",
     "output_type": "stream",
     "text": [
      "cluster : 7 \n",
      "Num rep: 21\n",
      "---\n"
     ]
    },
    {
     "data": {
      "image/png": "[encoded data removed]",
      "text/plain": [
       "<Figure size 165.6x165.6 with 1 Axes>"
      ]
     },
     "metadata": {},
     "output_type": "display_data"
    },
    {
     "name": "stdout",
     "output_type": "stream",
     "text": [
      "cluster : 4 \n",
      "Num rep: 12\n",
      "---\n"
     ]
    },
    {
     "data": {
      "image/png": "[encoded data removed]",
      "text/plain": [
       "<Figure size 165.6x165.6 with 1 Axes>"
      ]
     },
     "metadata": {},
     "output_type": "display_data"
    },
    {
     "name": "stdout",
     "output_type": "stream",
     "text": [
      "cluster : 8 \n",
      "Num rep: 22\n",
      "---\n"
     ]
    },
    {
     "data": {
      "image/png": "[encoded data removed]",
      "text/plain": [
       "<Figure size 165.6x165.6 with 1 Axes>"
      ]
     },
     "metadata": {},
     "output_type": "display_data"
    },
    {
     "name": "stdout",
     "output_type": "stream",
     "text": [
      "cluster : 14 \n",
      "Num rep: 12\n",
      "---\n"
     ]
    },
    {
     "data": {
      "image/png": "[encoded data removed]",
      "text/plain": [
       "<Figure size 165.6x165.6 with 1 Axes>"
      ]
     },
     "metadata": {},
     "output_type": "display_data"
    },
    {
     "name": "stdout",
     "output_type": "stream",
     "text": [
      "cluster : 22 \n",
      "Num rep: 17\n",
      "---\n"
     ]
    },
    {
     "data": {
      "image/png": "[encoded data removed]",
      "text/plain": [
       "<Figure size 165.6x165.6 with 1 Axes>"
      ]
     },
     "metadata": {},
     "output_type": "display_data"
    },
    {
     "name": "stdout",
     "output_type": "stream",
     "text": [
      "cluster : 17 \n",
      "Num rep: 12\n",
      "---\n"
     ]
    },
    {
     "data": {
      "image/png": "[encoded data removed]",
      "text/plain": [
       "<Figure size 165.6x165.6 with 1 Axes>"
      ]
     },
     "metadata": {},
     "output_type": "display_data"
    },
    {
     "name": "stdout",
     "output_type": "stream",
     "text": [
      "cluster : 6 \n",
      "Num rep: 24\n",
      "---\n"
     ]
    },
    {
     "data": {
      "image/png": "[encoded data removed]",
      "text/plain": [
       "<Figure size 165.6x165.6 with 1 Axes>"
      ]
     },
     "metadata": {},
     "output_type": "display_data"
    },
    {
     "name": "stdout",
     "output_type": "stream",
     "text": [
      "cluster : 15 \n",
      "Num rep: 11\n",
      "---\n"
     ]
    },
    {
     "data": {
      "image/png": "[encoded data removed]",
      "text/plain": [
       "<Figure size 165.6x165.6 with 1 Axes>"
      ]
     },
     "metadata": {},
     "output_type": "display_data"
    },
    {
     "name": "stdout",
     "output_type": "stream",
     "text": [
      "cluster : 3 \n",
      "Num rep: 11\n",
      "---\n"
     ]
    },
    {
     "data": {
      "image/png": "[encoded data removed]",
      "text/plain": [
       "<Figure size 165.6x165.6 with 1 Axes>"
      ]
     },
     "metadata": {},
     "output_type": "display_data"
    },
    {
     "name": "stdout",
     "output_type": "stream",
     "text": [
      "cluster : 18 \n",
      "Num rep: 12\n",
      "---\n"
     ]
    },
    {
     "data": {
      "image/png": "[encoded data removed]",
      "text/plain": [
       "<Figure size 165.6x165.6 with 1 Axes>"
      ]
     },
     "metadata": {},
     "output_type": "display_data"
    },
    {
     "name": "stdout",
     "output_type": "stream",
     "text": [
      "cluster : 16 \n",
      "Num rep: 10\n",
      "---\n"
     ]
    },
    {
     "data": {
      "image/png": "[encoded data removed]",
      "text/plain": [
       "<Figure size 165.6x165.6 with 1 Axes>"
      ]
     },
     "metadata": {},
     "output_type": "display_data"
    },
    {
     "name": "stdout",
     "output_type": "stream",
     "text": [
      "cluster : 12 \n",
      "Num rep: 14\n",
      "---\n"
     ]
    },
    {
     "data": {
      "image/png": "[encoded data removed]",
      "text/plain": [
       "<Figure size 165.6x165.6 with 1 Axes>"
      ]
     },
     "metadata": {},
     "output_type": "display_data"
    },
    {
     "name": "stdout",
     "output_type": "stream",
     "text": [
      "cluster : 24 \n",
      "Num rep: 10\n",
      "---\n"
     ]
    },
    {
     "data": {
      "image/png": "[encoded data removed]",
      "text/plain": [
       "<Figure size 165.6x165.6 with 1 Axes>"
      ]
     },
     "metadata": {},
     "output_type": "display_data"
    },
    {
     "name": "stdout",
     "output_type": "stream",
     "text": [
      "cluster : 20 \n",
      "Num rep: 10\n",
      "---\n"
     ]
    },
    {
     "data": {
      "image/png": "[encoded data removed]",
      "text/plain": [
       "<Figure size 165.6x165.6 with 1 Axes>"
      ]
     },
     "metadata": {},
     "output_type": "display_data"
    },
    {
     "name": "stdout",
     "output_type": "stream",
     "text": [
      "cluster : 11 \n",
      "Num rep: 10\n",
      "---\n"
     ]
    },
    {
     "data": {
      "image/png": "[encoded data removed]",
      "text/plain": [
       "<Figure size 165.6x165.6 with 1 Axes>"
      ]
     },
     "metadata": {},
     "output_type": "display_data"
    },
    {
     "name": "stdout",
     "output_type": "stream",
     "text": [
      "cluster : 1 \n",
      "Num rep: 10\n",
      "---\n"
     ]
    },
    {
     "data": {
      "image/png": "[encoded data removed]",
      "text/plain": [
       "<Figure size 165.6x165.6 with 1 Axes>"
      ]
     },
     "metadata": {},
     "output_type": "display_data"
    },
    {
     "name": "stdout",
     "output_type": "stream",
     "text": [
      "cluster : 10 \n",
      "Num rep: 10\n",
      "---\n"
     ]
    },
    {
     "data": {
      "image/png": "[encoded data removed]",
      "text/plain": [
       "<Figure size 165.6x165.6 with 1 Axes>"
      ]
     },
     "metadata": {},
     "output_type": "display_data"
    },
    {
     "name": "stdout",
     "output_type": "stream",
     "text": [
      "cluster : 9 \n",
      "Num rep: 10\n",
      "---\n"
     ]
    },
    {
     "data": {
      "image/png": "[encoded data removed]",
      "text/plain": [
       "<Figure size 165.6x165.6 with 1 Axes>"
      ]
     },
     "metadata": {},
     "output_type": "display_data"
    },
    {
     "name": "stdout",
     "output_type": "stream",
     "text": [
      "cluster : 19 \n",
      "Num rep: 10\n",
      "---\n"
     ]
    },
    {
     "data": {
      "image/png": "[encoded data removed]",
      "text/plain": [
       "<Figure size 165.6x165.6 with 1 Axes>"
      ]
     },
     "metadata": {},
     "output_type": "display_data"
    },
    {
     "name": "stdout",
     "output_type": "stream",
     "text": [
      "cluster : 13 \n",
      "Num rep: 10\n",
      "---\n"
     ]
    },
    {
     "data": {
      "image/png": "[encoded data removed]",
      "text/plain": [
       "<Figure size 165.6x165.6 with 1 Axes>"
      ]
     },
     "metadata": {},
     "output_type": "display_data"
    },
    {
     "name": "stdout",
     "output_type": "stream",
     "text": [
      "cluster : 23 \n",
      "Num rep: 10\n",
      "---\n"
     ]
    },
    {
     "data": {
      "image/png": "[encoded data removed]",
      "text/plain": [
       "<Figure size 165.6x165.6 with 1 Axes>"
      ]
     },
     "metadata": {},
     "output_type": "display_data"
    }
   ],
   "source": [
    "# fig = plt.figure(figsize = (20, 16))\n",
    "# axes = fig.subplots(5, 5)\n",
    "\n",
    "for ax_idx, cluster in enumerate(descending_order_of_At):\n",
    "    cur_importance_score = importance_score[cluster]\n",
    "    # get current dictionary row from for the current cluster with descending importance score.\n",
    "    dict_row = ocmf_dict[ocmf_dict.label == f'ocmf: type {cluster + 1}']\n",
    "    dict_row = dict_row[feature]\n",
    "    \n",
    "    # get representative regions for the current cluster.\n",
    "    cur_label = f'group {cluster}'\n",
    "    df_rep_val_df = rep_region[rep_region.label == cur_label].drop(columns = ['label'])\n",
    "    \n",
    "    # Find convex weight for each rep. in the corresponding column of cvx_weight, and the selected \n",
    "    # representative rows. \n",
    "    # df_W_hat is a column vector matrix. Each column is the weight for a cluster.\n",
    "    cvx_weight = df_W_hat[rep_region.label == cur_label].values[:, cluster]\n",
    "    descending_order_cvx_weight = cvx_weight.argsort()[::-1]\n",
    "    \n",
    "    # sort representative by their cvx weights. \n",
    "    sorted_df_rep_val_df_by_cvx_weight = df_rep_val_df.iloc[descending_order_cvx_weight]\n",
    "    print('cluster :', cluster,'\\nNum rep:', len(sorted_df_rep_val_df_by_cvx_weight))\n",
    "    print('-' * 3)\n",
    "    \n",
    "    recon_dict_row = np.zeros_like(dict_row.values)\n",
    "    colormapped_dict_row = np.zeros_like(recon_dict_row)\n",
    "    \n",
    "    for idx, (_, row) in enumerate(sorted_df_rep_val_df_by_cvx_weight.iterrows()):\n",
    "\n",
    "        row_in = row.values\n",
    "        cur_rep_idx = descending_order_cvx_weight[idx]\n",
    "        cur_weight = cvx_weight[cur_rep_idx]\n",
    "        \n",
    "#         print('-' * 7, f'cluster {cluster}, rep {cur_rep_idx}, pos in {idx}', '-' * 7)\n",
    "        \n",
    "        if warning_flag:\n",
    "            # even though used old dataset, try to find if matching in new dataset exists.\n",
    "            # always true: df_raw_data == X_df != df_raw_data_matched_emb\n",
    "            sample_idx_in_subgraphs = (df_raw_data_matched_emb == row_in).all(axis = 1)\n",
    "            samples_from_df_raw_data = df_raw_data_matched_emb.loc[sample_idx_in_subgraphs]\n",
    "            \n",
    "            if len(samples_from_df_raw_data) == 0:\n",
    "#                 print('no match of row adj in new dataset with embedding. Use OLD dataset')\n",
    "                sample_idx_in_subgraphs = (df_raw_data == row_in).all(axis = 1)\n",
    "                samples_from_df_raw_data = df_raw_data.loc[sample_idx_in_subgraphs]\n",
    "                \n",
    "            \n",
    "        else:\n",
    "            # no warning sign. we are using new dataset so there is no error.\n",
    "            # df_raw_data == X_df == df_raw_data_matched_emb.\n",
    "            sample_idx_in_subgraphs = (df_raw_data == row_in).all(axis = 1)\n",
    "            samples_from_df_raw_data = df_raw_data.loc[sample_idx_in_subgraphs]\n",
    "        \n",
    "        # In case there are multiple samples with same weight matrices, select the first one.\n",
    "        samples_from_df_raw_data = samples_from_df_raw_data.iloc[0]\n",
    "        \n",
    "        \n",
    "        # Get node embeddings. \n",
    "        node_embedding_of_samples = df_node_all.loc[sample_idx_in_subgraphs].iloc[0].values\n",
    "        \n",
    "    \n",
    "        # map current rep adjacency to genome id. \n",
    "        VID_of_samples = [int(x.strip('V')) for x in node_embedding_of_samples]\n",
    "        genome_id_mapped_rep_row = convert_row_in_adj_to_vid(row_in, VID_of_samples)\n",
    "        \n",
    "        # recompute the cvx combination of rep and its color-coded vid. \n",
    "        cur_cvx_weight = cvx_weight[descending_order_cvx_weight][idx]\n",
    "        recon_dict_row += cur_cvx_weight * row_in \n",
    "        colormapped_dict_row += cur_cvx_weight * genome_id_mapped_rep_row\n",
    "        \n",
    "    if not np.isclose(recon_dict_row, dict_row.values).all():\n",
    "        break\n",
    "    else:\n",
    "\n",
    "        fig = plt.figure(figsize = (2.3, 2.3))\n",
    "        cur_ax = fig.add_subplot(111)\n",
    "#         p2fig_folder = f'/data/shared/jianhao/online_cvxNDL_results/figures/{chromo}'\n",
    "        p2fig_folder = f'/data/shared/jianhao/online_cvxNDL_results/figures/{chromo}_fontsize18'\n",
    "        if not osp.isdir(p2fig_folder):\n",
    "            os.makedirs(p2fig_folder)\n",
    "        p2savefig = osp.join(p2fig_folder, f'{chromo}_dictionary_{cluster}')\n",
    "        \n",
    "        _, _, im = plot_one_color_row(cur_ax, colormapped_dict_row, \n",
    "                           title = f'dict_{cluster}\\n({cur_importance_score:.3f})',\n",
    "                            vmin = vid_lower_bound, vmax = vid_upper_bound)\n",
    "\n",
    "\n",
    "\n",
    "        plt.tight_layout()\n",
    "        plt.savefig(p2savefig)\n",
    "        plt.show()\n",
    "        plt.close()\n",
    "        \n",
    "        \n",
    "#         break\n",
    "#     break\n",
    "    \n",
    "    "
   ]
  },
  {
   "cell_type": "code",
   "execution_count": 49,
   "metadata": {},
   "outputs": [],
   "source": [
    "# dummy_colorbar = np.array([vid_lower_bound, vid_upper_bound] * 2).reshape((2, 2))\n",
    "# plt.imshow(dummy_colorbar)\n",
    "\n",
    "# plt.subplots_adjust(bottom=0.1, right=0.8, top=0.9)\n",
    "# cax = plt.axes([0.85, 0.1, 0.075, 0.8])\n",
    "# plt.colorbar(cax=cax)\n",
    "# plt.show()"
   ]
  },
  {
   "cell_type": "code",
   "execution_count": null,
   "metadata": {},
   "outputs": [],
   "source": []
  }
 ],
 "metadata": {
  "kernelspec": {
   "display_name": "Python 3",
   "language": "python",
   "name": "python3"
  },
  "language_info": {
   "codemirror_mode": {
    "name": "ipython",
    "version": 3
   },
   "file_extension": ".py",
   "mimetype": "text/x-python",
   "name": "python",
   "nbconvert_exporter": "python",
   "pygments_lexer": "ipython3",
   "version": "3.8.5"
  },
  "varInspector": {
   "cols": {
    "lenName": 16,
    "lenType": 16,
    "lenVar": 40
   },
   "kernels_config": {
    "python": {
     "delete_cmd_postfix": "",
     "delete_cmd_prefix": "del ",
     "library": "var_list.py",
     "varRefreshCmd": "print(var_dic_list())"
    },
    "r": {
     "delete_cmd_postfix": ") ",
     "delete_cmd_prefix": "rm(",
     "library": "var_list.r",
     "varRefreshCmd": "cat(var_dic_list()) "
    }
   },
   "types_to_exclude": [
    "module",
    "function",
    "builtin_function_or_method",
    "instance",
    "_Feature"
   ],
   "window_display": false
  }
 },
 "nbformat": 4,
 "nbformat_minor": 4
}
