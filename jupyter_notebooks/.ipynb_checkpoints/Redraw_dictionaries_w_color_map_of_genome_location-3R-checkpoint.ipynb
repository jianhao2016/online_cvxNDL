{
 "cells": [
  {
   "cell_type": "markdown",
   "metadata": {},
   "source": [
    "### Example"
   ]
  },
  {
   "cell_type": "code",
   "execution_count": 1,
   "metadata": {},
   "outputs": [
    {
     "data": {
      "image/png": "[encoded data removed]",
      "text/plain": [
       "<Figure size 900x600 with 4 Axes>"
      ]
     },
     "metadata": {
      "needs_background": "light"
     },
     "output_type": "display_data"
    }
   ],
   "source": [
    "import numpy as np\n",
    "import matplotlib.pyplot as plt\n",
    "import mpl_toolkits.axes_grid1 as axes_grid1\n",
    "np.random.seed(1)\n",
    "\n",
    "data = np.random.randint(0, 1000, (10, 10), )\n",
    "\n",
    "fig = plt.figure(dpi = 150)\n",
    "grid = axes_grid1.AxesGrid(\n",
    "    fig, 111, nrows_ncols=(1, 2), axes_pad = 0.5, cbar_location = \"right\",\n",
    "    cbar_mode=\"each\", cbar_size=\"15%\", cbar_pad=\"5%\",)\n",
    "\n",
    "im0 = grid[0].imshow(data > 500, cmap='gray', interpolation='nearest')\n",
    "grid.cbar_axes[0].colorbar(im0)\n",
    "\n",
    "im1 = grid[1].imshow(data, cmap='jet', interpolation='nearest')\n",
    "grid.cbar_axes[1].colorbar(im1)\n",
    "\n",
    "plt.show()\n",
    "plt.close()"
   ]
  },
  {
   "cell_type": "code",
   "execution_count": 2,
   "metadata": {},
   "outputs": [
    {
     "data": {
      "text/plain": [
       "array([[ 37, 235, 908,  72, 767, 905, 715, 645, 847, 960],\n",
       "       [144, 129, 972, 583, 749, 508, 390, 281, 178, 276],\n",
       "       [254, 357, 914, 468, 907, 252, 490, 668, 925, 398],\n",
       "       [562, 580, 215, 983, 753, 503, 478, 864,  86, 141],\n",
       "       [393,   7, 319, 829, 534, 313, 513, 896, 316, 209],\n",
       "       [264, 728, 653, 627, 431, 633, 456, 542,  71, 387],\n",
       "       [454, 917, 561, 313, 515, 964, 792, 497,  43, 588],\n",
       "       [ 26, 820, 336, 621, 883, 297, 466,  15,  64, 196],\n",
       "       [ 25, 367, 738, 471, 903, 282, 665, 616,  22, 777],\n",
       "       [707, 999, 126, 279, 381, 356, 155, 933, 313, 595]])"
      ]
     },
     "execution_count": 2,
     "metadata": {},
     "output_type": "execute_result"
    }
   ],
   "source": [
    "data"
   ]
  },
  {
   "cell_type": "markdown",
   "metadata": {},
   "source": [
    "----"
   ]
  },
  {
   "cell_type": "code",
   "execution_count": 3,
   "metadata": {},
   "outputs": [],
   "source": [
    "import pandas as pd\n",
    "import numpy as np\n",
    "import matplotlib.pyplot as plt\n",
    "import os\n",
    "import os.path as osp\n",
    "import networkx as nx\n",
    "\n",
    "import sys"
   ]
  },
  {
   "cell_type": "code",
   "execution_count": 4,
   "metadata": {},
   "outputs": [],
   "source": [
    "sys.path.append('../')"
   ]
  },
  {
   "cell_type": "code",
   "execution_count": 5,
   "metadata": {},
   "outputs": [],
   "source": [
    "from common_functions import eval_g_hat_with_DnX"
   ]
  },
  {
   "cell_type": "code",
   "execution_count": 6,
   "metadata": {},
   "outputs": [],
   "source": [
    "p2root = '../results_0905_logging/'\n",
    "K = 25\n",
    "version='Rr'\n",
    "iteration = 10000\n",
    "iid_sample = 20000\n",
    "chromo = 'chr3R'\n",
    "expr_name = f'{chromo}_drosophila_ChIA_Drop_0.1_PASS'\n",
    "prefix = f'{expr_name}_{iid_sample}_MCMC_pivot_K_{K}_iter_{iteration}'\n",
    "# prefix = f'{expr_name}_{iid_sample}_K_{K}_iter_{iteration}'\n",
    "# p2nmf_dict = osp.join(p2root, f'{prefix}_nmf_centroid_df')\n",
    "# p2cmf_dict = osp.join(p2root, f'{prefix}_cmf_centroid_df')\n",
    "# p2omf_dict = osp.join(p2root, f'{prefix}_omf_centroid_df')\n",
    "\n",
    "p2ocmf_dict = osp.join(p2root, f'{version}_{prefix}_ocmf_centroid_df')\n",
    "p2representative_regions = osp.join(p2root, f'{version}_{prefix}_x_hat_df')\n",
    "p2A_t = osp.join(p2root, f'A_t_{version}_{prefix}_ocmf.csv')\n",
    "p2W_hat = osp.join(p2root, f'W_hat_{version}_{prefix}_ocmf.csv')\n",
    "p2X = osp.join(p2root, f'{prefix}_X_df')"
   ]
  },
  {
   "cell_type": "code",
   "execution_count": 7,
   "metadata": {},
   "outputs": [
    {
     "data": {
      "text/plain": [
       "'../results_0905_logging/chr3R_drosophila_ChIA_Drop_0.1_PASS_20000_MCMC_pivot_K_25_iter_10000_X_df'"
      ]
     },
     "execution_count": 7,
     "metadata": {},
     "output_type": "execute_result"
    }
   ],
   "source": [
    "p2X"
   ]
  },
  {
   "cell_type": "code",
   "execution_count": 8,
   "metadata": {},
   "outputs": [],
   "source": [
    "X_df = pd.read_pickle(p2X)\n",
    "# nmf_dict = pd.read_pickle(p2nmf_dict)\n",
    "# cmf_dict = pd.read_pickle(p2cmf_dict)\n",
    "# omf_dict = pd.read_pickle(p2omf_dict)\n",
    "ocmf_dict = pd.read_pickle(p2ocmf_dict)\n",
    "rep_region = pd.read_pickle(p2representative_regions)"
   ]
  },
  {
   "cell_type": "code",
   "execution_count": 9,
   "metadata": {},
   "outputs": [],
   "source": [
    "W_hat = np.loadtxt(p2W_hat, delimiter=',')\n",
    "A_t = np.loadtxt(p2A_t, delimiter=',')"
   ]
  },
  {
   "cell_type": "code",
   "execution_count": 10,
   "metadata": {},
   "outputs": [
    {
     "data": {
      "text/plain": [
       "array([[1, 0, 0, ..., 0, 0, 0],\n",
       "       [1, 0, 0, ..., 0, 0, 0],\n",
       "       [1, 0, 0, ..., 0, 0, 0],\n",
       "       ...,\n",
       "       [0, 0, 0, ..., 0, 0, 1],\n",
       "       [0, 0, 0, ..., 0, 0, 1],\n",
       "       [0, 0, 0, ..., 0, 0, 1]])"
      ]
     },
     "execution_count": 10,
     "metadata": {},
     "output_type": "execute_result"
    }
   ],
   "source": [
    "(W_hat > 0).astype(int)"
   ]
  },
  {
   "cell_type": "code",
   "execution_count": 11,
   "metadata": {},
   "outputs": [
    {
     "data": {
      "text/plain": [
       "group 20    48\n",
       "group 12    31\n",
       "group 14    22\n",
       "group 8     20\n",
       "group 2     19\n",
       "group 7     18\n",
       "group 5     17\n",
       "group 9     16\n",
       "group 21    14\n",
       "group 0     14\n",
       "group 4     14\n",
       "group 19    11\n",
       "group 1     11\n",
       "group 17    10\n",
       "group 15    10\n",
       "group 6     10\n",
       "group 16    10\n",
       "group 22    10\n",
       "group 18    10\n",
       "group 24    10\n",
       "group 23    10\n",
       "group 3     10\n",
       "group 10    10\n",
       "group 11    10\n",
       "group 13    10\n",
       "Name: label, dtype: int64"
      ]
     },
     "execution_count": 11,
     "metadata": {},
     "output_type": "execute_result"
    }
   ],
   "source": [
    "rep_region.label.value_counts()"
   ]
  },
  {
   "cell_type": "markdown",
   "metadata": {},
   "source": [
    "## Read node embedding data for genome location"
   ]
  },
  {
   "cell_type": "code",
   "execution_count": 12,
   "metadata": {},
   "outputs": [],
   "source": [
    "# p2raw_data = '/data/shared/jianhao/online_cvxNDL_data/new_data_with_node_id/'\n",
    "# p2raw_data = '/data/shared/jianhao/online_cvxNDL_data/updated_0905_data_with_node_id/'\n",
    "\n",
    "# p2emb = osp.join(p2raw_data, f'df_{expr_name}_{iid_sample}_sample_node_matrix')\n",
    "# p2raw_data = osp.join(p2raw_data, f'df_{expr_name}_{iid_sample}')\n",
    "\n",
    "p2raw_data = '/data/shared/jianhao/online_cvxNDL_data/updated_0905_data_with_node_id'\n",
    "p2emb = osp.join(p2raw_data, f'df_{expr_name}_{iid_sample}_MCMC_pivot_sample_node_matrix')\n",
    "p2raw_data = osp.join(p2raw_data, f'df_{expr_name}_{iid_sample}_MCMC_pivot')"
   ]
  },
  {
   "cell_type": "code",
   "execution_count": 13,
   "metadata": {},
   "outputs": [],
   "source": [
    "df_node_all = pd.read_pickle(p2emb)\n",
    "df_subgraph_all = pd.read_pickle(p2raw_data).drop(columns = ['label'])\n",
    "# df_subgraph_all_old = pd.read_pickle(p2raw_data_old).drop(columns = ['label'])"
   ]
  },
  {
   "cell_type": "markdown",
   "metadata": {},
   "source": [
    "### check which dataset used in training.\n",
    "if use old subgraph, then subgraph may not have correponding node embeddings.\n"
   ]
  },
  {
   "cell_type": "code",
   "execution_count": 14,
   "metadata": {
    "scrolled": true
   },
   "outputs": [
    {
     "name": "stdout",
     "output_type": "stream",
     "text": [
      ">>> used new dataset with node embeddings. GOOD to go.\n"
     ]
    }
   ],
   "source": [
    "# if (X_df.values == df_subgraph_all_old.values).all():\n",
    "#     print('>>> used old dataset without node embedding!!!! Change later on.')\n",
    "#     df_raw_data = df_subgraph_all_old\n",
    "#     warning_flag = True\n",
    "#     df_raw_data_matched_emb = df_subgraph_all\n",
    "    \n",
    "if (X_df.values == df_subgraph_all.values).all():\n",
    "    print('>>> used new dataset with node embeddings. GOOD to go.')\n",
    "    df_raw_data = df_subgraph_all\n",
    "    warning_flag = False\n",
    "    df_raw_data_matched_emb = df_subgraph_all"
   ]
  },
  {
   "cell_type": "markdown",
   "metadata": {},
   "source": [
    "### 1. df_raw_data will always be the input data. So df_rep.isin(df_raw_data) == True. \n",
    "only case is that when used old data:\n",
    "\n",
    "=> **df_node_emb** and **df_raw_data** does not match. \n",
    "\n",
    "### 2. df_raw_data_matched_emb will always matched the node embedding"
   ]
  },
  {
   "cell_type": "code",
   "execution_count": 15,
   "metadata": {},
   "outputs": [
    {
     "data": {
      "text/html": [
       "<div>\n",
       "<style scoped>\n",
       "    .dataframe tbody tr th:only-of-type {\n",
       "        vertical-align: middle;\n",
       "    }\n",
       "\n",
       "    .dataframe tbody tr th {\n",
       "        vertical-align: top;\n",
       "    }\n",
       "\n",
       "    .dataframe thead th {\n",
       "        text-align: right;\n",
       "    }\n",
       "</style>\n",
       "<table border=\"1\" class=\"dataframe\">\n",
       "  <thead>\n",
       "    <tr style=\"text-align: right;\">\n",
       "      <th></th>\n",
       "      <th>node_0</th>\n",
       "      <th>node_1</th>\n",
       "      <th>node_2</th>\n",
       "      <th>node_3</th>\n",
       "      <th>node_4</th>\n",
       "      <th>node_5</th>\n",
       "      <th>node_6</th>\n",
       "      <th>node_7</th>\n",
       "      <th>node_8</th>\n",
       "      <th>node_9</th>\n",
       "      <th>...</th>\n",
       "      <th>node_11</th>\n",
       "      <th>node_12</th>\n",
       "      <th>node_13</th>\n",
       "      <th>node_14</th>\n",
       "      <th>node_15</th>\n",
       "      <th>node_16</th>\n",
       "      <th>node_17</th>\n",
       "      <th>node_18</th>\n",
       "      <th>node_19</th>\n",
       "      <th>node_20</th>\n",
       "    </tr>\n",
       "  </thead>\n",
       "  <tbody>\n",
       "    <tr>\n",
       "      <th>0</th>\n",
       "      <td>V36929</td>\n",
       "      <td>V11842</td>\n",
       "      <td>V11826</td>\n",
       "      <td>V11839</td>\n",
       "      <td>V19891</td>\n",
       "      <td>V11839</td>\n",
       "      <td>V11857</td>\n",
       "      <td>V11817</td>\n",
       "      <td>V11809</td>\n",
       "      <td>V6664</td>\n",
       "      <td>...</td>\n",
       "      <td>V52065</td>\n",
       "      <td>V41897</td>\n",
       "      <td>V52065</td>\n",
       "      <td>V5802</td>\n",
       "      <td>V52058</td>\n",
       "      <td>V13014</td>\n",
       "      <td>V52058</td>\n",
       "      <td>V52086</td>\n",
       "      <td>V3776</td>\n",
       "      <td>V52086</td>\n",
       "    </tr>\n",
       "    <tr>\n",
       "      <th>1</th>\n",
       "      <td>V35302</td>\n",
       "      <td>V22138</td>\n",
       "      <td>V17078</td>\n",
       "      <td>V17687</td>\n",
       "      <td>V34917</td>\n",
       "      <td>V54872</td>\n",
       "      <td>V41276</td>\n",
       "      <td>V54872</td>\n",
       "      <td>V23086</td>\n",
       "      <td>V54872</td>\n",
       "      <td>...</td>\n",
       "      <td>V54872</td>\n",
       "      <td>V7873</td>\n",
       "      <td>V54888</td>\n",
       "      <td>V7880</td>\n",
       "      <td>V7865</td>\n",
       "      <td>V10357</td>\n",
       "      <td>V19779</td>\n",
       "      <td>V10357</td>\n",
       "      <td>V1643</td>\n",
       "      <td>V10357</td>\n",
       "    </tr>\n",
       "    <tr>\n",
       "      <th>2</th>\n",
       "      <td>V8844</td>\n",
       "      <td>V8561</td>\n",
       "      <td>V42692</td>\n",
       "      <td>V39767</td>\n",
       "      <td>V47527</td>\n",
       "      <td>V39767</td>\n",
       "      <td>V14003</td>\n",
       "      <td>V27082</td>\n",
       "      <td>V43712</td>\n",
       "      <td>V27082</td>\n",
       "      <td>...</td>\n",
       "      <td>V36700</td>\n",
       "      <td>V10838</td>\n",
       "      <td>V10800</td>\n",
       "      <td>V10777</td>\n",
       "      <td>V24552</td>\n",
       "      <td>V53425</td>\n",
       "      <td>V13349</td>\n",
       "      <td>V24552</td>\n",
       "      <td>V39846</td>\n",
       "      <td>V19576</td>\n",
       "    </tr>\n",
       "    <tr>\n",
       "      <th>3</th>\n",
       "      <td>V16470</td>\n",
       "      <td>V55753</td>\n",
       "      <td>V34853</td>\n",
       "      <td>V31371</td>\n",
       "      <td>V34967</td>\n",
       "      <td>V31604</td>\n",
       "      <td>V34967</td>\n",
       "      <td>V34997</td>\n",
       "      <td>V34967</td>\n",
       "      <td>V38317</td>\n",
       "      <td>...</td>\n",
       "      <td>V38317</td>\n",
       "      <td>V38326</td>\n",
       "      <td>V48799</td>\n",
       "      <td>V34885</td>\n",
       "      <td>V31465</td>\n",
       "      <td>V52193</td>\n",
       "      <td>V39031</td>\n",
       "      <td>V118</td>\n",
       "      <td>V52019</td>\n",
       "      <td>V20962</td>\n",
       "    </tr>\n",
       "    <tr>\n",
       "      <th>4</th>\n",
       "      <td>V35387</td>\n",
       "      <td>V32272</td>\n",
       "      <td>V43767</td>\n",
       "      <td>V27062</td>\n",
       "      <td>V23414</td>\n",
       "      <td>V22053</td>\n",
       "      <td>V22183</td>\n",
       "      <td>V22141</td>\n",
       "      <td>V54114</td>\n",
       "      <td>V22141</td>\n",
       "      <td>...</td>\n",
       "      <td>V45558</td>\n",
       "      <td>V8942</td>\n",
       "      <td>V8640</td>\n",
       "      <td>V10019</td>\n",
       "      <td>V6591</td>\n",
       "      <td>V39805</td>\n",
       "      <td>V43695</td>\n",
       "      <td>V33841</td>\n",
       "      <td>V33800</td>\n",
       "      <td>V51195</td>\n",
       "    </tr>\n",
       "    <tr>\n",
       "      <th>...</th>\n",
       "      <td>...</td>\n",
       "      <td>...</td>\n",
       "      <td>...</td>\n",
       "      <td>...</td>\n",
       "      <td>...</td>\n",
       "      <td>...</td>\n",
       "      <td>...</td>\n",
       "      <td>...</td>\n",
       "      <td>...</td>\n",
       "      <td>...</td>\n",
       "      <td>...</td>\n",
       "      <td>...</td>\n",
       "      <td>...</td>\n",
       "      <td>...</td>\n",
       "      <td>...</td>\n",
       "      <td>...</td>\n",
       "      <td>...</td>\n",
       "      <td>...</td>\n",
       "      <td>...</td>\n",
       "      <td>...</td>\n",
       "      <td>...</td>\n",
       "    </tr>\n",
       "    <tr>\n",
       "      <th>19995</th>\n",
       "      <td>V40550</td>\n",
       "      <td>V42641</td>\n",
       "      <td>V39847</td>\n",
       "      <td>V39839</td>\n",
       "      <td>V39706</td>\n",
       "      <td>V53170</td>\n",
       "      <td>V32203</td>\n",
       "      <td>V53170</td>\n",
       "      <td>V11810</td>\n",
       "      <td>V52816</td>\n",
       "      <td>...</td>\n",
       "      <td>V52816</td>\n",
       "      <td>V11838</td>\n",
       "      <td>V11822</td>\n",
       "      <td>V21368</td>\n",
       "      <td>V21316</td>\n",
       "      <td>V27062</td>\n",
       "      <td>V30882</td>\n",
       "      <td>V27062</td>\n",
       "      <td>V27029</td>\n",
       "      <td>V19483</td>\n",
       "    </tr>\n",
       "    <tr>\n",
       "      <th>19996</th>\n",
       "      <td>V2397</td>\n",
       "      <td>V51377</td>\n",
       "      <td>V41086</td>\n",
       "      <td>V3592</td>\n",
       "      <td>V33958</td>\n",
       "      <td>V34187</td>\n",
       "      <td>V2993</td>\n",
       "      <td>V17743</td>\n",
       "      <td>V2993</td>\n",
       "      <td>V22140</td>\n",
       "      <td>...</td>\n",
       "      <td>V39846</td>\n",
       "      <td>V39858</td>\n",
       "      <td>V39836</td>\n",
       "      <td>V22931</td>\n",
       "      <td>V39836</td>\n",
       "      <td>V39858</td>\n",
       "      <td>V39847</td>\n",
       "      <td>V52354</td>\n",
       "      <td>V28837</td>\n",
       "      <td>V29961</td>\n",
       "    </tr>\n",
       "    <tr>\n",
       "      <th>19997</th>\n",
       "      <td>V2397</td>\n",
       "      <td>V51377</td>\n",
       "      <td>V961</td>\n",
       "      <td>V51377</td>\n",
       "      <td>V40530</td>\n",
       "      <td>V20348</td>\n",
       "      <td>V40530</td>\n",
       "      <td>V27063</td>\n",
       "      <td>V41754</td>\n",
       "      <td>V24945</td>\n",
       "      <td>...</td>\n",
       "      <td>V2899</td>\n",
       "      <td>V14785</td>\n",
       "      <td>V33490</td>\n",
       "      <td>V14785</td>\n",
       "      <td>V54389</td>\n",
       "      <td>V16770</td>\n",
       "      <td>V54389</td>\n",
       "      <td>V16770</td>\n",
       "      <td>V14170</td>\n",
       "      <td>V45505</td>\n",
       "    </tr>\n",
       "    <tr>\n",
       "      <th>19998</th>\n",
       "      <td>V2397</td>\n",
       "      <td>V51377</td>\n",
       "      <td>V24576</td>\n",
       "      <td>V34246</td>\n",
       "      <td>V19206</td>\n",
       "      <td>V34246</td>\n",
       "      <td>V49069</td>\n",
       "      <td>V34246</td>\n",
       "      <td>V44485</td>\n",
       "      <td>V963</td>\n",
       "      <td>...</td>\n",
       "      <td>V2375</td>\n",
       "      <td>V21834</td>\n",
       "      <td>V49957</td>\n",
       "      <td>V42312</td>\n",
       "      <td>V43403</td>\n",
       "      <td>V42312</td>\n",
       "      <td>V25761</td>\n",
       "      <td>V11841</td>\n",
       "      <td>V48797</td>\n",
       "      <td>V11841</td>\n",
       "    </tr>\n",
       "    <tr>\n",
       "      <th>19999</th>\n",
       "      <td>V49880</td>\n",
       "      <td>V31378</td>\n",
       "      <td>V39984</td>\n",
       "      <td>V24436</td>\n",
       "      <td>V39984</td>\n",
       "      <td>V41800</td>\n",
       "      <td>V11820</td>\n",
       "      <td>V30413</td>\n",
       "      <td>V39706</td>\n",
       "      <td>V5200</td>\n",
       "      <td>...</td>\n",
       "      <td>V2994</td>\n",
       "      <td>V29146</td>\n",
       "      <td>V18944</td>\n",
       "      <td>V11902</td>\n",
       "      <td>V24973</td>\n",
       "      <td>V18944</td>\n",
       "      <td>V18990</td>\n",
       "      <td>V19015</td>\n",
       "      <td>V19026</td>\n",
       "      <td>V18944</td>\n",
       "    </tr>\n",
       "  </tbody>\n",
       "</table>\n",
       "<p>20000 rows × 21 columns</p>\n",
       "</div>"
      ],
      "text/plain": [
       "       node_0  node_1  node_2  node_3  node_4  node_5  node_6  node_7  node_8  \\\n",
       "0      V36929  V11842  V11826  V11839  V19891  V11839  V11857  V11817  V11809   \n",
       "1      V35302  V22138  V17078  V17687  V34917  V54872  V41276  V54872  V23086   \n",
       "2       V8844   V8561  V42692  V39767  V47527  V39767  V14003  V27082  V43712   \n",
       "3      V16470  V55753  V34853  V31371  V34967  V31604  V34967  V34997  V34967   \n",
       "4      V35387  V32272  V43767  V27062  V23414  V22053  V22183  V22141  V54114   \n",
       "...       ...     ...     ...     ...     ...     ...     ...     ...     ...   \n",
       "19995  V40550  V42641  V39847  V39839  V39706  V53170  V32203  V53170  V11810   \n",
       "19996   V2397  V51377  V41086   V3592  V33958  V34187   V2993  V17743   V2993   \n",
       "19997   V2397  V51377    V961  V51377  V40530  V20348  V40530  V27063  V41754   \n",
       "19998   V2397  V51377  V24576  V34246  V19206  V34246  V49069  V34246  V44485   \n",
       "19999  V49880  V31378  V39984  V24436  V39984  V41800  V11820  V30413  V39706   \n",
       "\n",
       "       node_9  ... node_11 node_12 node_13 node_14 node_15 node_16 node_17  \\\n",
       "0       V6664  ...  V52065  V41897  V52065   V5802  V52058  V13014  V52058   \n",
       "1      V54872  ...  V54872   V7873  V54888   V7880   V7865  V10357  V19779   \n",
       "2      V27082  ...  V36700  V10838  V10800  V10777  V24552  V53425  V13349   \n",
       "3      V38317  ...  V38317  V38326  V48799  V34885  V31465  V52193  V39031   \n",
       "4      V22141  ...  V45558   V8942   V8640  V10019   V6591  V39805  V43695   \n",
       "...       ...  ...     ...     ...     ...     ...     ...     ...     ...   \n",
       "19995  V52816  ...  V52816  V11838  V11822  V21368  V21316  V27062  V30882   \n",
       "19996  V22140  ...  V39846  V39858  V39836  V22931  V39836  V39858  V39847   \n",
       "19997  V24945  ...   V2899  V14785  V33490  V14785  V54389  V16770  V54389   \n",
       "19998    V963  ...   V2375  V21834  V49957  V42312  V43403  V42312  V25761   \n",
       "19999   V5200  ...   V2994  V29146  V18944  V11902  V24973  V18944  V18990   \n",
       "\n",
       "      node_18 node_19 node_20  \n",
       "0      V52086   V3776  V52086  \n",
       "1      V10357   V1643  V10357  \n",
       "2      V24552  V39846  V19576  \n",
       "3        V118  V52019  V20962  \n",
       "4      V33841  V33800  V51195  \n",
       "...       ...     ...     ...  \n",
       "19995  V27062  V27029  V19483  \n",
       "19996  V52354  V28837  V29961  \n",
       "19997  V16770  V14170  V45505  \n",
       "19998  V11841  V48797  V11841  \n",
       "19999  V19015  V19026  V18944  \n",
       "\n",
       "[20000 rows x 21 columns]"
      ]
     },
     "execution_count": 15,
     "metadata": {},
     "output_type": "execute_result"
    }
   ],
   "source": [
    "df_node_all"
   ]
  },
  {
   "cell_type": "code",
   "execution_count": 16,
   "metadata": {},
   "outputs": [
    {
     "data": {
      "text/html": [
       "<div>\n",
       "<style scoped>\n",
       "    .dataframe tbody tr th:only-of-type {\n",
       "        vertical-align: middle;\n",
       "    }\n",
       "\n",
       "    .dataframe tbody tr th {\n",
       "        vertical-align: top;\n",
       "    }\n",
       "\n",
       "    .dataframe thead th {\n",
       "        text-align: right;\n",
       "    }\n",
       "</style>\n",
       "<table border=\"1\" class=\"dataframe\">\n",
       "  <thead>\n",
       "    <tr style=\"text-align: right;\">\n",
       "      <th></th>\n",
       "      <th>Principle component 0</th>\n",
       "      <th>Principle component 1</th>\n",
       "      <th>Principle component 2</th>\n",
       "      <th>Principle component 3</th>\n",
       "      <th>Principle component 4</th>\n",
       "      <th>Principle component 5</th>\n",
       "      <th>Principle component 6</th>\n",
       "      <th>Principle component 7</th>\n",
       "      <th>Principle component 8</th>\n",
       "      <th>Principle component 9</th>\n",
       "      <th>...</th>\n",
       "      <th>Principle component 431</th>\n",
       "      <th>Principle component 432</th>\n",
       "      <th>Principle component 433</th>\n",
       "      <th>Principle component 434</th>\n",
       "      <th>Principle component 435</th>\n",
       "      <th>Principle component 436</th>\n",
       "      <th>Principle component 437</th>\n",
       "      <th>Principle component 438</th>\n",
       "      <th>Principle component 439</th>\n",
       "      <th>Principle component 440</th>\n",
       "    </tr>\n",
       "  </thead>\n",
       "  <tbody>\n",
       "    <tr>\n",
       "      <th>0</th>\n",
       "      <td>0.0</td>\n",
       "      <td>1.0</td>\n",
       "      <td>0.0</td>\n",
       "      <td>0.0</td>\n",
       "      <td>0.0</td>\n",
       "      <td>0.0</td>\n",
       "      <td>0.0</td>\n",
       "      <td>0.0</td>\n",
       "      <td>0.0</td>\n",
       "      <td>0.0</td>\n",
       "      <td>...</td>\n",
       "      <td>1.0</td>\n",
       "      <td>0.0</td>\n",
       "      <td>1.0</td>\n",
       "      <td>1.0</td>\n",
       "      <td>1.0</td>\n",
       "      <td>0.0</td>\n",
       "      <td>1.0</td>\n",
       "      <td>0.0</td>\n",
       "      <td>1.0</td>\n",
       "      <td>0.0</td>\n",
       "    </tr>\n",
       "    <tr>\n",
       "      <th>1</th>\n",
       "      <td>0.0</td>\n",
       "      <td>1.0</td>\n",
       "      <td>0.0</td>\n",
       "      <td>0.0</td>\n",
       "      <td>0.0</td>\n",
       "      <td>0.0</td>\n",
       "      <td>0.0</td>\n",
       "      <td>0.0</td>\n",
       "      <td>0.0</td>\n",
       "      <td>0.0</td>\n",
       "      <td>...</td>\n",
       "      <td>0.0</td>\n",
       "      <td>0.0</td>\n",
       "      <td>0.0</td>\n",
       "      <td>0.0</td>\n",
       "      <td>1.0</td>\n",
       "      <td>0.0</td>\n",
       "      <td>1.0</td>\n",
       "      <td>0.0</td>\n",
       "      <td>1.0</td>\n",
       "      <td>0.0</td>\n",
       "    </tr>\n",
       "    <tr>\n",
       "      <th>2</th>\n",
       "      <td>0.0</td>\n",
       "      <td>1.0</td>\n",
       "      <td>0.0</td>\n",
       "      <td>0.0</td>\n",
       "      <td>0.0</td>\n",
       "      <td>0.0</td>\n",
       "      <td>0.0</td>\n",
       "      <td>0.0</td>\n",
       "      <td>0.0</td>\n",
       "      <td>0.0</td>\n",
       "      <td>...</td>\n",
       "      <td>0.0</td>\n",
       "      <td>0.0</td>\n",
       "      <td>0.0</td>\n",
       "      <td>0.0</td>\n",
       "      <td>0.0</td>\n",
       "      <td>0.0</td>\n",
       "      <td>0.0</td>\n",
       "      <td>0.0</td>\n",
       "      <td>1.0</td>\n",
       "      <td>0.0</td>\n",
       "    </tr>\n",
       "    <tr>\n",
       "      <th>3</th>\n",
       "      <td>0.0</td>\n",
       "      <td>1.0</td>\n",
       "      <td>1.0</td>\n",
       "      <td>0.0</td>\n",
       "      <td>0.0</td>\n",
       "      <td>0.0</td>\n",
       "      <td>0.0</td>\n",
       "      <td>0.0</td>\n",
       "      <td>0.0</td>\n",
       "      <td>0.0</td>\n",
       "      <td>...</td>\n",
       "      <td>0.0</td>\n",
       "      <td>0.0</td>\n",
       "      <td>0.0</td>\n",
       "      <td>0.0</td>\n",
       "      <td>0.0</td>\n",
       "      <td>1.0</td>\n",
       "      <td>0.0</td>\n",
       "      <td>0.0</td>\n",
       "      <td>1.0</td>\n",
       "      <td>0.0</td>\n",
       "    </tr>\n",
       "    <tr>\n",
       "      <th>4</th>\n",
       "      <td>0.0</td>\n",
       "      <td>1.0</td>\n",
       "      <td>0.0</td>\n",
       "      <td>0.0</td>\n",
       "      <td>0.0</td>\n",
       "      <td>0.0</td>\n",
       "      <td>0.0</td>\n",
       "      <td>0.0</td>\n",
       "      <td>0.0</td>\n",
       "      <td>0.0</td>\n",
       "      <td>...</td>\n",
       "      <td>0.0</td>\n",
       "      <td>0.0</td>\n",
       "      <td>0.0</td>\n",
       "      <td>0.0</td>\n",
       "      <td>0.0</td>\n",
       "      <td>0.0</td>\n",
       "      <td>1.0</td>\n",
       "      <td>0.0</td>\n",
       "      <td>1.0</td>\n",
       "      <td>0.0</td>\n",
       "    </tr>\n",
       "    <tr>\n",
       "      <th>...</th>\n",
       "      <td>...</td>\n",
       "      <td>...</td>\n",
       "      <td>...</td>\n",
       "      <td>...</td>\n",
       "      <td>...</td>\n",
       "      <td>...</td>\n",
       "      <td>...</td>\n",
       "      <td>...</td>\n",
       "      <td>...</td>\n",
       "      <td>...</td>\n",
       "      <td>...</td>\n",
       "      <td>...</td>\n",
       "      <td>...</td>\n",
       "      <td>...</td>\n",
       "      <td>...</td>\n",
       "      <td>...</td>\n",
       "      <td>...</td>\n",
       "      <td>...</td>\n",
       "      <td>...</td>\n",
       "      <td>...</td>\n",
       "      <td>...</td>\n",
       "    </tr>\n",
       "    <tr>\n",
       "      <th>19995</th>\n",
       "      <td>0.0</td>\n",
       "      <td>1.0</td>\n",
       "      <td>0.0</td>\n",
       "      <td>0.0</td>\n",
       "      <td>0.0</td>\n",
       "      <td>0.0</td>\n",
       "      <td>0.0</td>\n",
       "      <td>0.0</td>\n",
       "      <td>0.0</td>\n",
       "      <td>0.0</td>\n",
       "      <td>...</td>\n",
       "      <td>0.0</td>\n",
       "      <td>0.0</td>\n",
       "      <td>0.0</td>\n",
       "      <td>0.0</td>\n",
       "      <td>0.0</td>\n",
       "      <td>0.0</td>\n",
       "      <td>0.0</td>\n",
       "      <td>0.0</td>\n",
       "      <td>1.0</td>\n",
       "      <td>0.0</td>\n",
       "    </tr>\n",
       "    <tr>\n",
       "      <th>19996</th>\n",
       "      <td>0.0</td>\n",
       "      <td>1.0</td>\n",
       "      <td>0.0</td>\n",
       "      <td>0.0</td>\n",
       "      <td>0.0</td>\n",
       "      <td>0.0</td>\n",
       "      <td>0.0</td>\n",
       "      <td>0.0</td>\n",
       "      <td>0.0</td>\n",
       "      <td>0.0</td>\n",
       "      <td>...</td>\n",
       "      <td>0.0</td>\n",
       "      <td>1.0</td>\n",
       "      <td>0.0</td>\n",
       "      <td>0.0</td>\n",
       "      <td>0.0</td>\n",
       "      <td>1.0</td>\n",
       "      <td>0.0</td>\n",
       "      <td>1.0</td>\n",
       "      <td>1.0</td>\n",
       "      <td>0.0</td>\n",
       "    </tr>\n",
       "    <tr>\n",
       "      <th>19997</th>\n",
       "      <td>0.0</td>\n",
       "      <td>1.0</td>\n",
       "      <td>0.0</td>\n",
       "      <td>1.0</td>\n",
       "      <td>0.0</td>\n",
       "      <td>0.0</td>\n",
       "      <td>0.0</td>\n",
       "      <td>0.0</td>\n",
       "      <td>0.0</td>\n",
       "      <td>0.0</td>\n",
       "      <td>...</td>\n",
       "      <td>0.0</td>\n",
       "      <td>0.0</td>\n",
       "      <td>0.0</td>\n",
       "      <td>0.0</td>\n",
       "      <td>0.0</td>\n",
       "      <td>0.0</td>\n",
       "      <td>0.0</td>\n",
       "      <td>0.0</td>\n",
       "      <td>1.0</td>\n",
       "      <td>0.0</td>\n",
       "    </tr>\n",
       "    <tr>\n",
       "      <th>19998</th>\n",
       "      <td>0.0</td>\n",
       "      <td>1.0</td>\n",
       "      <td>0.0</td>\n",
       "      <td>0.0</td>\n",
       "      <td>0.0</td>\n",
       "      <td>0.0</td>\n",
       "      <td>0.0</td>\n",
       "      <td>0.0</td>\n",
       "      <td>0.0</td>\n",
       "      <td>0.0</td>\n",
       "      <td>...</td>\n",
       "      <td>0.0</td>\n",
       "      <td>0.0</td>\n",
       "      <td>0.0</td>\n",
       "      <td>0.0</td>\n",
       "      <td>0.0</td>\n",
       "      <td>0.0</td>\n",
       "      <td>1.0</td>\n",
       "      <td>0.0</td>\n",
       "      <td>1.0</td>\n",
       "      <td>0.0</td>\n",
       "    </tr>\n",
       "    <tr>\n",
       "      <th>19999</th>\n",
       "      <td>0.0</td>\n",
       "      <td>1.0</td>\n",
       "      <td>0.0</td>\n",
       "      <td>0.0</td>\n",
       "      <td>0.0</td>\n",
       "      <td>0.0</td>\n",
       "      <td>0.0</td>\n",
       "      <td>0.0</td>\n",
       "      <td>0.0</td>\n",
       "      <td>0.0</td>\n",
       "      <td>...</td>\n",
       "      <td>0.0</td>\n",
       "      <td>1.0</td>\n",
       "      <td>0.0</td>\n",
       "      <td>1.0</td>\n",
       "      <td>1.0</td>\n",
       "      <td>0.0</td>\n",
       "      <td>1.0</td>\n",
       "      <td>1.0</td>\n",
       "      <td>1.0</td>\n",
       "      <td>0.0</td>\n",
       "    </tr>\n",
       "  </tbody>\n",
       "</table>\n",
       "<p>20000 rows × 441 columns</p>\n",
       "</div>"
      ],
      "text/plain": [
       "       Principle component 0  Principle component 1  Principle component 2  \\\n",
       "0                        0.0                    1.0                    0.0   \n",
       "1                        0.0                    1.0                    0.0   \n",
       "2                        0.0                    1.0                    0.0   \n",
       "3                        0.0                    1.0                    1.0   \n",
       "4                        0.0                    1.0                    0.0   \n",
       "...                      ...                    ...                    ...   \n",
       "19995                    0.0                    1.0                    0.0   \n",
       "19996                    0.0                    1.0                    0.0   \n",
       "19997                    0.0                    1.0                    0.0   \n",
       "19998                    0.0                    1.0                    0.0   \n",
       "19999                    0.0                    1.0                    0.0   \n",
       "\n",
       "       Principle component 3  Principle component 4  Principle component 5  \\\n",
       "0                        0.0                    0.0                    0.0   \n",
       "1                        0.0                    0.0                    0.0   \n",
       "2                        0.0                    0.0                    0.0   \n",
       "3                        0.0                    0.0                    0.0   \n",
       "4                        0.0                    0.0                    0.0   \n",
       "...                      ...                    ...                    ...   \n",
       "19995                    0.0                    0.0                    0.0   \n",
       "19996                    0.0                    0.0                    0.0   \n",
       "19997                    1.0                    0.0                    0.0   \n",
       "19998                    0.0                    0.0                    0.0   \n",
       "19999                    0.0                    0.0                    0.0   \n",
       "\n",
       "       Principle component 6  Principle component 7  Principle component 8  \\\n",
       "0                        0.0                    0.0                    0.0   \n",
       "1                        0.0                    0.0                    0.0   \n",
       "2                        0.0                    0.0                    0.0   \n",
       "3                        0.0                    0.0                    0.0   \n",
       "4                        0.0                    0.0                    0.0   \n",
       "...                      ...                    ...                    ...   \n",
       "19995                    0.0                    0.0                    0.0   \n",
       "19996                    0.0                    0.0                    0.0   \n",
       "19997                    0.0                    0.0                    0.0   \n",
       "19998                    0.0                    0.0                    0.0   \n",
       "19999                    0.0                    0.0                    0.0   \n",
       "\n",
       "       Principle component 9  ...  Principle component 431  \\\n",
       "0                        0.0  ...                      1.0   \n",
       "1                        0.0  ...                      0.0   \n",
       "2                        0.0  ...                      0.0   \n",
       "3                        0.0  ...                      0.0   \n",
       "4                        0.0  ...                      0.0   \n",
       "...                      ...  ...                      ...   \n",
       "19995                    0.0  ...                      0.0   \n",
       "19996                    0.0  ...                      0.0   \n",
       "19997                    0.0  ...                      0.0   \n",
       "19998                    0.0  ...                      0.0   \n",
       "19999                    0.0  ...                      0.0   \n",
       "\n",
       "       Principle component 432  Principle component 433  \\\n",
       "0                          0.0                      1.0   \n",
       "1                          0.0                      0.0   \n",
       "2                          0.0                      0.0   \n",
       "3                          0.0                      0.0   \n",
       "4                          0.0                      0.0   \n",
       "...                        ...                      ...   \n",
       "19995                      0.0                      0.0   \n",
       "19996                      1.0                      0.0   \n",
       "19997                      0.0                      0.0   \n",
       "19998                      0.0                      0.0   \n",
       "19999                      1.0                      0.0   \n",
       "\n",
       "       Principle component 434  Principle component 435  \\\n",
       "0                          1.0                      1.0   \n",
       "1                          0.0                      1.0   \n",
       "2                          0.0                      0.0   \n",
       "3                          0.0                      0.0   \n",
       "4                          0.0                      0.0   \n",
       "...                        ...                      ...   \n",
       "19995                      0.0                      0.0   \n",
       "19996                      0.0                      0.0   \n",
       "19997                      0.0                      0.0   \n",
       "19998                      0.0                      0.0   \n",
       "19999                      1.0                      1.0   \n",
       "\n",
       "       Principle component 436  Principle component 437  \\\n",
       "0                          0.0                      1.0   \n",
       "1                          0.0                      1.0   \n",
       "2                          0.0                      0.0   \n",
       "3                          1.0                      0.0   \n",
       "4                          0.0                      1.0   \n",
       "...                        ...                      ...   \n",
       "19995                      0.0                      0.0   \n",
       "19996                      1.0                      0.0   \n",
       "19997                      0.0                      0.0   \n",
       "19998                      0.0                      1.0   \n",
       "19999                      0.0                      1.0   \n",
       "\n",
       "       Principle component 438  Principle component 439  \\\n",
       "0                          0.0                      1.0   \n",
       "1                          0.0                      1.0   \n",
       "2                          0.0                      1.0   \n",
       "3                          0.0                      1.0   \n",
       "4                          0.0                      1.0   \n",
       "...                        ...                      ...   \n",
       "19995                      0.0                      1.0   \n",
       "19996                      1.0                      1.0   \n",
       "19997                      0.0                      1.0   \n",
       "19998                      0.0                      1.0   \n",
       "19999                      1.0                      1.0   \n",
       "\n",
       "       Principle component 440  \n",
       "0                          0.0  \n",
       "1                          0.0  \n",
       "2                          0.0  \n",
       "3                          0.0  \n",
       "4                          0.0  \n",
       "...                        ...  \n",
       "19995                      0.0  \n",
       "19996                      0.0  \n",
       "19997                      0.0  \n",
       "19998                      0.0  \n",
       "19999                      0.0  \n",
       "\n",
       "[20000 rows x 441 columns]"
      ]
     },
     "execution_count": 16,
     "metadata": {},
     "output_type": "execute_result"
    }
   ],
   "source": [
    "X_df"
   ]
  },
  {
   "cell_type": "markdown",
   "metadata": {},
   "source": [
    "## Map X_df / df_raw_data from 0/1 to genome location (i.e. the V_id)"
   ]
  },
  {
   "cell_type": "code",
   "execution_count": 17,
   "metadata": {},
   "outputs": [],
   "source": [
    "df_Vid_all = df_node_all.applymap(lambda x: int(x.strip('V')))"
   ]
  },
  {
   "cell_type": "code",
   "execution_count": 18,
   "metadata": {},
   "outputs": [
    {
     "data": {
      "text/plain": [
       "(1, 55795)"
      ]
     },
     "execution_count": 18,
     "metadata": {},
     "output_type": "execute_result"
    }
   ],
   "source": [
    "df_Vid_all.values.min(), df_Vid_all.values.max()"
   ]
  },
  {
   "cell_type": "code",
   "execution_count": 19,
   "metadata": {},
   "outputs": [],
   "source": [
    "def round_to_1_sig(x):\n",
    "    str_x = str(x)\n",
    "    if x == int(str_x[0] + '0' * (len(str_x) - 1)):\n",
    "        return x\n",
    "    else:\n",
    "        return (int(str_x[0]) + 1) * (10**(len(str_x) - 1))"
   ]
  },
  {
   "cell_type": "code",
   "execution_count": 20,
   "metadata": {},
   "outputs": [],
   "source": [
    "vid_lower_bound = 0\n",
    "vid_upper_bound = round_to_1_sig(df_Vid_all.values.max())"
   ]
  },
  {
   "cell_type": "code",
   "execution_count": 21,
   "metadata": {},
   "outputs": [
    {
     "data": {
      "text/plain": [
       "(0, 60000)"
      ]
     },
     "execution_count": 21,
     "metadata": {},
     "output_type": "execute_result"
    }
   ],
   "source": [
    "vid_lower_bound, vid_upper_bound"
   ]
  },
  {
   "cell_type": "code",
   "execution_count": 22,
   "metadata": {},
   "outputs": [],
   "source": [
    "def convert_row_in_adj_to_vid(adj_row, vid_row):\n",
    "    k = len(vid_row)\n",
    "    row_np = np.array(adj_row)\n",
    "    vid_np = np.array(vid_row)\n",
    "    \n",
    "    row_np = row_np.reshape(k, k)\n",
    "    new_row = row_np * vid_np\n",
    "    \n",
    "    return new_row.reshape(adj_row.shape)"
   ]
  },
  {
   "cell_type": "code",
   "execution_count": 23,
   "metadata": {},
   "outputs": [],
   "source": [
    "df_genome_mapped_X = X_df.copy()\n",
    "\n",
    "for idx in range(len(X_df)):\n",
    "    adj_row = X_df.iloc[idx]\n",
    "    vid_row = df_Vid_all.iloc[idx]\n",
    "    new_row = convert_row_in_adj_to_vid(adj_row, vid_row)\n",
    "    \n",
    "    df_genome_mapped_X.iloc[idx] = new_row"
   ]
  },
  {
   "cell_type": "code",
   "execution_count": 24,
   "metadata": {},
   "outputs": [
    {
     "data": {
      "text/html": [
       "<div>\n",
       "<style scoped>\n",
       "    .dataframe tbody tr th:only-of-type {\n",
       "        vertical-align: middle;\n",
       "    }\n",
       "\n",
       "    .dataframe tbody tr th {\n",
       "        vertical-align: top;\n",
       "    }\n",
       "\n",
       "    .dataframe thead th {\n",
       "        text-align: right;\n",
       "    }\n",
       "</style>\n",
       "<table border=\"1\" class=\"dataframe\">\n",
       "  <thead>\n",
       "    <tr style=\"text-align: right;\">\n",
       "      <th></th>\n",
       "      <th>Principle component 0</th>\n",
       "      <th>Principle component 1</th>\n",
       "      <th>Principle component 2</th>\n",
       "      <th>Principle component 3</th>\n",
       "      <th>Principle component 4</th>\n",
       "      <th>Principle component 5</th>\n",
       "      <th>Principle component 6</th>\n",
       "      <th>Principle component 7</th>\n",
       "      <th>Principle component 8</th>\n",
       "      <th>Principle component 9</th>\n",
       "      <th>...</th>\n",
       "      <th>Principle component 431</th>\n",
       "      <th>Principle component 432</th>\n",
       "      <th>Principle component 433</th>\n",
       "      <th>Principle component 434</th>\n",
       "      <th>Principle component 435</th>\n",
       "      <th>Principle component 436</th>\n",
       "      <th>Principle component 437</th>\n",
       "      <th>Principle component 438</th>\n",
       "      <th>Principle component 439</th>\n",
       "      <th>Principle component 440</th>\n",
       "    </tr>\n",
       "  </thead>\n",
       "  <tbody>\n",
       "    <tr>\n",
       "      <th>0</th>\n",
       "      <td>0.0</td>\n",
       "      <td>11842.0</td>\n",
       "      <td>0.0</td>\n",
       "      <td>0.0</td>\n",
       "      <td>0.0</td>\n",
       "      <td>0.0</td>\n",
       "      <td>0.0</td>\n",
       "      <td>0.0</td>\n",
       "      <td>0.0</td>\n",
       "      <td>0.0</td>\n",
       "      <td>...</td>\n",
       "      <td>52065.0</td>\n",
       "      <td>0.0</td>\n",
       "      <td>52065.0</td>\n",
       "      <td>5802.0</td>\n",
       "      <td>52058.0</td>\n",
       "      <td>0.0</td>\n",
       "      <td>52058.0</td>\n",
       "      <td>0.0</td>\n",
       "      <td>3776.0</td>\n",
       "      <td>0.0</td>\n",
       "    </tr>\n",
       "    <tr>\n",
       "      <th>1</th>\n",
       "      <td>0.0</td>\n",
       "      <td>22138.0</td>\n",
       "      <td>0.0</td>\n",
       "      <td>0.0</td>\n",
       "      <td>0.0</td>\n",
       "      <td>0.0</td>\n",
       "      <td>0.0</td>\n",
       "      <td>0.0</td>\n",
       "      <td>0.0</td>\n",
       "      <td>0.0</td>\n",
       "      <td>...</td>\n",
       "      <td>0.0</td>\n",
       "      <td>0.0</td>\n",
       "      <td>0.0</td>\n",
       "      <td>0.0</td>\n",
       "      <td>7865.0</td>\n",
       "      <td>0.0</td>\n",
       "      <td>19779.0</td>\n",
       "      <td>0.0</td>\n",
       "      <td>1643.0</td>\n",
       "      <td>0.0</td>\n",
       "    </tr>\n",
       "    <tr>\n",
       "      <th>2</th>\n",
       "      <td>0.0</td>\n",
       "      <td>8561.0</td>\n",
       "      <td>0.0</td>\n",
       "      <td>0.0</td>\n",
       "      <td>0.0</td>\n",
       "      <td>0.0</td>\n",
       "      <td>0.0</td>\n",
       "      <td>0.0</td>\n",
       "      <td>0.0</td>\n",
       "      <td>0.0</td>\n",
       "      <td>...</td>\n",
       "      <td>0.0</td>\n",
       "      <td>0.0</td>\n",
       "      <td>0.0</td>\n",
       "      <td>0.0</td>\n",
       "      <td>0.0</td>\n",
       "      <td>0.0</td>\n",
       "      <td>0.0</td>\n",
       "      <td>0.0</td>\n",
       "      <td>39846.0</td>\n",
       "      <td>0.0</td>\n",
       "    </tr>\n",
       "    <tr>\n",
       "      <th>3</th>\n",
       "      <td>0.0</td>\n",
       "      <td>55753.0</td>\n",
       "      <td>34853.0</td>\n",
       "      <td>0.0</td>\n",
       "      <td>0.0</td>\n",
       "      <td>0.0</td>\n",
       "      <td>0.0</td>\n",
       "      <td>0.0</td>\n",
       "      <td>0.0</td>\n",
       "      <td>0.0</td>\n",
       "      <td>...</td>\n",
       "      <td>0.0</td>\n",
       "      <td>0.0</td>\n",
       "      <td>0.0</td>\n",
       "      <td>0.0</td>\n",
       "      <td>0.0</td>\n",
       "      <td>52193.0</td>\n",
       "      <td>0.0</td>\n",
       "      <td>0.0</td>\n",
       "      <td>52019.0</td>\n",
       "      <td>0.0</td>\n",
       "    </tr>\n",
       "    <tr>\n",
       "      <th>4</th>\n",
       "      <td>0.0</td>\n",
       "      <td>32272.0</td>\n",
       "      <td>0.0</td>\n",
       "      <td>0.0</td>\n",
       "      <td>0.0</td>\n",
       "      <td>0.0</td>\n",
       "      <td>0.0</td>\n",
       "      <td>0.0</td>\n",
       "      <td>0.0</td>\n",
       "      <td>0.0</td>\n",
       "      <td>...</td>\n",
       "      <td>0.0</td>\n",
       "      <td>0.0</td>\n",
       "      <td>0.0</td>\n",
       "      <td>0.0</td>\n",
       "      <td>0.0</td>\n",
       "      <td>0.0</td>\n",
       "      <td>43695.0</td>\n",
       "      <td>0.0</td>\n",
       "      <td>33800.0</td>\n",
       "      <td>0.0</td>\n",
       "    </tr>\n",
       "    <tr>\n",
       "      <th>...</th>\n",
       "      <td>...</td>\n",
       "      <td>...</td>\n",
       "      <td>...</td>\n",
       "      <td>...</td>\n",
       "      <td>...</td>\n",
       "      <td>...</td>\n",
       "      <td>...</td>\n",
       "      <td>...</td>\n",
       "      <td>...</td>\n",
       "      <td>...</td>\n",
       "      <td>...</td>\n",
       "      <td>...</td>\n",
       "      <td>...</td>\n",
       "      <td>...</td>\n",
       "      <td>...</td>\n",
       "      <td>...</td>\n",
       "      <td>...</td>\n",
       "      <td>...</td>\n",
       "      <td>...</td>\n",
       "      <td>...</td>\n",
       "      <td>...</td>\n",
       "    </tr>\n",
       "    <tr>\n",
       "      <th>19995</th>\n",
       "      <td>0.0</td>\n",
       "      <td>42641.0</td>\n",
       "      <td>0.0</td>\n",
       "      <td>0.0</td>\n",
       "      <td>0.0</td>\n",
       "      <td>0.0</td>\n",
       "      <td>0.0</td>\n",
       "      <td>0.0</td>\n",
       "      <td>0.0</td>\n",
       "      <td>0.0</td>\n",
       "      <td>...</td>\n",
       "      <td>0.0</td>\n",
       "      <td>0.0</td>\n",
       "      <td>0.0</td>\n",
       "      <td>0.0</td>\n",
       "      <td>0.0</td>\n",
       "      <td>0.0</td>\n",
       "      <td>0.0</td>\n",
       "      <td>0.0</td>\n",
       "      <td>27029.0</td>\n",
       "      <td>0.0</td>\n",
       "    </tr>\n",
       "    <tr>\n",
       "      <th>19996</th>\n",
       "      <td>0.0</td>\n",
       "      <td>51377.0</td>\n",
       "      <td>0.0</td>\n",
       "      <td>0.0</td>\n",
       "      <td>0.0</td>\n",
       "      <td>0.0</td>\n",
       "      <td>0.0</td>\n",
       "      <td>0.0</td>\n",
       "      <td>0.0</td>\n",
       "      <td>0.0</td>\n",
       "      <td>...</td>\n",
       "      <td>0.0</td>\n",
       "      <td>39858.0</td>\n",
       "      <td>0.0</td>\n",
       "      <td>0.0</td>\n",
       "      <td>0.0</td>\n",
       "      <td>39858.0</td>\n",
       "      <td>0.0</td>\n",
       "      <td>52354.0</td>\n",
       "      <td>28837.0</td>\n",
       "      <td>0.0</td>\n",
       "    </tr>\n",
       "    <tr>\n",
       "      <th>19997</th>\n",
       "      <td>0.0</td>\n",
       "      <td>51377.0</td>\n",
       "      <td>0.0</td>\n",
       "      <td>51377.0</td>\n",
       "      <td>0.0</td>\n",
       "      <td>0.0</td>\n",
       "      <td>0.0</td>\n",
       "      <td>0.0</td>\n",
       "      <td>0.0</td>\n",
       "      <td>0.0</td>\n",
       "      <td>...</td>\n",
       "      <td>0.0</td>\n",
       "      <td>0.0</td>\n",
       "      <td>0.0</td>\n",
       "      <td>0.0</td>\n",
       "      <td>0.0</td>\n",
       "      <td>0.0</td>\n",
       "      <td>0.0</td>\n",
       "      <td>0.0</td>\n",
       "      <td>14170.0</td>\n",
       "      <td>0.0</td>\n",
       "    </tr>\n",
       "    <tr>\n",
       "      <th>19998</th>\n",
       "      <td>0.0</td>\n",
       "      <td>51377.0</td>\n",
       "      <td>0.0</td>\n",
       "      <td>0.0</td>\n",
       "      <td>0.0</td>\n",
       "      <td>0.0</td>\n",
       "      <td>0.0</td>\n",
       "      <td>0.0</td>\n",
       "      <td>0.0</td>\n",
       "      <td>0.0</td>\n",
       "      <td>...</td>\n",
       "      <td>0.0</td>\n",
       "      <td>0.0</td>\n",
       "      <td>0.0</td>\n",
       "      <td>0.0</td>\n",
       "      <td>0.0</td>\n",
       "      <td>0.0</td>\n",
       "      <td>25761.0</td>\n",
       "      <td>0.0</td>\n",
       "      <td>48797.0</td>\n",
       "      <td>0.0</td>\n",
       "    </tr>\n",
       "    <tr>\n",
       "      <th>19999</th>\n",
       "      <td>0.0</td>\n",
       "      <td>31378.0</td>\n",
       "      <td>0.0</td>\n",
       "      <td>0.0</td>\n",
       "      <td>0.0</td>\n",
       "      <td>0.0</td>\n",
       "      <td>0.0</td>\n",
       "      <td>0.0</td>\n",
       "      <td>0.0</td>\n",
       "      <td>0.0</td>\n",
       "      <td>...</td>\n",
       "      <td>0.0</td>\n",
       "      <td>29146.0</td>\n",
       "      <td>0.0</td>\n",
       "      <td>11902.0</td>\n",
       "      <td>24973.0</td>\n",
       "      <td>0.0</td>\n",
       "      <td>18990.0</td>\n",
       "      <td>19015.0</td>\n",
       "      <td>19026.0</td>\n",
       "      <td>0.0</td>\n",
       "    </tr>\n",
       "  </tbody>\n",
       "</table>\n",
       "<p>20000 rows × 441 columns</p>\n",
       "</div>"
      ],
      "text/plain": [
       "       Principle component 0  Principle component 1  Principle component 2  \\\n",
       "0                        0.0                11842.0                    0.0   \n",
       "1                        0.0                22138.0                    0.0   \n",
       "2                        0.0                 8561.0                    0.0   \n",
       "3                        0.0                55753.0                34853.0   \n",
       "4                        0.0                32272.0                    0.0   \n",
       "...                      ...                    ...                    ...   \n",
       "19995                    0.0                42641.0                    0.0   \n",
       "19996                    0.0                51377.0                    0.0   \n",
       "19997                    0.0                51377.0                    0.0   \n",
       "19998                    0.0                51377.0                    0.0   \n",
       "19999                    0.0                31378.0                    0.0   \n",
       "\n",
       "       Principle component 3  Principle component 4  Principle component 5  \\\n",
       "0                        0.0                    0.0                    0.0   \n",
       "1                        0.0                    0.0                    0.0   \n",
       "2                        0.0                    0.0                    0.0   \n",
       "3                        0.0                    0.0                    0.0   \n",
       "4                        0.0                    0.0                    0.0   \n",
       "...                      ...                    ...                    ...   \n",
       "19995                    0.0                    0.0                    0.0   \n",
       "19996                    0.0                    0.0                    0.0   \n",
       "19997                51377.0                    0.0                    0.0   \n",
       "19998                    0.0                    0.0                    0.0   \n",
       "19999                    0.0                    0.0                    0.0   \n",
       "\n",
       "       Principle component 6  Principle component 7  Principle component 8  \\\n",
       "0                        0.0                    0.0                    0.0   \n",
       "1                        0.0                    0.0                    0.0   \n",
       "2                        0.0                    0.0                    0.0   \n",
       "3                        0.0                    0.0                    0.0   \n",
       "4                        0.0                    0.0                    0.0   \n",
       "...                      ...                    ...                    ...   \n",
       "19995                    0.0                    0.0                    0.0   \n",
       "19996                    0.0                    0.0                    0.0   \n",
       "19997                    0.0                    0.0                    0.0   \n",
       "19998                    0.0                    0.0                    0.0   \n",
       "19999                    0.0                    0.0                    0.0   \n",
       "\n",
       "       Principle component 9  ...  Principle component 431  \\\n",
       "0                        0.0  ...                  52065.0   \n",
       "1                        0.0  ...                      0.0   \n",
       "2                        0.0  ...                      0.0   \n",
       "3                        0.0  ...                      0.0   \n",
       "4                        0.0  ...                      0.0   \n",
       "...                      ...  ...                      ...   \n",
       "19995                    0.0  ...                      0.0   \n",
       "19996                    0.0  ...                      0.0   \n",
       "19997                    0.0  ...                      0.0   \n",
       "19998                    0.0  ...                      0.0   \n",
       "19999                    0.0  ...                      0.0   \n",
       "\n",
       "       Principle component 432  Principle component 433  \\\n",
       "0                          0.0                  52065.0   \n",
       "1                          0.0                      0.0   \n",
       "2                          0.0                      0.0   \n",
       "3                          0.0                      0.0   \n",
       "4                          0.0                      0.0   \n",
       "...                        ...                      ...   \n",
       "19995                      0.0                      0.0   \n",
       "19996                  39858.0                      0.0   \n",
       "19997                      0.0                      0.0   \n",
       "19998                      0.0                      0.0   \n",
       "19999                  29146.0                      0.0   \n",
       "\n",
       "       Principle component 434  Principle component 435  \\\n",
       "0                       5802.0                  52058.0   \n",
       "1                          0.0                   7865.0   \n",
       "2                          0.0                      0.0   \n",
       "3                          0.0                      0.0   \n",
       "4                          0.0                      0.0   \n",
       "...                        ...                      ...   \n",
       "19995                      0.0                      0.0   \n",
       "19996                      0.0                      0.0   \n",
       "19997                      0.0                      0.0   \n",
       "19998                      0.0                      0.0   \n",
       "19999                  11902.0                  24973.0   \n",
       "\n",
       "       Principle component 436  Principle component 437  \\\n",
       "0                          0.0                  52058.0   \n",
       "1                          0.0                  19779.0   \n",
       "2                          0.0                      0.0   \n",
       "3                      52193.0                      0.0   \n",
       "4                          0.0                  43695.0   \n",
       "...                        ...                      ...   \n",
       "19995                      0.0                      0.0   \n",
       "19996                  39858.0                      0.0   \n",
       "19997                      0.0                      0.0   \n",
       "19998                      0.0                  25761.0   \n",
       "19999                      0.0                  18990.0   \n",
       "\n",
       "       Principle component 438  Principle component 439  \\\n",
       "0                          0.0                   3776.0   \n",
       "1                          0.0                   1643.0   \n",
       "2                          0.0                  39846.0   \n",
       "3                          0.0                  52019.0   \n",
       "4                          0.0                  33800.0   \n",
       "...                        ...                      ...   \n",
       "19995                      0.0                  27029.0   \n",
       "19996                  52354.0                  28837.0   \n",
       "19997                      0.0                  14170.0   \n",
       "19998                      0.0                  48797.0   \n",
       "19999                  19015.0                  19026.0   \n",
       "\n",
       "       Principle component 440  \n",
       "0                          0.0  \n",
       "1                          0.0  \n",
       "2                          0.0  \n",
       "3                          0.0  \n",
       "4                          0.0  \n",
       "...                        ...  \n",
       "19995                      0.0  \n",
       "19996                      0.0  \n",
       "19997                      0.0  \n",
       "19998                      0.0  \n",
       "19999                      0.0  \n",
       "\n",
       "[20000 rows x 441 columns]"
      ]
     },
     "execution_count": 24,
     "metadata": {},
     "output_type": "execute_result"
    }
   ],
   "source": [
    "df_genome_mapped_X"
   ]
  },
  {
   "cell_type": "markdown",
   "metadata": {},
   "source": [
    "-----\n",
    "## Draw one row"
   ]
  },
  {
   "cell_type": "code",
   "execution_count": 25,
   "metadata": {},
   "outputs": [],
   "source": [
    "def plot_one_row(ax, row, k = 21, threshold = 1, title = ''):\n",
    "    row_np = np.array(row)\n",
    "    if threshold is not None:\n",
    "        bin_row = (row_np >= threshold).astype(int)\n",
    "        bin_row_mat = bin_row.reshape(k, k)\n",
    "    else:\n",
    "        bin_row_mat = row_np.reshape(k, k)\n",
    "    \n",
    "    ax.imshow(bin_row_mat, cmap = 'Greys')\n",
    "    ax.set_title(title)\n",
    "    ax.set_xticks([])\n",
    "    ax.set_yticks([])\n",
    "    return bin_row_mat, ax\n",
    "\n",
    "def plot_one_color_row(ax, row, k = 21, title = '', vmin = 0, vmax = 1, cmap = 'rainbow'):\n",
    "    row_np = np.array(row)\n",
    "    \n",
    "    row_mat = row_np.reshape(k, k)\n",
    "    \n",
    "    ax.imshow(row_mat, cmap = cmap, vmin = vmin, vmax = vmax)\n",
    "    ax.set_title(title)\n",
    "    ax.set_xticks([])\n",
    "    ax.set_yticks([])\n",
    "    return row_mat, ax"
   ]
  },
  {
   "cell_type": "code",
   "execution_count": 26,
   "metadata": {},
   "outputs": [
    {
     "data": {
      "image/png": "[encoded data removed]",
      "text/plain": [
       "<Figure size 432x288 with 1 Axes>"
      ]
     },
     "metadata": {},
     "output_type": "display_data"
    }
   ],
   "source": [
    "fig = plt.figure()\n",
    "ax = fig.add_subplot(111)\n",
    "\n",
    "plot_one_row(ax, X_df.loc[5], title = 'row_5')\n",
    "plt.show()\n",
    "plt.close()"
   ]
  },
  {
   "cell_type": "code",
   "execution_count": 27,
   "metadata": {},
   "outputs": [
    {
     "data": {
      "image/png": "[encoded data removed]",
      "text/plain": [
       "<Figure size 432x288 with 1 Axes>"
      ]
     },
     "metadata": {},
     "output_type": "display_data"
    }
   ],
   "source": [
    "fig = plt.figure()\n",
    "ax = fig.add_subplot(111)\n",
    "\n",
    "plot_one_color_row(ax, df_genome_mapped_X.loc[5], title = 'row_5',\n",
    "            vmin = vid_lower_bound, vmax = vid_upper_bound)\n",
    "plt.show()\n",
    "plt.close()"
   ]
  },
  {
   "cell_type": "code",
   "execution_count": 28,
   "metadata": {},
   "outputs": [],
   "source": [
    "def plot_df_in_grid(df_in, grid_size = (2, 5), figsize = (10, 4), \n",
    "                    k = 21, threshold = 1, title_prefix = 'row', title = '', \n",
    "                   sub_titles = None, p2savefig = None):\n",
    "    fig = plt.figure(figsize = figsize)\n",
    "    axes = fig.subplots((*grid_size))\n",
    "    \n",
    "    for row_idx in range(grid_size[0]):\n",
    "        for col_idx in range(grid_size[1]):\n",
    "            ax = axes[row_idx][col_idx]\n",
    "            \n",
    "            idx = row_idx * grid_size[1] + col_idx\n",
    "            if idx < df_in.shape[0]:\n",
    "                cur_row = df_in.iloc[idx]\n",
    "            else:\n",
    "                cur_row = np.zeros_like(df_in.iloc[0].values)\n",
    "            \n",
    "            if sub_titles is None:\n",
    "                subtitle =  f'{title_prefix}_{idx}'\n",
    "            else:\n",
    "                if idx < len(sub_titles):\n",
    "                    subtitle = sub_titles[idx]\n",
    "                else:\n",
    "                    subtitle = ''\n",
    "                \n",
    "            plot_one_row(ax, cur_row, k = k, threshold= threshold, title = subtitle)\n",
    "    plt.suptitle(title, y = 1.05)\n",
    "    plt.tight_layout()\n",
    "    \n",
    "    if p2savefig is None:\n",
    "        plt.show()    \n",
    "        plt.close()\n",
    "    else:\n",
    "        plt.savefig(p2savefig)\n",
    "        plt.close()"
   ]
  },
  {
   "cell_type": "code",
   "execution_count": 29,
   "metadata": {},
   "outputs": [],
   "source": [
    "def plot_df_in_grid_color(df_in, grid_size = (2, 5), figsize = (10, 4), \n",
    "                    k = 21, threshold = 1, title_prefix = 'row', title = '', \n",
    "                    sub_titles = None, p2savefig = None, \n",
    "                    vmin = 0, vmax = 1, cmap = 'rainbow'):\n",
    "    \n",
    "    fig = plt.figure(figsize = figsize)\n",
    "    axes = fig.subplots((*grid_size))\n",
    "    \n",
    "    for row_idx in range(grid_size[0]):\n",
    "        for col_idx in range(grid_size[1]):\n",
    "            ax = axes[row_idx][col_idx]\n",
    "            \n",
    "            idx = row_idx * grid_size[1] + col_idx\n",
    "            if idx < df_in.shape[0]:\n",
    "                cur_row = df_in.iloc[idx]\n",
    "            else:\n",
    "                cur_row = np.zeros_like(df_in.iloc[0].values)\n",
    "            \n",
    "            if sub_titles is None:\n",
    "                subtitle =  f'{title_prefix}_{idx}'\n",
    "            else:\n",
    "                if idx < len(sub_titles):\n",
    "                    subtitle = sub_titles[idx]\n",
    "                else:\n",
    "                    subtitle = ''\n",
    "                \n",
    "            plot_one_row(ax, cur_row, k = k, threshold= threshold, title = subtitle)\n",
    "            plot_one_color_row(ax, cur_row, k = k, title = subtitle,\n",
    "                                vmin = vmin, vmax = vmax, cmap = cmap)\n",
    "            \n",
    "    plt.suptitle(title, y = 1.05)\n",
    "    plt.tight_layout()\n",
    "    \n",
    "    if p2savefig is None:\n",
    "        plt.show()    \n",
    "        plt.close()\n",
    "    else:\n",
    "        plt.savefig(p2savefig)\n",
    "        plt.close()"
   ]
  },
  {
   "cell_type": "code",
   "execution_count": 30,
   "metadata": {},
   "outputs": [
    {
     "data": {
      "image/png": "[encoded data removed]",
      "text/plain": [
       "<Figure size 720x288 with 10 Axes>"
      ]
     },
     "metadata": {},
     "output_type": "display_data"
    }
   ],
   "source": [
    "plot_df_in_grid(X_df.loc[np.random.choice(X_df.index, 10)], title_prefix= 'random_sample')"
   ]
  },
  {
   "cell_type": "code",
   "execution_count": 31,
   "metadata": {},
   "outputs": [
    {
     "data": {
      "image/png": "[encoded data removed]",
      "text/plain": [
       "<Figure size 720x288 with 10 Axes>"
      ]
     },
     "metadata": {},
     "output_type": "display_data"
    }
   ],
   "source": [
    "plot_df_in_grid_color(df_genome_mapped_X.loc[np.random.choice(X_df.index, 10)], title_prefix= 'random_sample', \n",
    "                     vmin = vid_lower_bound, vmax = vid_upper_bound, cmap = 'rainbow')"
   ]
  },
  {
   "cell_type": "markdown",
   "metadata": {},
   "source": [
    "# online cvxMF results"
   ]
  },
  {
   "cell_type": "code",
   "execution_count": 32,
   "metadata": {},
   "outputs": [
    {
     "data": {
      "text/plain": [
       "<AxesSubplot:>"
      ]
     },
     "execution_count": 32,
     "metadata": {},
     "output_type": "execute_result"
    },
    {
     "data": {
      "image/png": "[encoded data removed]",
      "text/plain": [
       "<Figure size 432x288 with 1 Axes>"
      ]
     },
     "metadata": {
      "needs_background": "light"
     },
     "output_type": "display_data"
    }
   ],
   "source": [
    "feature = [x for x in ocmf_dict.columns if 'label' not in x]\n",
    "ocmf_dict_val_df = ocmf_dict[feature]\n",
    "ocmf_dict_val_df.stack().hist()"
   ]
  },
  {
   "cell_type": "code",
   "execution_count": 33,
   "metadata": {},
   "outputs": [],
   "source": [
    "def get_importance_from_At(A_t):\n",
    "    diag = A_t.diagonal()\n",
    "    sum_diag = sum(diag)\n",
    "    score = diag / sum_diag\n",
    "    return score"
   ]
  },
  {
   "cell_type": "code",
   "execution_count": 34,
   "metadata": {},
   "outputs": [],
   "source": [
    "importance_score = get_importance_from_At(A_t)\n",
    "subtitles = [f'online cvxNDL\\n dictionaries {x}\\n score {importance_score[x]:.2f}' for x in range(ocmf_dict_val_df.shape[0])]"
   ]
  },
  {
   "cell_type": "code",
   "execution_count": 35,
   "metadata": {},
   "outputs": [],
   "source": [
    "descending_order_of_At = importance_score.argsort()[::-1]"
   ]
  },
  {
   "cell_type": "code",
   "execution_count": 36,
   "metadata": {},
   "outputs": [
    {
     "data": {
      "text/plain": [
       "array([0.12096325, 0.0854496 , 0.06633133, 0.06190048, 0.05944179,\n",
       "       0.04913104, 0.04908089, 0.04596245, 0.04592563, 0.04207648,\n",
       "       0.04138084, 0.04097711, 0.04035947, 0.03843759, 0.02936924,\n",
       "       0.02686638, 0.0224381 , 0.02103923, 0.01915691, 0.01742876,\n",
       "       0.0157028 , 0.01566862, 0.01557105, 0.01520762, 0.01413336])"
      ]
     },
     "execution_count": 36,
     "metadata": {},
     "output_type": "execute_result"
    }
   ],
   "source": [
    "importance_score[descending_order_of_At]"
   ]
  },
  {
   "cell_type": "markdown",
   "metadata": {},
   "source": [
    "## sorted dictionary by importance score"
   ]
  },
  {
   "cell_type": "code",
   "execution_count": 37,
   "metadata": {},
   "outputs": [],
   "source": [
    "sorted_ocmf_dict_val_df_by_At = ocmf_dict_val_df.loc[descending_order_of_At]\n",
    "sorted_subtitles_by_At = [subtitles[i] for i in descending_order_of_At]"
   ]
  },
  {
   "cell_type": "markdown",
   "metadata": {},
   "source": [
    "### raw dicitonaries "
   ]
  },
  {
   "cell_type": "code",
   "execution_count": 38,
   "metadata": {},
   "outputs": [
    {
     "data": {
      "image/png": "[encoded data removed]",
      "text/plain": [
       "<Figure size 720x720 with 25 Axes>"
      ]
     },
     "metadata": {},
     "output_type": "display_data"
    }
   ],
   "source": [
    "plot_df_in_grid(sorted_ocmf_dict_val_df_by_At, threshold = None, \n",
    "                grid_size = (5, 5), figsize = (10, 10),\n",
    "                sub_titles= sorted_subtitles_by_At,\n",
    "                title = f'online cvxNDL: {chromo}')"
   ]
  },
  {
   "cell_type": "markdown",
   "metadata": {},
   "source": [
    "## plot convex hull of representative regions"
   ]
  },
  {
   "cell_type": "code",
   "execution_count": 39,
   "metadata": {},
   "outputs": [],
   "source": [
    "def plot_cvx_hull(ax, df_in, weight = None, k = 21, title = ''):\n",
    "#     fig = plt.figure()\n",
    "#     ax = fig.subplots()\n",
    "    \n",
    "    if weight is None:\n",
    "        average_row = df_in.mean(axis = 0).values\n",
    "    else:\n",
    "        average_row = (df_in * weight.reshape(-1, 1)).sum(axis = 0).values\n",
    "    bin_row_mat = average_row.reshape(k, k)\n",
    "\n",
    "    ax.imshow(bin_row_mat, cmap = 'Greys')\n",
    "    ax.set_title(title)\n",
    "    ax.set_xticks([])\n",
    "    ax.set_yticks([])\n",
    "\n",
    "#     plt.show()\n",
    "#     plt.close()\n",
    "    return ax"
   ]
  },
  {
   "cell_type": "code",
   "execution_count": 40,
   "metadata": {},
   "outputs": [],
   "source": [
    "df_W_hat = pd.DataFrame(data = W_hat, columns = [f'w_cluster_{x}' for x in range(W_hat.shape[1])])"
   ]
  },
  {
   "cell_type": "code",
   "execution_count": 41,
   "metadata": {},
   "outputs": [
    {
     "data": {
      "text/html": [
       "<div>\n",
       "<style scoped>\n",
       "    .dataframe tbody tr th:only-of-type {\n",
       "        vertical-align: middle;\n",
       "    }\n",
       "\n",
       "    .dataframe tbody tr th {\n",
       "        vertical-align: top;\n",
       "    }\n",
       "\n",
       "    .dataframe thead th {\n",
       "        text-align: right;\n",
       "    }\n",
       "</style>\n",
       "<table border=\"1\" class=\"dataframe\">\n",
       "  <thead>\n",
       "    <tr style=\"text-align: right;\">\n",
       "      <th></th>\n",
       "      <th>w_cluster_0</th>\n",
       "      <th>w_cluster_1</th>\n",
       "      <th>w_cluster_2</th>\n",
       "      <th>w_cluster_3</th>\n",
       "      <th>w_cluster_4</th>\n",
       "      <th>w_cluster_5</th>\n",
       "      <th>w_cluster_6</th>\n",
       "      <th>w_cluster_7</th>\n",
       "      <th>w_cluster_8</th>\n",
       "      <th>w_cluster_9</th>\n",
       "      <th>...</th>\n",
       "      <th>w_cluster_15</th>\n",
       "      <th>w_cluster_16</th>\n",
       "      <th>w_cluster_17</th>\n",
       "      <th>w_cluster_18</th>\n",
       "      <th>w_cluster_19</th>\n",
       "      <th>w_cluster_20</th>\n",
       "      <th>w_cluster_21</th>\n",
       "      <th>w_cluster_22</th>\n",
       "      <th>w_cluster_23</th>\n",
       "      <th>w_cluster_24</th>\n",
       "    </tr>\n",
       "  </thead>\n",
       "  <tbody>\n",
       "    <tr>\n",
       "      <th>0</th>\n",
       "      <td>0.080788</td>\n",
       "      <td>0.0</td>\n",
       "      <td>0.0</td>\n",
       "      <td>0.0</td>\n",
       "      <td>0.0</td>\n",
       "      <td>0.0</td>\n",
       "      <td>0.0</td>\n",
       "      <td>0.0</td>\n",
       "      <td>0.0</td>\n",
       "      <td>0.0</td>\n",
       "      <td>...</td>\n",
       "      <td>0.0</td>\n",
       "      <td>0.0</td>\n",
       "      <td>0.0</td>\n",
       "      <td>0.0</td>\n",
       "      <td>0.0</td>\n",
       "      <td>0.0</td>\n",
       "      <td>0.0</td>\n",
       "      <td>0.0</td>\n",
       "      <td>0.0</td>\n",
       "      <td>0.000000</td>\n",
       "    </tr>\n",
       "    <tr>\n",
       "      <th>1</th>\n",
       "      <td>0.043183</td>\n",
       "      <td>0.0</td>\n",
       "      <td>0.0</td>\n",
       "      <td>0.0</td>\n",
       "      <td>0.0</td>\n",
       "      <td>0.0</td>\n",
       "      <td>0.0</td>\n",
       "      <td>0.0</td>\n",
       "      <td>0.0</td>\n",
       "      <td>0.0</td>\n",
       "      <td>...</td>\n",
       "      <td>0.0</td>\n",
       "      <td>0.0</td>\n",
       "      <td>0.0</td>\n",
       "      <td>0.0</td>\n",
       "      <td>0.0</td>\n",
       "      <td>0.0</td>\n",
       "      <td>0.0</td>\n",
       "      <td>0.0</td>\n",
       "      <td>0.0</td>\n",
       "      <td>0.000000</td>\n",
       "    </tr>\n",
       "    <tr>\n",
       "      <th>2</th>\n",
       "      <td>0.075435</td>\n",
       "      <td>0.0</td>\n",
       "      <td>0.0</td>\n",
       "      <td>0.0</td>\n",
       "      <td>0.0</td>\n",
       "      <td>0.0</td>\n",
       "      <td>0.0</td>\n",
       "      <td>0.0</td>\n",
       "      <td>0.0</td>\n",
       "      <td>0.0</td>\n",
       "      <td>...</td>\n",
       "      <td>0.0</td>\n",
       "      <td>0.0</td>\n",
       "      <td>0.0</td>\n",
       "      <td>0.0</td>\n",
       "      <td>0.0</td>\n",
       "      <td>0.0</td>\n",
       "      <td>0.0</td>\n",
       "      <td>0.0</td>\n",
       "      <td>0.0</td>\n",
       "      <td>0.000000</td>\n",
       "    </tr>\n",
       "    <tr>\n",
       "      <th>3</th>\n",
       "      <td>0.081475</td>\n",
       "      <td>0.0</td>\n",
       "      <td>0.0</td>\n",
       "      <td>0.0</td>\n",
       "      <td>0.0</td>\n",
       "      <td>0.0</td>\n",
       "      <td>0.0</td>\n",
       "      <td>0.0</td>\n",
       "      <td>0.0</td>\n",
       "      <td>0.0</td>\n",
       "      <td>...</td>\n",
       "      <td>0.0</td>\n",
       "      <td>0.0</td>\n",
       "      <td>0.0</td>\n",
       "      <td>0.0</td>\n",
       "      <td>0.0</td>\n",
       "      <td>0.0</td>\n",
       "      <td>0.0</td>\n",
       "      <td>0.0</td>\n",
       "      <td>0.0</td>\n",
       "      <td>0.000000</td>\n",
       "    </tr>\n",
       "    <tr>\n",
       "      <th>4</th>\n",
       "      <td>0.043903</td>\n",
       "      <td>0.0</td>\n",
       "      <td>0.0</td>\n",
       "      <td>0.0</td>\n",
       "      <td>0.0</td>\n",
       "      <td>0.0</td>\n",
       "      <td>0.0</td>\n",
       "      <td>0.0</td>\n",
       "      <td>0.0</td>\n",
       "      <td>0.0</td>\n",
       "      <td>...</td>\n",
       "      <td>0.0</td>\n",
       "      <td>0.0</td>\n",
       "      <td>0.0</td>\n",
       "      <td>0.0</td>\n",
       "      <td>0.0</td>\n",
       "      <td>0.0</td>\n",
       "      <td>0.0</td>\n",
       "      <td>0.0</td>\n",
       "      <td>0.0</td>\n",
       "      <td>0.000000</td>\n",
       "    </tr>\n",
       "    <tr>\n",
       "      <th>...</th>\n",
       "      <td>...</td>\n",
       "      <td>...</td>\n",
       "      <td>...</td>\n",
       "      <td>...</td>\n",
       "      <td>...</td>\n",
       "      <td>...</td>\n",
       "      <td>...</td>\n",
       "      <td>...</td>\n",
       "      <td>...</td>\n",
       "      <td>...</td>\n",
       "      <td>...</td>\n",
       "      <td>...</td>\n",
       "      <td>...</td>\n",
       "      <td>...</td>\n",
       "      <td>...</td>\n",
       "      <td>...</td>\n",
       "      <td>...</td>\n",
       "      <td>...</td>\n",
       "      <td>...</td>\n",
       "      <td>...</td>\n",
       "      <td>...</td>\n",
       "    </tr>\n",
       "    <tr>\n",
       "      <th>370</th>\n",
       "      <td>0.000000</td>\n",
       "      <td>0.0</td>\n",
       "      <td>0.0</td>\n",
       "      <td>0.0</td>\n",
       "      <td>0.0</td>\n",
       "      <td>0.0</td>\n",
       "      <td>0.0</td>\n",
       "      <td>0.0</td>\n",
       "      <td>0.0</td>\n",
       "      <td>0.0</td>\n",
       "      <td>...</td>\n",
       "      <td>0.0</td>\n",
       "      <td>0.0</td>\n",
       "      <td>0.0</td>\n",
       "      <td>0.0</td>\n",
       "      <td>0.0</td>\n",
       "      <td>0.0</td>\n",
       "      <td>0.0</td>\n",
       "      <td>0.0</td>\n",
       "      <td>0.0</td>\n",
       "      <td>0.096565</td>\n",
       "    </tr>\n",
       "    <tr>\n",
       "      <th>371</th>\n",
       "      <td>0.000000</td>\n",
       "      <td>0.0</td>\n",
       "      <td>0.0</td>\n",
       "      <td>0.0</td>\n",
       "      <td>0.0</td>\n",
       "      <td>0.0</td>\n",
       "      <td>0.0</td>\n",
       "      <td>0.0</td>\n",
       "      <td>0.0</td>\n",
       "      <td>0.0</td>\n",
       "      <td>...</td>\n",
       "      <td>0.0</td>\n",
       "      <td>0.0</td>\n",
       "      <td>0.0</td>\n",
       "      <td>0.0</td>\n",
       "      <td>0.0</td>\n",
       "      <td>0.0</td>\n",
       "      <td>0.0</td>\n",
       "      <td>0.0</td>\n",
       "      <td>0.0</td>\n",
       "      <td>0.135282</td>\n",
       "    </tr>\n",
       "    <tr>\n",
       "      <th>372</th>\n",
       "      <td>0.000000</td>\n",
       "      <td>0.0</td>\n",
       "      <td>0.0</td>\n",
       "      <td>0.0</td>\n",
       "      <td>0.0</td>\n",
       "      <td>0.0</td>\n",
       "      <td>0.0</td>\n",
       "      <td>0.0</td>\n",
       "      <td>0.0</td>\n",
       "      <td>0.0</td>\n",
       "      <td>...</td>\n",
       "      <td>0.0</td>\n",
       "      <td>0.0</td>\n",
       "      <td>0.0</td>\n",
       "      <td>0.0</td>\n",
       "      <td>0.0</td>\n",
       "      <td>0.0</td>\n",
       "      <td>0.0</td>\n",
       "      <td>0.0</td>\n",
       "      <td>0.0</td>\n",
       "      <td>0.092202</td>\n",
       "    </tr>\n",
       "    <tr>\n",
       "      <th>373</th>\n",
       "      <td>0.000000</td>\n",
       "      <td>0.0</td>\n",
       "      <td>0.0</td>\n",
       "      <td>0.0</td>\n",
       "      <td>0.0</td>\n",
       "      <td>0.0</td>\n",
       "      <td>0.0</td>\n",
       "      <td>0.0</td>\n",
       "      <td>0.0</td>\n",
       "      <td>0.0</td>\n",
       "      <td>...</td>\n",
       "      <td>0.0</td>\n",
       "      <td>0.0</td>\n",
       "      <td>0.0</td>\n",
       "      <td>0.0</td>\n",
       "      <td>0.0</td>\n",
       "      <td>0.0</td>\n",
       "      <td>0.0</td>\n",
       "      <td>0.0</td>\n",
       "      <td>0.0</td>\n",
       "      <td>0.056906</td>\n",
       "    </tr>\n",
       "    <tr>\n",
       "      <th>374</th>\n",
       "      <td>0.000000</td>\n",
       "      <td>0.0</td>\n",
       "      <td>0.0</td>\n",
       "      <td>0.0</td>\n",
       "      <td>0.0</td>\n",
       "      <td>0.0</td>\n",
       "      <td>0.0</td>\n",
       "      <td>0.0</td>\n",
       "      <td>0.0</td>\n",
       "      <td>0.0</td>\n",
       "      <td>...</td>\n",
       "      <td>0.0</td>\n",
       "      <td>0.0</td>\n",
       "      <td>0.0</td>\n",
       "      <td>0.0</td>\n",
       "      <td>0.0</td>\n",
       "      <td>0.0</td>\n",
       "      <td>0.0</td>\n",
       "      <td>0.0</td>\n",
       "      <td>0.0</td>\n",
       "      <td>0.081311</td>\n",
       "    </tr>\n",
       "  </tbody>\n",
       "</table>\n",
       "<p>375 rows × 25 columns</p>\n",
       "</div>"
      ],
      "text/plain": [
       "     w_cluster_0  w_cluster_1  w_cluster_2  w_cluster_3  w_cluster_4  \\\n",
       "0       0.080788          0.0          0.0          0.0          0.0   \n",
       "1       0.043183          0.0          0.0          0.0          0.0   \n",
       "2       0.075435          0.0          0.0          0.0          0.0   \n",
       "3       0.081475          0.0          0.0          0.0          0.0   \n",
       "4       0.043903          0.0          0.0          0.0          0.0   \n",
       "..           ...          ...          ...          ...          ...   \n",
       "370     0.000000          0.0          0.0          0.0          0.0   \n",
       "371     0.000000          0.0          0.0          0.0          0.0   \n",
       "372     0.000000          0.0          0.0          0.0          0.0   \n",
       "373     0.000000          0.0          0.0          0.0          0.0   \n",
       "374     0.000000          0.0          0.0          0.0          0.0   \n",
       "\n",
       "     w_cluster_5  w_cluster_6  w_cluster_7  w_cluster_8  w_cluster_9  ...  \\\n",
       "0            0.0          0.0          0.0          0.0          0.0  ...   \n",
       "1            0.0          0.0          0.0          0.0          0.0  ...   \n",
       "2            0.0          0.0          0.0          0.0          0.0  ...   \n",
       "3            0.0          0.0          0.0          0.0          0.0  ...   \n",
       "4            0.0          0.0          0.0          0.0          0.0  ...   \n",
       "..           ...          ...          ...          ...          ...  ...   \n",
       "370          0.0          0.0          0.0          0.0          0.0  ...   \n",
       "371          0.0          0.0          0.0          0.0          0.0  ...   \n",
       "372          0.0          0.0          0.0          0.0          0.0  ...   \n",
       "373          0.0          0.0          0.0          0.0          0.0  ...   \n",
       "374          0.0          0.0          0.0          0.0          0.0  ...   \n",
       "\n",
       "     w_cluster_15  w_cluster_16  w_cluster_17  w_cluster_18  w_cluster_19  \\\n",
       "0             0.0           0.0           0.0           0.0           0.0   \n",
       "1             0.0           0.0           0.0           0.0           0.0   \n",
       "2             0.0           0.0           0.0           0.0           0.0   \n",
       "3             0.0           0.0           0.0           0.0           0.0   \n",
       "4             0.0           0.0           0.0           0.0           0.0   \n",
       "..            ...           ...           ...           ...           ...   \n",
       "370           0.0           0.0           0.0           0.0           0.0   \n",
       "371           0.0           0.0           0.0           0.0           0.0   \n",
       "372           0.0           0.0           0.0           0.0           0.0   \n",
       "373           0.0           0.0           0.0           0.0           0.0   \n",
       "374           0.0           0.0           0.0           0.0           0.0   \n",
       "\n",
       "     w_cluster_20  w_cluster_21  w_cluster_22  w_cluster_23  w_cluster_24  \n",
       "0             0.0           0.0           0.0           0.0      0.000000  \n",
       "1             0.0           0.0           0.0           0.0      0.000000  \n",
       "2             0.0           0.0           0.0           0.0      0.000000  \n",
       "3             0.0           0.0           0.0           0.0      0.000000  \n",
       "4             0.0           0.0           0.0           0.0      0.000000  \n",
       "..            ...           ...           ...           ...           ...  \n",
       "370           0.0           0.0           0.0           0.0      0.096565  \n",
       "371           0.0           0.0           0.0           0.0      0.135282  \n",
       "372           0.0           0.0           0.0           0.0      0.092202  \n",
       "373           0.0           0.0           0.0           0.0      0.056906  \n",
       "374           0.0           0.0           0.0           0.0      0.081311  \n",
       "\n",
       "[375 rows x 25 columns]"
      ]
     },
     "execution_count": 41,
     "metadata": {},
     "output_type": "execute_result"
    }
   ],
   "source": [
    "df_W_hat"
   ]
  },
  {
   "cell_type": "code",
   "execution_count": 42,
   "metadata": {},
   "outputs": [
    {
     "data": {
      "text/plain": [
       "array([20, 12,  4,  2,  7, 14,  9,  8,  0,  1,  3, 21, 10,  5,  6, 19, 22,\n",
       "       11, 16, 24, 23, 15, 13, 17, 18])"
      ]
     },
     "execution_count": 42,
     "metadata": {},
     "output_type": "execute_result"
    }
   ],
   "source": [
    "descending_order_of_At"
   ]
  },
  {
   "cell_type": "markdown",
   "metadata": {},
   "source": [
    "# Get vid for each representatives"
   ]
  },
  {
   "cell_type": "code",
   "execution_count": 43,
   "metadata": {
    "scrolled": false
   },
   "outputs": [
    {
     "name": "stdout",
     "output_type": "stream",
     "text": [
      "cluster : 20\n"
     ]
    },
    {
     "data": {
      "image/png": "[encoded data removed]",
      "text/plain": [
       "<Figure size 216x216 with 1 Axes>"
      ]
     },
     "metadata": {},
     "output_type": "display_data"
    },
    {
     "name": "stdout",
     "output_type": "stream",
     "text": [
      "cluster : 12\n"
     ]
    },
    {
     "data": {
      "image/png": "[encoded data removed]",
      "text/plain": [
       "<Figure size 216x216 with 1 Axes>"
      ]
     },
     "metadata": {},
     "output_type": "display_data"
    },
    {
     "name": "stdout",
     "output_type": "stream",
     "text": [
      "cluster : 4\n"
     ]
    },
    {
     "data": {
      "image/png": "[encoded data removed]",
      "text/plain": [
       "<Figure size 216x216 with 1 Axes>"
      ]
     },
     "metadata": {},
     "output_type": "display_data"
    },
    {
     "name": "stdout",
     "output_type": "stream",
     "text": [
      "cluster : 2\n"
     ]
    },
    {
     "data": {
      "image/png": "[encoded data removed]",
      "text/plain": [
       "<Figure size 216x216 with 1 Axes>"
      ]
     },
     "metadata": {},
     "output_type": "display_data"
    },
    {
     "name": "stdout",
     "output_type": "stream",
     "text": [
      "cluster : 7\n"
     ]
    },
    {
     "data": {
      "image/png": "[encoded data removed]",
      "text/plain": [
       "<Figure size 216x216 with 1 Axes>"
      ]
     },
     "metadata": {},
     "output_type": "display_data"
    },
    {
     "name": "stdout",
     "output_type": "stream",
     "text": [
      "cluster : 14\n"
     ]
    },
    {
     "data": {
      "image/png": "[encoded data removed]",
      "text/plain": [
       "<Figure size 216x216 with 1 Axes>"
      ]
     },
     "metadata": {},
     "output_type": "display_data"
    },
    {
     "name": "stdout",
     "output_type": "stream",
     "text": [
      "cluster : 9\n"
     ]
    },
    {
     "data": {
      "image/png": "[encoded data removed]",
      "text/plain": [
       "<Figure size 216x216 with 1 Axes>"
      ]
     },
     "metadata": {},
     "output_type": "display_data"
    },
    {
     "name": "stdout",
     "output_type": "stream",
     "text": [
      "cluster : 8\n"
     ]
    },
    {
     "data": {
      "image/png": "[encoded data removed]",
      "text/plain": [
       "<Figure size 216x216 with 1 Axes>"
      ]
     },
     "metadata": {},
     "output_type": "display_data"
    },
    {
     "name": "stdout",
     "output_type": "stream",
     "text": [
      "cluster : 0\n"
     ]
    },
    {
     "data": {
      "image/png": "[encoded data removed]",
      "text/plain": [
       "<Figure size 216x216 with 1 Axes>"
      ]
     },
     "metadata": {},
     "output_type": "display_data"
    },
    {
     "name": "stdout",
     "output_type": "stream",
     "text": [
      "cluster : 1\n"
     ]
    },
    {
     "data": {
      "image/png": "[encoded data removed]",
      "text/plain": [
       "<Figure size 216x216 with 1 Axes>"
      ]
     },
     "metadata": {},
     "output_type": "display_data"
    },
    {
     "name": "stdout",
     "output_type": "stream",
     "text": [
      "cluster : 3\n"
     ]
    },
    {
     "data": {
      "image/png": "[encoded data removed]",
      "text/plain": [
       "<Figure size 216x216 with 1 Axes>"
      ]
     },
     "metadata": {},
     "output_type": "display_data"
    },
    {
     "name": "stdout",
     "output_type": "stream",
     "text": [
      "cluster : 21\n"
     ]
    },
    {
     "data": {
      "image/png": "[encoded data removed]",
      "text/plain": [
       "<Figure size 216x216 with 1 Axes>"
      ]
     },
     "metadata": {},
     "output_type": "display_data"
    },
    {
     "name": "stdout",
     "output_type": "stream",
     "text": [
      "cluster : 10\n"
     ]
    },
    {
     "data": {
      "image/png": "[encoded data removed]",
      "text/plain": [
       "<Figure size 216x216 with 1 Axes>"
      ]
     },
     "metadata": {},
     "output_type": "display_data"
    },
    {
     "name": "stdout",
     "output_type": "stream",
     "text": [
      "cluster : 5\n"
     ]
    },
    {
     "data": {
      "image/png": "[encoded data removed]",
      "text/plain": [
       "<Figure size 216x216 with 1 Axes>"
      ]
     },
     "metadata": {},
     "output_type": "display_data"
    },
    {
     "name": "stdout",
     "output_type": "stream",
     "text": [
      "cluster : 6\n"
     ]
    },
    {
     "data": {
      "image/png": "[encoded data removed]",
      "text/plain": [
       "<Figure size 216x216 with 1 Axes>"
      ]
     },
     "metadata": {},
     "output_type": "display_data"
    },
    {
     "name": "stdout",
     "output_type": "stream",
     "text": [
      "cluster : 19\n"
     ]
    },
    {
     "data": {
      "image/png": "[encoded data removed]",
      "text/plain": [
       "<Figure size 216x216 with 1 Axes>"
      ]
     },
     "metadata": {},
     "output_type": "display_data"
    },
    {
     "name": "stdout",
     "output_type": "stream",
     "text": [
      "cluster : 22\n"
     ]
    },
    {
     "data": {
      "image/png": "[encoded data removed]",
      "text/plain": [
       "<Figure size 216x216 with 1 Axes>"
      ]
     },
     "metadata": {},
     "output_type": "display_data"
    },
    {
     "name": "stdout",
     "output_type": "stream",
     "text": [
      "cluster : 11\n"
     ]
    },
    {
     "data": {
      "image/png": "[encoded data removed]",
      "text/plain": [
       "<Figure size 216x216 with 1 Axes>"
      ]
     },
     "metadata": {},
     "output_type": "display_data"
    },
    {
     "name": "stdout",
     "output_type": "stream",
     "text": [
      "cluster : 16\n"
     ]
    },
    {
     "data": {
      "image/png": "[encoded data removed]",
      "text/plain": [
       "<Figure size 216x216 with 1 Axes>"
      ]
     },
     "metadata": {},
     "output_type": "display_data"
    },
    {
     "name": "stdout",
     "output_type": "stream",
     "text": [
      "cluster : 24\n"
     ]
    },
    {
     "data": {
      "image/png": "[encoded data removed]",
      "text/plain": [
       "<Figure size 216x216 with 1 Axes>"
      ]
     },
     "metadata": {},
     "output_type": "display_data"
    },
    {
     "name": "stdout",
     "output_type": "stream",
     "text": [
      "cluster : 23\n"
     ]
    },
    {
     "data": {
      "image/png": "[encoded data removed]",
      "text/plain": [
       "<Figure size 216x216 with 1 Axes>"
      ]
     },
     "metadata": {},
     "output_type": "display_data"
    },
    {
     "name": "stdout",
     "output_type": "stream",
     "text": [
      "cluster : 15\n"
     ]
    },
    {
     "data": {
      "image/png": "[encoded data removed]",
      "text/plain": [
       "<Figure size 216x216 with 1 Axes>"
      ]
     },
     "metadata": {},
     "output_type": "display_data"
    },
    {
     "name": "stdout",
     "output_type": "stream",
     "text": [
      "cluster : 13\n"
     ]
    },
    {
     "data": {
      "image/png": "[encoded data removed]",
      "text/plain": [
       "<Figure size 216x216 with 1 Axes>"
      ]
     },
     "metadata": {},
     "output_type": "display_data"
    },
    {
     "name": "stdout",
     "output_type": "stream",
     "text": [
      "cluster : 17\n"
     ]
    },
    {
     "data": {
      "image/png": "[encoded data removed]",
      "text/plain": [
       "<Figure size 216x216 with 1 Axes>"
      ]
     },
     "metadata": {},
     "output_type": "display_data"
    },
    {
     "name": "stdout",
     "output_type": "stream",
     "text": [
      "cluster : 18\n"
     ]
    },
    {
     "data": {
      "image/png": "[encoded data removed]",
      "text/plain": [
       "<Figure size 216x216 with 1 Axes>"
      ]
     },
     "metadata": {},
     "output_type": "display_data"
    }
   ],
   "source": [
    "# fig = plt.figure(figsize = (20, 16))\n",
    "# axes = fig.subplots(5, 5)\n",
    "\n",
    "for ax_idx, cluster in enumerate(descending_order_of_At):\n",
    "    cur_importance_score = importance_score[cluster]\n",
    "    # get current dictionary row from for the current cluster with descending importance score.\n",
    "    dict_row = ocmf_dict[ocmf_dict.label == f'ocmf: type {cluster + 1}']\n",
    "    dict_row = dict_row[feature]\n",
    "    \n",
    "    # get representative regions for the current cluster.\n",
    "    cur_label = f'group {cluster}'\n",
    "    df_rep_val_df = rep_region[rep_region.label == cur_label].drop(columns = ['label'])\n",
    "    \n",
    "    # Find convex weight for each rep. in the corresponding column of cvx_weight, and the selected \n",
    "    # representative rows. \n",
    "    # df_W_hat is a column vector matrix. Each column is the weight for a cluster.\n",
    "    cvx_weight = df_W_hat[rep_region.label == cur_label].values[:, cluster]\n",
    "    descending_order_cvx_weight = cvx_weight.argsort()[::-1]\n",
    "    \n",
    "    # sort representative by their cvx weights. \n",
    "    sorted_df_rep_val_df_by_cvx_weight = df_rep_val_df.iloc[descending_order_cvx_weight]\n",
    "    print('cluster :', cluster)\n",
    "    \n",
    "    recon_dict_row = np.zeros_like(dict_row.values)\n",
    "    colormapped_dict_row = np.zeros_like(recon_dict_row)\n",
    "    \n",
    "    for idx, (_, row) in enumerate(sorted_df_rep_val_df_by_cvx_weight.iterrows()):\n",
    "\n",
    "        row_in = row.values\n",
    "        cur_rep_idx = descending_order_cvx_weight[idx]\n",
    "        cur_weight = cvx_weight[cur_rep_idx]\n",
    "        \n",
    "#         print('-' * 7, f'cluster {cluster}, rep {cur_rep_idx}, pos in {idx}', '-' * 7)\n",
    "        \n",
    "        if warning_flag:\n",
    "            # even though used old dataset, try to find if matching in new dataset exists.\n",
    "            # always true: df_raw_data == X_df != df_raw_data_matched_emb\n",
    "            sample_idx_in_subgraphs = (df_raw_data_matched_emb == row_in).all(axis = 1)\n",
    "            samples_from_df_raw_data = df_raw_data_matched_emb.loc[sample_idx_in_subgraphs]\n",
    "            \n",
    "            if len(samples_from_df_raw_data) == 0:\n",
    "#                 print('no match of row adj in new dataset with embedding. Use OLD dataset')\n",
    "                sample_idx_in_subgraphs = (df_raw_data == row_in).all(axis = 1)\n",
    "                samples_from_df_raw_data = df_raw_data.loc[sample_idx_in_subgraphs]\n",
    "                \n",
    "            \n",
    "        else:\n",
    "            # no warning sign. we are using new dataset so there is no error.\n",
    "            # df_raw_data == X_df == df_raw_data_matched_emb.\n",
    "            sample_idx_in_subgraphs = (df_raw_data == row_in).all(axis = 1)\n",
    "            samples_from_df_raw_data = df_raw_data.loc[sample_idx_in_subgraphs]\n",
    "        \n",
    "        # In case there are multiple samples with same weight matrices, select the first one.\n",
    "        samples_from_df_raw_data = samples_from_df_raw_data.iloc[0]\n",
    "        \n",
    "        \n",
    "        # Get node embeddings. \n",
    "        node_embedding_of_samples = df_node_all.loc[sample_idx_in_subgraphs].iloc[0].values\n",
    "        \n",
    "    \n",
    "        # map current rep adjacency to genome id. \n",
    "        VID_of_samples = [int(x.strip('V')) for x in node_embedding_of_samples]\n",
    "        genome_id_mapped_rep_row = convert_row_in_adj_to_vid(row_in, VID_of_samples)\n",
    "        \n",
    "        # recompute the cvx combination of rep and its color-coded vid. \n",
    "        cur_cvx_weight = cvx_weight[descending_order_cvx_weight][idx]\n",
    "        recon_dict_row += cur_cvx_weight * row_in \n",
    "        colormapped_dict_row += cur_cvx_weight * genome_id_mapped_rep_row\n",
    "        \n",
    "    if not np.isclose(recon_dict_row, dict_row.values).all():\n",
    "        break\n",
    "    else:\n",
    "#         ax_row, ax_col = ax_idx // 5, ax_idx % 5\n",
    "#         cur_ax = axes[ax_row, ax_col]\n",
    "        \n",
    "        fig = plt.figure(figsize = (3, 3))\n",
    "        cur_ax = fig.add_subplot(111)\n",
    "        plot_one_color_row(cur_ax, colormapped_dict_row, \n",
    "                           title = f'dict_elem:{cluster}\\nScore:{cur_importance_score:.3f}',\n",
    "                            vmin = vid_lower_bound, vmax = vid_upper_bound)\n",
    "        plt.show()\n",
    "        plt.close()\n",
    "        \n",
    "        \n",
    "#         break\n",
    "#     break\n",
    "    \n",
    "    "
   ]
  },
  {
   "cell_type": "code",
   "execution_count": 44,
   "metadata": {},
   "outputs": [
    {
     "data": {
      "image/png": "[encoded data removed]",
      "text/plain": [
       "<Figure size 432x288 with 2 Axes>"
      ]
     },
     "metadata": {
      "needs_background": "light"
     },
     "output_type": "display_data"
    }
   ],
   "source": [
    "dummy_colorbar = np.array([vid_lower_bound, vid_upper_bound] * 2).reshape((2, 2))\n",
    "plt.imshow(dummy_colorbar)\n",
    "\n",
    "plt.subplots_adjust(bottom=0.1, right=0.8, top=0.9)\n",
    "cax = plt.axes([0.85, 0.1, 0.075, 0.8])\n",
    "plt.colorbar(cax=cax)\n",
    "plt.show()"
   ]
  },
  {
   "cell_type": "code",
   "execution_count": 45,
   "metadata": {},
   "outputs": [
    {
     "data": {
      "image/png": "[encoded data removed]",
      "text/plain": [
       "<Figure size 720x720 with 25 Axes>"
      ]
     },
     "metadata": {},
     "output_type": "display_data"
    }
   ],
   "source": [
    "plot_df_in_grid(sorted_ocmf_dict_val_df_by_At, threshold = None, \n",
    "                grid_size = (5, 5), figsize = (10, 10),\n",
    "                sub_titles= sorted_subtitles_by_At,\n",
    "                title = f'online cvxNDL: {chromo}')"
   ]
  },
  {
   "cell_type": "code",
   "execution_count": null,
   "metadata": {},
   "outputs": [],
   "source": []
  }
 ],
 "metadata": {
  "kernelspec": {
   "display_name": "Python 3",
   "language": "python",
   "name": "python3"
  },
  "language_info": {
   "codemirror_mode": {
    "name": "ipython",
    "version": 3
   },
   "file_extension": ".py",
   "mimetype": "text/x-python",
   "name": "python",
   "nbconvert_exporter": "python",
   "pygments_lexer": "ipython3",
   "version": "3.8.5"
  },
  "varInspector": {
   "cols": {
    "lenName": 16,
    "lenType": 16,
    "lenVar": 40
   },
   "kernels_config": {
    "python": {
     "delete_cmd_postfix": "",
     "delete_cmd_prefix": "del ",
     "library": "var_list.py",
     "varRefreshCmd": "print(var_dic_list())"
    },
    "r": {
     "delete_cmd_postfix": ") ",
     "delete_cmd_prefix": "rm(",
     "library": "var_list.r",
     "varRefreshCmd": "cat(var_dic_list()) "
    }
   },
   "types_to_exclude": [
    "module",
    "function",
    "builtin_function_or_method",
    "instance",
    "_Feature"
   ],
   "window_display": false
  }
 },
 "nbformat": 4,
 "nbformat_minor": 4
}
